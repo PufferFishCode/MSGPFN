{
 "cells": [
  {
   "cell_type": "code",
   "execution_count": 3,
   "metadata": {
    "ExecuteTime": {
     "end_time": "2023-07-18T09:01:44.255295Z",
     "start_time": "2023-07-18T09:01:44.246103Z"
    }
   },
   "outputs": [],
   "source": [
    "import sys\n",
    "sys.path.insert(0, '../')"
   ]
  },
  {
   "cell_type": "code",
   "execution_count": 4,
   "metadata": {
    "ExecuteTime": {
     "end_time": "2023-07-18T09:01:46.105260Z",
     "start_time": "2023-07-18T09:01:44.963024Z"
    }
   },
   "outputs": [],
   "source": [
    "import matplotlib.pyplot as plt\n",
    "\n",
    "from scripts import tabular_baselines\n",
    "\n",
    "import seaborn as sns\n",
    "import numpy as np\n",
    "\n",
    "from datasets import load_openml_list, valid_dids_classification, test_dids_classification, open_cc_dids\n",
    "from scripts.tabular_baselines import *\n",
    "from scripts.tabular_evaluation import evaluate\n",
    "from scripts.tabular_metrics import calculate_score, make_ranks_and_wins_table, make_metric_matrix\n",
    "from scripts import tabular_metrics"
   ]
  },
  {
   "cell_type": "code",
   "execution_count": 5,
   "metadata": {
    "ExecuteTime": {
     "end_time": "2023-07-18T09:01:46.957360Z",
     "start_time": "2023-07-18T09:01:46.938364Z"
    }
   },
   "outputs": [],
   "source": [
    "from notebook_utils import *"
   ]
  },
  {
   "cell_type": "code",
   "execution_count": 6,
   "metadata": {
    "ExecuteTime": {
     "end_time": "2023-07-18T09:01:48.432049Z",
     "start_time": "2023-07-18T09:01:48.273143Z"
    }
   },
   "outputs": [],
   "source": [
    "%load_ext autoreload\n",
    "\n",
    "%autoreload 2"
   ]
  },
  {
   "cell_type": "markdown",
   "metadata": {
    "tags": []
   },
   "source": [
    "# Datasets"
   ]
  },
  {
   "cell_type": "code",
   "execution_count": 7,
   "metadata": {
    "ExecuteTime": {
     "end_time": "2023-07-18T09:01:54.096670Z",
     "start_time": "2023-07-18T09:01:51.782662Z"
    },
    "scrolled": true,
    "tags": []
   },
   "outputs": [
    {
     "name": "stdout",
     "output_type": "stream",
     "text": [
      "Number of datasets: 30\n",
      "Loading balance-scale 11 ..\n",
      "Loading mfeat-fourier 14 ..\n",
      "Loading breast-w 15 ..\n",
      "Loading mfeat-karhunen 16 ..\n",
      "Loading mfeat-morphological 18 ..\n",
      "Loading mfeat-zernike 22 ..\n",
      "Loading cmc 23 ..\n",
      "Loading credit-approval 29 ..\n",
      "Loading credit-g 31 ..\n",
      "Loading diabetes 37 ..\n",
      "Loading tic-tac-toe 50 ..\n",
      "Loading vehicle 54 ..\n",
      "Loading eucalyptus 188 ..\n",
      "Loading analcatdata_authorship 458 ..\n",
      "Loading analcatdata_dmft 469 ..\n",
      "Loading pc4 1049 ..\n",
      "Loading pc3 1050 ..\n",
      "Loading kc2 1063 ..\n",
      "Loading pc1 1068 ..\n",
      "Loading banknote-authentication 1462 ..\n",
      "Loading blood-transfusion-service-center 1464 ..\n",
      "Loading ilpd 1480 ..\n",
      "Loading qsar-biodeg 1494 ..\n",
      "Loading wdbc 1510 ..\n",
      "Loading cylinder-bands 6332 ..\n",
      "Loading dresses-sales 23381 ..\n",
      "Loading MiceProtein 40966 ..\n",
      "Loading car 40975 ..\n",
      "Loading steel-plates-fault 40982 ..\n",
      "Loading climate-model-simulation-crashes 40994 ..\n"
     ]
    }
   ],
   "source": [
    "cc_test_datasets_multiclass, cc_test_datasets_multiclass_df = load_openml_list(open_cc_dids, multiclass=True, shuffled=True, filter_for_nan=False, max_samples = 10000, num_feats=100, return_capped=True)\n"
   ]
  },
  {
   "cell_type": "code",
   "execution_count": 8,
   "metadata": {
    "ExecuteTime": {
     "end_time": "2023-07-18T09:02:03.715891Z",
     "start_time": "2023-07-18T09:02:03.565349Z"
    }
   },
   "outputs": [],
   "source": [
    "def get_datasets(selector, task_type, suite='openml'):\n",
    "    if task_type == 'binary':\n",
    "        ds = valid_datasets_binary if selector == 'valid' else test_datasets_binary\n",
    "    else:\n",
    "        if suite == 'openml':\n",
    "            ds = valid_datasets_multiclass if selector == 'valid' else test_datasets_multiclass\n",
    "        elif suite == 'cc':\n",
    "            ds = valid_datasets_multiclass if selector == 'valid' else cc_test_datasets_multiclass\n",
    "        else:\n",
    "            raise Exception(\"Unknown suite\")\n",
    "    return ds"
   ]
  },
  {
   "cell_type": "markdown",
   "metadata": {
    "tags": []
   },
   "source": [
    "# Setting params"
   ]
  },
  {
   "cell_type": "code",
   "execution_count": 9,
   "metadata": {
    "ExecuteTime": {
     "end_time": "2023-07-18T09:02:16.867349Z",
     "start_time": "2023-07-18T09:02:16.724801Z"
    }
   },
   "outputs": [],
   "source": [
    "eval_positions = [1000]\n",
    "max_features = 100\n",
    "bptt = 2000\n",
    "selector = 'test'\n",
    "base_path = os.path.join('.')\n",
    "overwrite=False\n",
    "max_times = [0.5, 1, 15, 30, 60, 60*5, 60*15, 60*60]\n",
    "metric_used = tabular_metrics.auc_metric\n",
    "methods = ['transformer', 'logistic', 'gp', 'knn', 'catboost', 'xgb', 'autosklearn2', 'autogluon']\n",
    "task_type = 'multiclass'"
   ]
  },
  {
   "cell_type": "code",
   "execution_count": 10,
   "metadata": {
    "ExecuteTime": {
     "end_time": "2023-07-18T09:02:36.134655Z",
     "start_time": "2023-07-18T09:02:35.986808Z"
    }
   },
   "outputs": [],
   "source": [
    "suite = 'cc'\n",
    "test_datasets = get_datasets('test',task_type, suite=suite)"
   ]
  },
  {
   "cell_type": "code",
   "execution_count": 12,
   "metadata": {
    "ExecuteTime": {
     "end_time": "2023-07-18T09:05:59.089245Z",
     "start_time": "2023-07-18T09:05:58.918915Z"
    }
   },
   "outputs": [
    {
     "data": {
      "text/plain": [
       "30"
      ]
     },
     "execution_count": 12,
     "metadata": {},
     "output_type": "execute_result"
    }
   ],
   "source": [
    "len(test_datasets)"
   ]
  },
  {
   "cell_type": "code",
   "execution_count": 13,
   "metadata": {
    "ExecuteTime": {
     "end_time": "2023-07-18T09:06:11.221808Z",
     "start_time": "2023-07-18T09:06:11.064635Z"
    }
   },
   "outputs": [],
   "source": [
    "test_datasets = test_datasets[:10]"
   ]
  },
  {
   "cell_type": "code",
   "execution_count": 11,
   "metadata": {
    "ExecuteTime": {
     "end_time": "2023-07-18T09:02:39.541644Z",
     "start_time": "2023-07-18T09:02:39.379921Z"
    }
   },
   "outputs": [],
   "source": [
    "clf_dict= {'gp': gp_metric\n",
    "                , 'knn': knn_metric\n",
    "                , 'catboost': catboost_metric\n",
    "                , 'xgb': xgb_metric\n",
    "           , 'transformer': transformer_metric\n",
    "                , 'logistic': logistic_metric\n",
    "           , 'autosklearn': autosklearn_metric\n",
    "             , 'autosklearn2': autosklearn2_metric\n",
    "            , 'autogluon': autogluon_metric}"
   ]
  },
  {
   "cell_type": "code",
   "execution_count": 14,
   "metadata": {
    "ExecuteTime": {
     "end_time": "2023-07-18T09:06:13.950712Z",
     "start_time": "2023-07-18T09:06:13.793238Z"
    }
   },
   "outputs": [],
   "source": [
    "device = 'cpu'\n",
    "\n",
    "def eval_method(task_type, method, dids, selector, eval_positions, max_time, metric_used, split_number, append_metric=True, fetch_only=False, verbose=False):\n",
    "    \n",
    "    dids = dids if type(dids) is list else [dids]\n",
    "    \n",
    "    for did in dids:\n",
    "\n",
    "        ds = get_datasets(selector, task_type, suite=suite)\n",
    "\n",
    "        ds = ds if did is None else ds[did:did+1]\n",
    "\n",
    "        clf = clf_dict[method]\n",
    "\n",
    "        time_string = '_time_'+str(max_time) if max_time else ''\n",
    "        metric_used_string = '_'+tabular_baselines.get_scoring_string(metric_used, usage='') if append_metric else ''\n",
    "\n",
    "        result = evaluate(datasets=ds\n",
    "                          , model=clf\n",
    "                          , method=method+time_string+metric_used_string\n",
    "                          , bptt=bptt, base_path=base_path\n",
    "                          , eval_positions=eval_positions\n",
    "                          , device=device, max_splits=1\n",
    "                          , overwrite=overwrite\n",
    "                          , save=True\n",
    "                          , metric_used=metric_used\n",
    "                          , path_interfix=task_type\n",
    "                          , fetch_only=fetch_only\n",
    "                          , split_number=split_number\n",
    "                          , verbose=verbose\n",
    "                          , max_time=max_time)\n",
    "    \n",
    "    return result"
   ]
  },
  {
   "cell_type": "markdown",
   "metadata": {
    "tags": []
   },
   "source": [
    "# Baseline Evaluation\n",
    "This section runs baselines and saves results locally."
   ]
  },
  {
   "cell_type": "code",
   "execution_count": null,
   "metadata": {},
   "outputs": [],
   "source": [
    "!mkdir {base_path}/results\n",
    "!mkdir {base_path}/results/tabular/\n",
    "!mkdir {base_path}/results/tabular/multiclass/"
   ]
  },
  {
   "cell_type": "code",
   "execution_count": 15,
   "metadata": {
    "ExecuteTime": {
     "end_time": "2023-07-18T09:08:06.184879Z",
     "start_time": "2023-07-18T09:08:00.516915Z"
    },
    "tags": []
   },
   "outputs": [
    {
     "name": "stderr",
     "output_type": "stream",
     "text": [
      "\r",
      "Calculating splits<function transformer_metric at 0x000001CC7D6D2168> 312:   0%|                 | 0/1 [00:00<?, ?it/s]"
     ]
    },
    {
     "name": "stdout",
     "output_type": "stream",
     "text": [
      "We have to download the TabPFN, as there is no checkpoint at  C:\\Users\\draco\\uni\\su_se_23\\dl_lab\\MSGPFN\\tabpfn\\.cpkt\n",
      "It has about 100MB, so this might take a moment.\n",
      "Loading model that can be used for inference only\n",
      "Using a Transformer with 25.82 M parameters\n",
      "Train data shape torch.Size([312, 4])  Test data shape torch.Size([312, 4])\n"
     ]
    },
    {
     "name": "stderr",
     "output_type": "stream",
     "text": [
      "\r",
      "Calculating splits<function transformer_metric at 0x000001CC7D6D2168> 312:   0%|                 | 0/1 [00:05<?, ?it/s]"
     ]
    },
    {
     "name": "stdout",
     "output_type": "stream",
     "text": [
      "saved results to .\\results/tabular/multiclass/results_transformer_time_30_roc_auc_balance-scale_312_624_1.npy\n"
     ]
    },
    {
     "name": "stderr",
     "output_type": "stream",
     "text": [
      "\n",
      "C:\\Users\\draco\\miniconda3\\envs\\lab_env\\lib\\site-packages\\numpy\\lib\\npyio.py:528: VisibleDeprecationWarning: Creating an ndarray from ragged nested sequences (which is a list-or-tuple of lists-or-tuples-or ndarrays with different lengths or shapes) is deprecated. If you meant to do this, you must specify 'dtype=object' when creating the ndarray.\n",
      "  arr = np.asanyarray(arr)\n"
     ]
    }
   ],
   "source": [
    "# RUN ONE METHOD ON ONE DATASET AND SPLIT\n",
    "overwrite=True\n",
    "dataset_id = 0\n",
    "split_number = 1\n",
    "maximum_runtime = 30\n",
    "r = eval_method(task_type, 'transformer', dataset_id, 'test', eval_positions, maximum_runtime, metric_used, split_number)"
   ]
  },
  {
   "cell_type": "code",
   "execution_count": 16,
   "metadata": {
    "ExecuteTime": {
     "end_time": "2023-07-18T09:19:58.932914Z",
     "start_time": "2023-07-18T09:08:59.046458Z"
    },
    "scrolled": true,
    "tags": []
   },
   "outputs": [
    {
     "name": "stderr",
     "output_type": "stream",
     "text": [
      "\r",
      "Calculating splits<function transformer_metric at 0x000001CC7D6D2168> 312:   0%|                 | 0/1 [00:00<?, ?it/s]"
     ]
    },
    {
     "name": "stdout",
     "output_type": "stream",
     "text": [
      "Train data shape torch.Size([312, 4])  Test data shape torch.Size([312, 4])\n"
     ]
    },
    {
     "name": "stderr",
     "output_type": "stream",
     "text": [
      "Calculating splits<function transformer_metric at 0x000001CC7D6D2168> 312:   0%|                 | 0/1 [00:02<?, ?it/s]\n",
      "C:\\Users\\draco\\miniconda3\\envs\\lab_env\\lib\\site-packages\\numpy\\lib\\npyio.py:528: VisibleDeprecationWarning: Creating an ndarray from ragged nested sequences (which is a list-or-tuple of lists-or-tuples-or ndarrays with different lengths or shapes) is deprecated. If you meant to do this, you must specify 'dtype=object' when creating the ndarray.\n",
      "  arr = np.asanyarray(arr)\n"
     ]
    },
    {
     "name": "stdout",
     "output_type": "stream",
     "text": [
      "saved results to .\\results/tabular/multiclass/results_transformer_time_0.5_roc_auc_balance-scale_312_624_1.npy\n"
     ]
    },
    {
     "name": "stderr",
     "output_type": "stream",
     "text": [
      "\r",
      "Calculating splits<function transformer_metric at 0x000001CC7D6D2168> 312:   0%|                 | 0/1 [00:00<?, ?it/s]"
     ]
    },
    {
     "name": "stdout",
     "output_type": "stream",
     "text": [
      "Train data shape torch.Size([312, 4])  Test data shape torch.Size([312, 4])\n"
     ]
    },
    {
     "name": "stderr",
     "output_type": "stream",
     "text": [
      "Calculating splits<function transformer_metric at 0x000001CC7D6D2168> 312:   0%|                 | 0/1 [00:02<?, ?it/s]\n",
      "C:\\Users\\draco\\miniconda3\\envs\\lab_env\\lib\\site-packages\\numpy\\lib\\npyio.py:528: VisibleDeprecationWarning: Creating an ndarray from ragged nested sequences (which is a list-or-tuple of lists-or-tuples-or ndarrays with different lengths or shapes) is deprecated. If you meant to do this, you must specify 'dtype=object' when creating the ndarray.\n",
      "  arr = np.asanyarray(arr)\n"
     ]
    },
    {
     "name": "stdout",
     "output_type": "stream",
     "text": [
      "saved results to .\\results/tabular/multiclass/results_transformer_time_0.5_roc_auc_balance-scale_312_624_2.npy\n"
     ]
    },
    {
     "name": "stderr",
     "output_type": "stream",
     "text": [
      "\r",
      "Calculating splits<function transformer_metric at 0x000001CC7D6D2168> 312:   0%|                 | 0/1 [00:00<?, ?it/s]"
     ]
    },
    {
     "name": "stdout",
     "output_type": "stream",
     "text": [
      "Train data shape torch.Size([312, 4])  Test data shape torch.Size([312, 4])\n"
     ]
    },
    {
     "name": "stderr",
     "output_type": "stream",
     "text": [
      "Calculating splits<function transformer_metric at 0x000001CC7D6D2168> 312:   0%|                 | 0/1 [00:02<?, ?it/s]\n",
      "C:\\Users\\draco\\miniconda3\\envs\\lab_env\\lib\\site-packages\\numpy\\lib\\npyio.py:528: VisibleDeprecationWarning: Creating an ndarray from ragged nested sequences (which is a list-or-tuple of lists-or-tuples-or ndarrays with different lengths or shapes) is deprecated. If you meant to do this, you must specify 'dtype=object' when creating the ndarray.\n",
      "  arr = np.asanyarray(arr)\n"
     ]
    },
    {
     "name": "stdout",
     "output_type": "stream",
     "text": [
      "saved results to .\\results/tabular/multiclass/results_transformer_time_0.5_roc_auc_balance-scale_312_624_3.npy\n"
     ]
    },
    {
     "name": "stderr",
     "output_type": "stream",
     "text": [
      "\r",
      "Calculating splits<function transformer_metric at 0x000001CC7D6D2168> 312:   0%|                 | 0/1 [00:00<?, ?it/s]"
     ]
    },
    {
     "name": "stdout",
     "output_type": "stream",
     "text": [
      "Train data shape torch.Size([312, 4])  Test data shape torch.Size([312, 4])\n"
     ]
    },
    {
     "name": "stderr",
     "output_type": "stream",
     "text": [
      "Calculating splits<function transformer_metric at 0x000001CC7D6D2168> 312:   0%|                 | 0/1 [00:02<?, ?it/s]\n",
      "C:\\Users\\draco\\miniconda3\\envs\\lab_env\\lib\\site-packages\\numpy\\lib\\npyio.py:528: VisibleDeprecationWarning: Creating an ndarray from ragged nested sequences (which is a list-or-tuple of lists-or-tuples-or ndarrays with different lengths or shapes) is deprecated. If you meant to do this, you must specify 'dtype=object' when creating the ndarray.\n",
      "  arr = np.asanyarray(arr)\n"
     ]
    },
    {
     "name": "stdout",
     "output_type": "stream",
     "text": [
      "saved results to .\\results/tabular/multiclass/results_transformer_time_0.5_roc_auc_balance-scale_312_624_4.npy\n"
     ]
    },
    {
     "name": "stderr",
     "output_type": "stream",
     "text": [
      "\r",
      "Calculating splits<function transformer_metric at 0x000001CC7D6D2168> 312:   0%|                 | 0/1 [00:00<?, ?it/s]"
     ]
    },
    {
     "name": "stdout",
     "output_type": "stream",
     "text": [
      "Train data shape torch.Size([312, 4])  Test data shape torch.Size([312, 4])\n"
     ]
    },
    {
     "name": "stderr",
     "output_type": "stream",
     "text": [
      "Calculating splits<function transformer_metric at 0x000001CC7D6D2168> 312:   0%|                 | 0/1 [00:02<?, ?it/s]\n",
      "C:\\Users\\draco\\miniconda3\\envs\\lab_env\\lib\\site-packages\\numpy\\lib\\npyio.py:528: VisibleDeprecationWarning: Creating an ndarray from ragged nested sequences (which is a list-or-tuple of lists-or-tuples-or ndarrays with different lengths or shapes) is deprecated. If you meant to do this, you must specify 'dtype=object' when creating the ndarray.\n",
      "  arr = np.asanyarray(arr)\n"
     ]
    },
    {
     "name": "stdout",
     "output_type": "stream",
     "text": [
      "saved results to .\\results/tabular/multiclass/results_transformer_time_0.5_roc_auc_balance-scale_312_624_5.npy\n"
     ]
    },
    {
     "name": "stderr",
     "output_type": "stream",
     "text": [
      "\r",
      "Calculating splits<function transformer_metric at 0x000001CC7D6D2168> 312:   0%|                 | 0/1 [00:00<?, ?it/s]"
     ]
    },
    {
     "name": "stdout",
     "output_type": "stream",
     "text": [
      "Train data shape torch.Size([312, 4])  Test data shape torch.Size([312, 4])\n"
     ]
    },
    {
     "name": "stderr",
     "output_type": "stream",
     "text": [
      "Calculating splits<function transformer_metric at 0x000001CC7D6D2168> 312:   0%|                 | 0/1 [00:02<?, ?it/s]\n",
      "C:\\Users\\draco\\miniconda3\\envs\\lab_env\\lib\\site-packages\\numpy\\lib\\npyio.py:528: VisibleDeprecationWarning: Creating an ndarray from ragged nested sequences (which is a list-or-tuple of lists-or-tuples-or ndarrays with different lengths or shapes) is deprecated. If you meant to do this, you must specify 'dtype=object' when creating the ndarray.\n",
      "  arr = np.asanyarray(arr)\n"
     ]
    },
    {
     "name": "stdout",
     "output_type": "stream",
     "text": [
      "saved results to .\\results/tabular/multiclass/results_transformer_time_1_roc_auc_balance-scale_312_624_1.npy\n"
     ]
    },
    {
     "name": "stderr",
     "output_type": "stream",
     "text": [
      "\r",
      "Calculating splits<function transformer_metric at 0x000001CC7D6D2168> 312:   0%|                 | 0/1 [00:00<?, ?it/s]"
     ]
    },
    {
     "name": "stdout",
     "output_type": "stream",
     "text": [
      "Train data shape torch.Size([312, 4])  Test data shape torch.Size([312, 4])\n"
     ]
    },
    {
     "name": "stderr",
     "output_type": "stream",
     "text": [
      "Calculating splits<function transformer_metric at 0x000001CC7D6D2168> 312:   0%|                 | 0/1 [00:02<?, ?it/s]\n",
      "C:\\Users\\draco\\miniconda3\\envs\\lab_env\\lib\\site-packages\\numpy\\lib\\npyio.py:528: VisibleDeprecationWarning: Creating an ndarray from ragged nested sequences (which is a list-or-tuple of lists-or-tuples-or ndarrays with different lengths or shapes) is deprecated. If you meant to do this, you must specify 'dtype=object' when creating the ndarray.\n",
      "  arr = np.asanyarray(arr)\n"
     ]
    },
    {
     "name": "stdout",
     "output_type": "stream",
     "text": [
      "saved results to .\\results/tabular/multiclass/results_transformer_time_1_roc_auc_balance-scale_312_624_2.npy\n"
     ]
    },
    {
     "name": "stderr",
     "output_type": "stream",
     "text": [
      "\r",
      "Calculating splits<function transformer_metric at 0x000001CC7D6D2168> 312:   0%|                 | 0/1 [00:00<?, ?it/s]"
     ]
    },
    {
     "name": "stdout",
     "output_type": "stream",
     "text": [
      "Train data shape torch.Size([312, 4])  Test data shape torch.Size([312, 4])\n"
     ]
    },
    {
     "name": "stderr",
     "output_type": "stream",
     "text": [
      "Calculating splits<function transformer_metric at 0x000001CC7D6D2168> 312:   0%|                 | 0/1 [00:02<?, ?it/s]\n",
      "C:\\Users\\draco\\miniconda3\\envs\\lab_env\\lib\\site-packages\\numpy\\lib\\npyio.py:528: VisibleDeprecationWarning: Creating an ndarray from ragged nested sequences (which is a list-or-tuple of lists-or-tuples-or ndarrays with different lengths or shapes) is deprecated. If you meant to do this, you must specify 'dtype=object' when creating the ndarray.\n",
      "  arr = np.asanyarray(arr)\n"
     ]
    },
    {
     "name": "stdout",
     "output_type": "stream",
     "text": [
      "saved results to .\\results/tabular/multiclass/results_transformer_time_1_roc_auc_balance-scale_312_624_3.npy\n"
     ]
    },
    {
     "name": "stderr",
     "output_type": "stream",
     "text": [
      "\r",
      "Calculating splits<function transformer_metric at 0x000001CC7D6D2168> 312:   0%|                 | 0/1 [00:00<?, ?it/s]"
     ]
    },
    {
     "name": "stdout",
     "output_type": "stream",
     "text": [
      "Train data shape torch.Size([312, 4])  Test data shape torch.Size([312, 4])\n"
     ]
    },
    {
     "name": "stderr",
     "output_type": "stream",
     "text": [
      "Calculating splits<function transformer_metric at 0x000001CC7D6D2168> 312:   0%|                 | 0/1 [00:02<?, ?it/s]\n",
      "C:\\Users\\draco\\miniconda3\\envs\\lab_env\\lib\\site-packages\\numpy\\lib\\npyio.py:528: VisibleDeprecationWarning: Creating an ndarray from ragged nested sequences (which is a list-or-tuple of lists-or-tuples-or ndarrays with different lengths or shapes) is deprecated. If you meant to do this, you must specify 'dtype=object' when creating the ndarray.\n",
      "  arr = np.asanyarray(arr)\n"
     ]
    },
    {
     "name": "stdout",
     "output_type": "stream",
     "text": [
      "saved results to .\\results/tabular/multiclass/results_transformer_time_1_roc_auc_balance-scale_312_624_4.npy\n"
     ]
    },
    {
     "name": "stderr",
     "output_type": "stream",
     "text": [
      "\r",
      "Calculating splits<function transformer_metric at 0x000001CC7D6D2168> 312:   0%|                 | 0/1 [00:00<?, ?it/s]"
     ]
    },
    {
     "name": "stdout",
     "output_type": "stream",
     "text": [
      "Train data shape torch.Size([312, 4])  Test data shape torch.Size([312, 4])\n"
     ]
    },
    {
     "name": "stderr",
     "output_type": "stream",
     "text": [
      "Calculating splits<function transformer_metric at 0x000001CC7D6D2168> 312:   0%|                 | 0/1 [00:02<?, ?it/s]\n",
      "C:\\Users\\draco\\miniconda3\\envs\\lab_env\\lib\\site-packages\\numpy\\lib\\npyio.py:528: VisibleDeprecationWarning: Creating an ndarray from ragged nested sequences (which is a list-or-tuple of lists-or-tuples-or ndarrays with different lengths or shapes) is deprecated. If you meant to do this, you must specify 'dtype=object' when creating the ndarray.\n",
      "  arr = np.asanyarray(arr)\n"
     ]
    },
    {
     "name": "stdout",
     "output_type": "stream",
     "text": [
      "saved results to .\\results/tabular/multiclass/results_transformer_time_1_roc_auc_balance-scale_312_624_5.npy\n"
     ]
    },
    {
     "name": "stderr",
     "output_type": "stream",
     "text": [
      "\r",
      "Calculating splits<function transformer_metric at 0x000001CC7D6D2168> 312:   0%|                 | 0/1 [00:00<?, ?it/s]"
     ]
    },
    {
     "name": "stdout",
     "output_type": "stream",
     "text": [
      "Train data shape torch.Size([312, 4])  Test data shape torch.Size([312, 4])\n"
     ]
    },
    {
     "name": "stderr",
     "output_type": "stream",
     "text": [
      "Calculating splits<function transformer_metric at 0x000001CC7D6D2168> 312:   0%|                 | 0/1 [00:02<?, ?it/s]\n",
      "C:\\Users\\draco\\miniconda3\\envs\\lab_env\\lib\\site-packages\\numpy\\lib\\npyio.py:528: VisibleDeprecationWarning: Creating an ndarray from ragged nested sequences (which is a list-or-tuple of lists-or-tuples-or ndarrays with different lengths or shapes) is deprecated. If you meant to do this, you must specify 'dtype=object' when creating the ndarray.\n",
      "  arr = np.asanyarray(arr)\n"
     ]
    },
    {
     "name": "stdout",
     "output_type": "stream",
     "text": [
      "saved results to .\\results/tabular/multiclass/results_transformer_time_15_roc_auc_balance-scale_312_624_1.npy\n"
     ]
    },
    {
     "name": "stderr",
     "output_type": "stream",
     "text": [
      "\r",
      "Calculating splits<function transformer_metric at 0x000001CC7D6D2168> 312:   0%|                 | 0/1 [00:00<?, ?it/s]"
     ]
    },
    {
     "name": "stdout",
     "output_type": "stream",
     "text": [
      "Train data shape torch.Size([312, 4])  Test data shape torch.Size([312, 4])\n"
     ]
    },
    {
     "name": "stderr",
     "output_type": "stream",
     "text": [
      "Calculating splits<function transformer_metric at 0x000001CC7D6D2168> 312:   0%|                 | 0/1 [00:02<?, ?it/s]\n",
      "C:\\Users\\draco\\miniconda3\\envs\\lab_env\\lib\\site-packages\\numpy\\lib\\npyio.py:528: VisibleDeprecationWarning: Creating an ndarray from ragged nested sequences (which is a list-or-tuple of lists-or-tuples-or ndarrays with different lengths or shapes) is deprecated. If you meant to do this, you must specify 'dtype=object' when creating the ndarray.\n",
      "  arr = np.asanyarray(arr)\n"
     ]
    },
    {
     "name": "stdout",
     "output_type": "stream",
     "text": [
      "saved results to .\\results/tabular/multiclass/results_transformer_time_15_roc_auc_balance-scale_312_624_2.npy\n"
     ]
    },
    {
     "name": "stderr",
     "output_type": "stream",
     "text": [
      "\r",
      "Calculating splits<function transformer_metric at 0x000001CC7D6D2168> 312:   0%|                 | 0/1 [00:00<?, ?it/s]"
     ]
    },
    {
     "name": "stdout",
     "output_type": "stream",
     "text": [
      "Train data shape torch.Size([312, 4])  Test data shape torch.Size([312, 4])\n"
     ]
    },
    {
     "name": "stderr",
     "output_type": "stream",
     "text": [
      "Calculating splits<function transformer_metric at 0x000001CC7D6D2168> 312:   0%|                 | 0/1 [00:02<?, ?it/s]\n",
      "C:\\Users\\draco\\miniconda3\\envs\\lab_env\\lib\\site-packages\\numpy\\lib\\npyio.py:528: VisibleDeprecationWarning: Creating an ndarray from ragged nested sequences (which is a list-or-tuple of lists-or-tuples-or ndarrays with different lengths or shapes) is deprecated. If you meant to do this, you must specify 'dtype=object' when creating the ndarray.\n",
      "  arr = np.asanyarray(arr)\n"
     ]
    },
    {
     "name": "stdout",
     "output_type": "stream",
     "text": [
      "saved results to .\\results/tabular/multiclass/results_transformer_time_15_roc_auc_balance-scale_312_624_3.npy\n"
     ]
    },
    {
     "name": "stderr",
     "output_type": "stream",
     "text": [
      "\r",
      "Calculating splits<function transformer_metric at 0x000001CC7D6D2168> 312:   0%|                 | 0/1 [00:00<?, ?it/s]"
     ]
    },
    {
     "name": "stdout",
     "output_type": "stream",
     "text": [
      "Train data shape torch.Size([312, 4])  Test data shape torch.Size([312, 4])\n"
     ]
    },
    {
     "name": "stderr",
     "output_type": "stream",
     "text": [
      "Calculating splits<function transformer_metric at 0x000001CC7D6D2168> 312:   0%|                 | 0/1 [00:02<?, ?it/s]\n",
      "C:\\Users\\draco\\miniconda3\\envs\\lab_env\\lib\\site-packages\\numpy\\lib\\npyio.py:528: VisibleDeprecationWarning: Creating an ndarray from ragged nested sequences (which is a list-or-tuple of lists-or-tuples-or ndarrays with different lengths or shapes) is deprecated. If you meant to do this, you must specify 'dtype=object' when creating the ndarray.\n",
      "  arr = np.asanyarray(arr)\n"
     ]
    },
    {
     "name": "stdout",
     "output_type": "stream",
     "text": [
      "saved results to .\\results/tabular/multiclass/results_transformer_time_15_roc_auc_balance-scale_312_624_4.npy\n"
     ]
    },
    {
     "name": "stderr",
     "output_type": "stream",
     "text": [
      "\r",
      "Calculating splits<function transformer_metric at 0x000001CC7D6D2168> 312:   0%|                 | 0/1 [00:00<?, ?it/s]"
     ]
    },
    {
     "name": "stdout",
     "output_type": "stream",
     "text": [
      "Train data shape torch.Size([312, 4])  Test data shape torch.Size([312, 4])\n"
     ]
    },
    {
     "name": "stderr",
     "output_type": "stream",
     "text": [
      "Calculating splits<function transformer_metric at 0x000001CC7D6D2168> 312:   0%|                 | 0/1 [00:02<?, ?it/s]\n",
      "C:\\Users\\draco\\miniconda3\\envs\\lab_env\\lib\\site-packages\\numpy\\lib\\npyio.py:528: VisibleDeprecationWarning: Creating an ndarray from ragged nested sequences (which is a list-or-tuple of lists-or-tuples-or ndarrays with different lengths or shapes) is deprecated. If you meant to do this, you must specify 'dtype=object' when creating the ndarray.\n",
      "  arr = np.asanyarray(arr)\n"
     ]
    },
    {
     "name": "stdout",
     "output_type": "stream",
     "text": [
      "saved results to .\\results/tabular/multiclass/results_transformer_time_15_roc_auc_balance-scale_312_624_5.npy\n"
     ]
    },
    {
     "name": "stderr",
     "output_type": "stream",
     "text": [
      "\r",
      "Calculating splits<function transformer_metric at 0x000001CC7D6D2168> 312:   0%|                 | 0/1 [00:00<?, ?it/s]"
     ]
    },
    {
     "name": "stdout",
     "output_type": "stream",
     "text": [
      "Train data shape torch.Size([312, 4])  Test data shape torch.Size([312, 4])\n"
     ]
    },
    {
     "name": "stderr",
     "output_type": "stream",
     "text": [
      "Calculating splits<function transformer_metric at 0x000001CC7D6D2168> 312:   0%|                 | 0/1 [00:02<?, ?it/s]\n",
      "C:\\Users\\draco\\miniconda3\\envs\\lab_env\\lib\\site-packages\\numpy\\lib\\npyio.py:528: VisibleDeprecationWarning: Creating an ndarray from ragged nested sequences (which is a list-or-tuple of lists-or-tuples-or ndarrays with different lengths or shapes) is deprecated. If you meant to do this, you must specify 'dtype=object' when creating the ndarray.\n",
      "  arr = np.asanyarray(arr)\n"
     ]
    },
    {
     "name": "stdout",
     "output_type": "stream",
     "text": [
      "saved results to .\\results/tabular/multiclass/results_transformer_time_30_roc_auc_balance-scale_312_624_1.npy\n"
     ]
    },
    {
     "name": "stderr",
     "output_type": "stream",
     "text": [
      "\r",
      "Calculating splits<function transformer_metric at 0x000001CC7D6D2168> 312:   0%|                 | 0/1 [00:00<?, ?it/s]"
     ]
    },
    {
     "name": "stdout",
     "output_type": "stream",
     "text": [
      "Train data shape torch.Size([312, 4])  Test data shape torch.Size([312, 4])\n"
     ]
    },
    {
     "name": "stderr",
     "output_type": "stream",
     "text": [
      "Calculating splits<function transformer_metric at 0x000001CC7D6D2168> 312:   0%|                 | 0/1 [00:02<?, ?it/s]\n",
      "C:\\Users\\draco\\miniconda3\\envs\\lab_env\\lib\\site-packages\\numpy\\lib\\npyio.py:528: VisibleDeprecationWarning: Creating an ndarray from ragged nested sequences (which is a list-or-tuple of lists-or-tuples-or ndarrays with different lengths or shapes) is deprecated. If you meant to do this, you must specify 'dtype=object' when creating the ndarray.\n",
      "  arr = np.asanyarray(arr)\n"
     ]
    },
    {
     "name": "stdout",
     "output_type": "stream",
     "text": [
      "saved results to .\\results/tabular/multiclass/results_transformer_time_30_roc_auc_balance-scale_312_624_2.npy\n"
     ]
    },
    {
     "name": "stderr",
     "output_type": "stream",
     "text": [
      "\r",
      "Calculating splits<function transformer_metric at 0x000001CC7D6D2168> 312:   0%|                 | 0/1 [00:00<?, ?it/s]"
     ]
    },
    {
     "name": "stdout",
     "output_type": "stream",
     "text": [
      "Train data shape torch.Size([312, 4])  Test data shape torch.Size([312, 4])\n"
     ]
    },
    {
     "name": "stderr",
     "output_type": "stream",
     "text": [
      "Calculating splits<function transformer_metric at 0x000001CC7D6D2168> 312:   0%|                 | 0/1 [00:02<?, ?it/s]\n",
      "C:\\Users\\draco\\miniconda3\\envs\\lab_env\\lib\\site-packages\\numpy\\lib\\npyio.py:528: VisibleDeprecationWarning: Creating an ndarray from ragged nested sequences (which is a list-or-tuple of lists-or-tuples-or ndarrays with different lengths or shapes) is deprecated. If you meant to do this, you must specify 'dtype=object' when creating the ndarray.\n",
      "  arr = np.asanyarray(arr)\n"
     ]
    },
    {
     "name": "stdout",
     "output_type": "stream",
     "text": [
      "saved results to .\\results/tabular/multiclass/results_transformer_time_30_roc_auc_balance-scale_312_624_3.npy\n"
     ]
    },
    {
     "name": "stderr",
     "output_type": "stream",
     "text": [
      "\r",
      "Calculating splits<function transformer_metric at 0x000001CC7D6D2168> 312:   0%|                 | 0/1 [00:00<?, ?it/s]"
     ]
    },
    {
     "name": "stdout",
     "output_type": "stream",
     "text": [
      "Train data shape torch.Size([312, 4])  Test data shape torch.Size([312, 4])\n"
     ]
    },
    {
     "name": "stderr",
     "output_type": "stream",
     "text": [
      "Calculating splits<function transformer_metric at 0x000001CC7D6D2168> 312:   0%|                 | 0/1 [00:02<?, ?it/s]\n",
      "C:\\Users\\draco\\miniconda3\\envs\\lab_env\\lib\\site-packages\\numpy\\lib\\npyio.py:528: VisibleDeprecationWarning: Creating an ndarray from ragged nested sequences (which is a list-or-tuple of lists-or-tuples-or ndarrays with different lengths or shapes) is deprecated. If you meant to do this, you must specify 'dtype=object' when creating the ndarray.\n",
      "  arr = np.asanyarray(arr)\n"
     ]
    },
    {
     "name": "stdout",
     "output_type": "stream",
     "text": [
      "saved results to .\\results/tabular/multiclass/results_transformer_time_30_roc_auc_balance-scale_312_624_4.npy\n"
     ]
    },
    {
     "name": "stderr",
     "output_type": "stream",
     "text": [
      "\r",
      "Calculating splits<function transformer_metric at 0x000001CC7D6D2168> 312:   0%|                 | 0/1 [00:00<?, ?it/s]"
     ]
    },
    {
     "name": "stdout",
     "output_type": "stream",
     "text": [
      "Train data shape torch.Size([312, 4])  Test data shape torch.Size([312, 4])\n"
     ]
    },
    {
     "name": "stderr",
     "output_type": "stream",
     "text": [
      "Calculating splits<function transformer_metric at 0x000001CC7D6D2168> 312:   0%|                 | 0/1 [00:02<?, ?it/s]\n",
      "C:\\Users\\draco\\miniconda3\\envs\\lab_env\\lib\\site-packages\\numpy\\lib\\npyio.py:528: VisibleDeprecationWarning: Creating an ndarray from ragged nested sequences (which is a list-or-tuple of lists-or-tuples-or ndarrays with different lengths or shapes) is deprecated. If you meant to do this, you must specify 'dtype=object' when creating the ndarray.\n",
      "  arr = np.asanyarray(arr)\n"
     ]
    },
    {
     "name": "stdout",
     "output_type": "stream",
     "text": [
      "saved results to .\\results/tabular/multiclass/results_transformer_time_30_roc_auc_balance-scale_312_624_5.npy\n"
     ]
    },
    {
     "name": "stderr",
     "output_type": "stream",
     "text": [
      "\r",
      "Calculating splits<function transformer_metric at 0x000001CC7D6D2168> 312:   0%|                 | 0/1 [00:00<?, ?it/s]"
     ]
    },
    {
     "name": "stdout",
     "output_type": "stream",
     "text": [
      "Train data shape torch.Size([312, 4])  Test data shape torch.Size([312, 4])\n"
     ]
    },
    {
     "name": "stderr",
     "output_type": "stream",
     "text": [
      "Calculating splits<function transformer_metric at 0x000001CC7D6D2168> 312:   0%|                 | 0/1 [00:02<?, ?it/s]\n",
      "C:\\Users\\draco\\miniconda3\\envs\\lab_env\\lib\\site-packages\\numpy\\lib\\npyio.py:528: VisibleDeprecationWarning: Creating an ndarray from ragged nested sequences (which is a list-or-tuple of lists-or-tuples-or ndarrays with different lengths or shapes) is deprecated. If you meant to do this, you must specify 'dtype=object' when creating the ndarray.\n",
      "  arr = np.asanyarray(arr)\n"
     ]
    },
    {
     "name": "stdout",
     "output_type": "stream",
     "text": [
      "saved results to .\\results/tabular/multiclass/results_transformer_time_60_roc_auc_balance-scale_312_624_1.npy\n"
     ]
    },
    {
     "name": "stderr",
     "output_type": "stream",
     "text": [
      "\r",
      "Calculating splits<function transformer_metric at 0x000001CC7D6D2168> 312:   0%|                 | 0/1 [00:00<?, ?it/s]"
     ]
    },
    {
     "name": "stdout",
     "output_type": "stream",
     "text": [
      "Train data shape torch.Size([312, 4])  Test data shape torch.Size([312, 4])\n"
     ]
    },
    {
     "name": "stderr",
     "output_type": "stream",
     "text": [
      "Calculating splits<function transformer_metric at 0x000001CC7D6D2168> 312:   0%|                 | 0/1 [00:02<?, ?it/s]\n",
      "C:\\Users\\draco\\miniconda3\\envs\\lab_env\\lib\\site-packages\\numpy\\lib\\npyio.py:528: VisibleDeprecationWarning: Creating an ndarray from ragged nested sequences (which is a list-or-tuple of lists-or-tuples-or ndarrays with different lengths or shapes) is deprecated. If you meant to do this, you must specify 'dtype=object' when creating the ndarray.\n",
      "  arr = np.asanyarray(arr)\n"
     ]
    },
    {
     "name": "stdout",
     "output_type": "stream",
     "text": [
      "saved results to .\\results/tabular/multiclass/results_transformer_time_60_roc_auc_balance-scale_312_624_2.npy\n"
     ]
    },
    {
     "name": "stderr",
     "output_type": "stream",
     "text": [
      "\r",
      "Calculating splits<function transformer_metric at 0x000001CC7D6D2168> 312:   0%|                 | 0/1 [00:00<?, ?it/s]"
     ]
    },
    {
     "name": "stdout",
     "output_type": "stream",
     "text": [
      "Train data shape torch.Size([312, 4])  Test data shape torch.Size([312, 4])\n"
     ]
    },
    {
     "name": "stderr",
     "output_type": "stream",
     "text": [
      "Calculating splits<function transformer_metric at 0x000001CC7D6D2168> 312:   0%|                 | 0/1 [00:02<?, ?it/s]\n",
      "C:\\Users\\draco\\miniconda3\\envs\\lab_env\\lib\\site-packages\\numpy\\lib\\npyio.py:528: VisibleDeprecationWarning: Creating an ndarray from ragged nested sequences (which is a list-or-tuple of lists-or-tuples-or ndarrays with different lengths or shapes) is deprecated. If you meant to do this, you must specify 'dtype=object' when creating the ndarray.\n",
      "  arr = np.asanyarray(arr)\n"
     ]
    },
    {
     "name": "stdout",
     "output_type": "stream",
     "text": [
      "saved results to .\\results/tabular/multiclass/results_transformer_time_60_roc_auc_balance-scale_312_624_3.npy\n"
     ]
    },
    {
     "name": "stderr",
     "output_type": "stream",
     "text": [
      "\r",
      "Calculating splits<function transformer_metric at 0x000001CC7D6D2168> 312:   0%|                 | 0/1 [00:00<?, ?it/s]"
     ]
    },
    {
     "name": "stdout",
     "output_type": "stream",
     "text": [
      "Train data shape torch.Size([312, 4])  Test data shape torch.Size([312, 4])\n"
     ]
    },
    {
     "name": "stderr",
     "output_type": "stream",
     "text": [
      "Calculating splits<function transformer_metric at 0x000001CC7D6D2168> 312:   0%|                 | 0/1 [00:02<?, ?it/s]\n",
      "C:\\Users\\draco\\miniconda3\\envs\\lab_env\\lib\\site-packages\\numpy\\lib\\npyio.py:528: VisibleDeprecationWarning: Creating an ndarray from ragged nested sequences (which is a list-or-tuple of lists-or-tuples-or ndarrays with different lengths or shapes) is deprecated. If you meant to do this, you must specify 'dtype=object' when creating the ndarray.\n",
      "  arr = np.asanyarray(arr)\n"
     ]
    },
    {
     "name": "stdout",
     "output_type": "stream",
     "text": [
      "saved results to .\\results/tabular/multiclass/results_transformer_time_60_roc_auc_balance-scale_312_624_4.npy\n"
     ]
    },
    {
     "name": "stderr",
     "output_type": "stream",
     "text": [
      "\r",
      "Calculating splits<function transformer_metric at 0x000001CC7D6D2168> 312:   0%|                 | 0/1 [00:00<?, ?it/s]"
     ]
    },
    {
     "name": "stdout",
     "output_type": "stream",
     "text": [
      "Train data shape torch.Size([312, 4])  Test data shape torch.Size([312, 4])\n"
     ]
    },
    {
     "name": "stderr",
     "output_type": "stream",
     "text": [
      "Calculating splits<function transformer_metric at 0x000001CC7D6D2168> 312:   0%|                 | 0/1 [00:02<?, ?it/s]\n",
      "C:\\Users\\draco\\miniconda3\\envs\\lab_env\\lib\\site-packages\\numpy\\lib\\npyio.py:528: VisibleDeprecationWarning: Creating an ndarray from ragged nested sequences (which is a list-or-tuple of lists-or-tuples-or ndarrays with different lengths or shapes) is deprecated. If you meant to do this, you must specify 'dtype=object' when creating the ndarray.\n",
      "  arr = np.asanyarray(arr)\n"
     ]
    },
    {
     "name": "stdout",
     "output_type": "stream",
     "text": [
      "saved results to .\\results/tabular/multiclass/results_transformer_time_60_roc_auc_balance-scale_312_624_5.npy\n"
     ]
    },
    {
     "name": "stderr",
     "output_type": "stream",
     "text": [
      "\r",
      "Calculating splits<function transformer_metric at 0x000001CC7D6D2168> 312:   0%|                 | 0/1 [00:00<?, ?it/s]"
     ]
    },
    {
     "name": "stdout",
     "output_type": "stream",
     "text": [
      "Train data shape torch.Size([312, 4])  Test data shape torch.Size([312, 4])\n"
     ]
    },
    {
     "name": "stderr",
     "output_type": "stream",
     "text": [
      "Calculating splits<function transformer_metric at 0x000001CC7D6D2168> 312:   0%|                 | 0/1 [00:02<?, ?it/s]\n",
      "C:\\Users\\draco\\miniconda3\\envs\\lab_env\\lib\\site-packages\\numpy\\lib\\npyio.py:528: VisibleDeprecationWarning: Creating an ndarray from ragged nested sequences (which is a list-or-tuple of lists-or-tuples-or ndarrays with different lengths or shapes) is deprecated. If you meant to do this, you must specify 'dtype=object' when creating the ndarray.\n",
      "  arr = np.asanyarray(arr)\n"
     ]
    },
    {
     "name": "stdout",
     "output_type": "stream",
     "text": [
      "saved results to .\\results/tabular/multiclass/results_transformer_time_300_roc_auc_balance-scale_312_624_1.npy\n"
     ]
    },
    {
     "name": "stderr",
     "output_type": "stream",
     "text": [
      "\r",
      "Calculating splits<function transformer_metric at 0x000001CC7D6D2168> 312:   0%|                 | 0/1 [00:00<?, ?it/s]"
     ]
    },
    {
     "name": "stdout",
     "output_type": "stream",
     "text": [
      "Train data shape torch.Size([312, 4])  Test data shape torch.Size([312, 4])\n"
     ]
    },
    {
     "name": "stderr",
     "output_type": "stream",
     "text": [
      "Calculating splits<function transformer_metric at 0x000001CC7D6D2168> 312:   0%|                 | 0/1 [00:02<?, ?it/s]\n",
      "C:\\Users\\draco\\miniconda3\\envs\\lab_env\\lib\\site-packages\\numpy\\lib\\npyio.py:528: VisibleDeprecationWarning: Creating an ndarray from ragged nested sequences (which is a list-or-tuple of lists-or-tuples-or ndarrays with different lengths or shapes) is deprecated. If you meant to do this, you must specify 'dtype=object' when creating the ndarray.\n",
      "  arr = np.asanyarray(arr)\n"
     ]
    },
    {
     "name": "stdout",
     "output_type": "stream",
     "text": [
      "saved results to .\\results/tabular/multiclass/results_transformer_time_300_roc_auc_balance-scale_312_624_2.npy\n"
     ]
    },
    {
     "name": "stderr",
     "output_type": "stream",
     "text": [
      "\r",
      "Calculating splits<function transformer_metric at 0x000001CC7D6D2168> 312:   0%|                 | 0/1 [00:00<?, ?it/s]"
     ]
    },
    {
     "name": "stdout",
     "output_type": "stream",
     "text": [
      "Train data shape torch.Size([312, 4])  Test data shape torch.Size([312, 4])\n"
     ]
    },
    {
     "name": "stderr",
     "output_type": "stream",
     "text": [
      "Calculating splits<function transformer_metric at 0x000001CC7D6D2168> 312:   0%|                 | 0/1 [00:02<?, ?it/s]\n",
      "C:\\Users\\draco\\miniconda3\\envs\\lab_env\\lib\\site-packages\\numpy\\lib\\npyio.py:528: VisibleDeprecationWarning: Creating an ndarray from ragged nested sequences (which is a list-or-tuple of lists-or-tuples-or ndarrays with different lengths or shapes) is deprecated. If you meant to do this, you must specify 'dtype=object' when creating the ndarray.\n",
      "  arr = np.asanyarray(arr)\n"
     ]
    },
    {
     "name": "stdout",
     "output_type": "stream",
     "text": [
      "saved results to .\\results/tabular/multiclass/results_transformer_time_300_roc_auc_balance-scale_312_624_3.npy\n"
     ]
    },
    {
     "name": "stderr",
     "output_type": "stream",
     "text": [
      "\r",
      "Calculating splits<function transformer_metric at 0x000001CC7D6D2168> 312:   0%|                 | 0/1 [00:00<?, ?it/s]"
     ]
    },
    {
     "name": "stdout",
     "output_type": "stream",
     "text": [
      "Train data shape torch.Size([312, 4])  Test data shape torch.Size([312, 4])\n"
     ]
    },
    {
     "name": "stderr",
     "output_type": "stream",
     "text": [
      "Calculating splits<function transformer_metric at 0x000001CC7D6D2168> 312:   0%|                 | 0/1 [00:02<?, ?it/s]\n",
      "C:\\Users\\draco\\miniconda3\\envs\\lab_env\\lib\\site-packages\\numpy\\lib\\npyio.py:528: VisibleDeprecationWarning: Creating an ndarray from ragged nested sequences (which is a list-or-tuple of lists-or-tuples-or ndarrays with different lengths or shapes) is deprecated. If you meant to do this, you must specify 'dtype=object' when creating the ndarray.\n",
      "  arr = np.asanyarray(arr)\n"
     ]
    },
    {
     "name": "stdout",
     "output_type": "stream",
     "text": [
      "saved results to .\\results/tabular/multiclass/results_transformer_time_300_roc_auc_balance-scale_312_624_4.npy\n"
     ]
    },
    {
     "name": "stderr",
     "output_type": "stream",
     "text": [
      "\r",
      "Calculating splits<function transformer_metric at 0x000001CC7D6D2168> 312:   0%|                 | 0/1 [00:00<?, ?it/s]"
     ]
    },
    {
     "name": "stdout",
     "output_type": "stream",
     "text": [
      "Train data shape torch.Size([312, 4])  Test data shape torch.Size([312, 4])\n"
     ]
    },
    {
     "name": "stderr",
     "output_type": "stream",
     "text": [
      "Calculating splits<function transformer_metric at 0x000001CC7D6D2168> 312:   0%|                 | 0/1 [00:02<?, ?it/s]\n",
      "C:\\Users\\draco\\miniconda3\\envs\\lab_env\\lib\\site-packages\\numpy\\lib\\npyio.py:528: VisibleDeprecationWarning: Creating an ndarray from ragged nested sequences (which is a list-or-tuple of lists-or-tuples-or ndarrays with different lengths or shapes) is deprecated. If you meant to do this, you must specify 'dtype=object' when creating the ndarray.\n",
      "  arr = np.asanyarray(arr)\n"
     ]
    },
    {
     "name": "stdout",
     "output_type": "stream",
     "text": [
      "saved results to .\\results/tabular/multiclass/results_transformer_time_300_roc_auc_balance-scale_312_624_5.npy\n"
     ]
    },
    {
     "name": "stderr",
     "output_type": "stream",
     "text": [
      "\r",
      "Calculating splits<function transformer_metric at 0x000001CC7D6D2168> 312:   0%|                 | 0/1 [00:00<?, ?it/s]"
     ]
    },
    {
     "name": "stdout",
     "output_type": "stream",
     "text": [
      "Train data shape torch.Size([312, 4])  Test data shape torch.Size([312, 4])\n"
     ]
    },
    {
     "name": "stderr",
     "output_type": "stream",
     "text": [
      "Calculating splits<function transformer_metric at 0x000001CC7D6D2168> 312:   0%|                 | 0/1 [00:02<?, ?it/s]\n",
      "C:\\Users\\draco\\miniconda3\\envs\\lab_env\\lib\\site-packages\\numpy\\lib\\npyio.py:528: VisibleDeprecationWarning: Creating an ndarray from ragged nested sequences (which is a list-or-tuple of lists-or-tuples-or ndarrays with different lengths or shapes) is deprecated. If you meant to do this, you must specify 'dtype=object' when creating the ndarray.\n",
      "  arr = np.asanyarray(arr)\n"
     ]
    },
    {
     "name": "stdout",
     "output_type": "stream",
     "text": [
      "saved results to .\\results/tabular/multiclass/results_transformer_time_900_roc_auc_balance-scale_312_624_1.npy\n"
     ]
    },
    {
     "name": "stderr",
     "output_type": "stream",
     "text": [
      "\r",
      "Calculating splits<function transformer_metric at 0x000001CC7D6D2168> 312:   0%|                 | 0/1 [00:00<?, ?it/s]"
     ]
    },
    {
     "name": "stdout",
     "output_type": "stream",
     "text": [
      "Train data shape torch.Size([312, 4])  Test data shape torch.Size([312, 4])\n"
     ]
    },
    {
     "name": "stderr",
     "output_type": "stream",
     "text": [
      "Calculating splits<function transformer_metric at 0x000001CC7D6D2168> 312:   0%|                 | 0/1 [00:02<?, ?it/s]\n",
      "C:\\Users\\draco\\miniconda3\\envs\\lab_env\\lib\\site-packages\\numpy\\lib\\npyio.py:528: VisibleDeprecationWarning: Creating an ndarray from ragged nested sequences (which is a list-or-tuple of lists-or-tuples-or ndarrays with different lengths or shapes) is deprecated. If you meant to do this, you must specify 'dtype=object' when creating the ndarray.\n",
      "  arr = np.asanyarray(arr)\n"
     ]
    },
    {
     "name": "stdout",
     "output_type": "stream",
     "text": [
      "saved results to .\\results/tabular/multiclass/results_transformer_time_900_roc_auc_balance-scale_312_624_2.npy\n"
     ]
    },
    {
     "name": "stderr",
     "output_type": "stream",
     "text": [
      "\r",
      "Calculating splits<function transformer_metric at 0x000001CC7D6D2168> 312:   0%|                 | 0/1 [00:00<?, ?it/s]"
     ]
    },
    {
     "name": "stdout",
     "output_type": "stream",
     "text": [
      "Train data shape torch.Size([312, 4])  Test data shape torch.Size([312, 4])\n"
     ]
    },
    {
     "name": "stderr",
     "output_type": "stream",
     "text": [
      "Calculating splits<function transformer_metric at 0x000001CC7D6D2168> 312:   0%|                 | 0/1 [00:02<?, ?it/s]\n",
      "C:\\Users\\draco\\miniconda3\\envs\\lab_env\\lib\\site-packages\\numpy\\lib\\npyio.py:528: VisibleDeprecationWarning: Creating an ndarray from ragged nested sequences (which is a list-or-tuple of lists-or-tuples-or ndarrays with different lengths or shapes) is deprecated. If you meant to do this, you must specify 'dtype=object' when creating the ndarray.\n",
      "  arr = np.asanyarray(arr)\n"
     ]
    },
    {
     "name": "stdout",
     "output_type": "stream",
     "text": [
      "saved results to .\\results/tabular/multiclass/results_transformer_time_900_roc_auc_balance-scale_312_624_3.npy\n"
     ]
    },
    {
     "name": "stderr",
     "output_type": "stream",
     "text": [
      "\r",
      "Calculating splits<function transformer_metric at 0x000001CC7D6D2168> 312:   0%|                 | 0/1 [00:00<?, ?it/s]"
     ]
    },
    {
     "name": "stdout",
     "output_type": "stream",
     "text": [
      "Train data shape torch.Size([312, 4])  Test data shape torch.Size([312, 4])\n"
     ]
    },
    {
     "name": "stderr",
     "output_type": "stream",
     "text": [
      "Calculating splits<function transformer_metric at 0x000001CC7D6D2168> 312:   0%|                 | 0/1 [00:02<?, ?it/s]\n",
      "C:\\Users\\draco\\miniconda3\\envs\\lab_env\\lib\\site-packages\\numpy\\lib\\npyio.py:528: VisibleDeprecationWarning: Creating an ndarray from ragged nested sequences (which is a list-or-tuple of lists-or-tuples-or ndarrays with different lengths or shapes) is deprecated. If you meant to do this, you must specify 'dtype=object' when creating the ndarray.\n",
      "  arr = np.asanyarray(arr)\n"
     ]
    },
    {
     "name": "stdout",
     "output_type": "stream",
     "text": [
      "saved results to .\\results/tabular/multiclass/results_transformer_time_900_roc_auc_balance-scale_312_624_4.npy\n"
     ]
    },
    {
     "name": "stderr",
     "output_type": "stream",
     "text": [
      "\r",
      "Calculating splits<function transformer_metric at 0x000001CC7D6D2168> 312:   0%|                 | 0/1 [00:00<?, ?it/s]"
     ]
    },
    {
     "name": "stdout",
     "output_type": "stream",
     "text": [
      "Train data shape torch.Size([312, 4])  Test data shape torch.Size([312, 4])\n"
     ]
    },
    {
     "name": "stderr",
     "output_type": "stream",
     "text": [
      "Calculating splits<function transformer_metric at 0x000001CC7D6D2168> 312:   0%|                 | 0/1 [00:02<?, ?it/s]\n",
      "C:\\Users\\draco\\miniconda3\\envs\\lab_env\\lib\\site-packages\\numpy\\lib\\npyio.py:528: VisibleDeprecationWarning: Creating an ndarray from ragged nested sequences (which is a list-or-tuple of lists-or-tuples-or ndarrays with different lengths or shapes) is deprecated. If you meant to do this, you must specify 'dtype=object' when creating the ndarray.\n",
      "  arr = np.asanyarray(arr)\n"
     ]
    },
    {
     "name": "stdout",
     "output_type": "stream",
     "text": [
      "saved results to .\\results/tabular/multiclass/results_transformer_time_900_roc_auc_balance-scale_312_624_5.npy\n"
     ]
    },
    {
     "name": "stderr",
     "output_type": "stream",
     "text": [
      "\r",
      "Calculating splits<function transformer_metric at 0x000001CC7D6D2168> 312:   0%|                 | 0/1 [00:00<?, ?it/s]"
     ]
    },
    {
     "name": "stdout",
     "output_type": "stream",
     "text": [
      "Train data shape torch.Size([312, 4])  Test data shape torch.Size([312, 4])\n"
     ]
    },
    {
     "name": "stderr",
     "output_type": "stream",
     "text": [
      "Calculating splits<function transformer_metric at 0x000001CC7D6D2168> 312:   0%|                 | 0/1 [00:02<?, ?it/s]\n",
      "C:\\Users\\draco\\miniconda3\\envs\\lab_env\\lib\\site-packages\\numpy\\lib\\npyio.py:528: VisibleDeprecationWarning: Creating an ndarray from ragged nested sequences (which is a list-or-tuple of lists-or-tuples-or ndarrays with different lengths or shapes) is deprecated. If you meant to do this, you must specify 'dtype=object' when creating the ndarray.\n",
      "  arr = np.asanyarray(arr)\n"
     ]
    },
    {
     "name": "stdout",
     "output_type": "stream",
     "text": [
      "saved results to .\\results/tabular/multiclass/results_transformer_time_3600_roc_auc_balance-scale_312_624_1.npy\n"
     ]
    },
    {
     "name": "stderr",
     "output_type": "stream",
     "text": [
      "\r",
      "Calculating splits<function transformer_metric at 0x000001CC7D6D2168> 312:   0%|                 | 0/1 [00:00<?, ?it/s]"
     ]
    },
    {
     "name": "stdout",
     "output_type": "stream",
     "text": [
      "Train data shape torch.Size([312, 4])  Test data shape torch.Size([312, 4])\n"
     ]
    },
    {
     "name": "stderr",
     "output_type": "stream",
     "text": [
      "Calculating splits<function transformer_metric at 0x000001CC7D6D2168> 312:   0%|                 | 0/1 [00:02<?, ?it/s]\n",
      "C:\\Users\\draco\\miniconda3\\envs\\lab_env\\lib\\site-packages\\numpy\\lib\\npyio.py:528: VisibleDeprecationWarning: Creating an ndarray from ragged nested sequences (which is a list-or-tuple of lists-or-tuples-or ndarrays with different lengths or shapes) is deprecated. If you meant to do this, you must specify 'dtype=object' when creating the ndarray.\n",
      "  arr = np.asanyarray(arr)\n"
     ]
    },
    {
     "name": "stdout",
     "output_type": "stream",
     "text": [
      "saved results to .\\results/tabular/multiclass/results_transformer_time_3600_roc_auc_balance-scale_312_624_2.npy\n"
     ]
    },
    {
     "name": "stderr",
     "output_type": "stream",
     "text": [
      "\r",
      "Calculating splits<function transformer_metric at 0x000001CC7D6D2168> 312:   0%|                 | 0/1 [00:00<?, ?it/s]"
     ]
    },
    {
     "name": "stdout",
     "output_type": "stream",
     "text": [
      "Train data shape torch.Size([312, 4])  Test data shape torch.Size([312, 4])\n"
     ]
    },
    {
     "name": "stderr",
     "output_type": "stream",
     "text": [
      "Calculating splits<function transformer_metric at 0x000001CC7D6D2168> 312:   0%|                 | 0/1 [00:02<?, ?it/s]\n",
      "C:\\Users\\draco\\miniconda3\\envs\\lab_env\\lib\\site-packages\\numpy\\lib\\npyio.py:528: VisibleDeprecationWarning: Creating an ndarray from ragged nested sequences (which is a list-or-tuple of lists-or-tuples-or ndarrays with different lengths or shapes) is deprecated. If you meant to do this, you must specify 'dtype=object' when creating the ndarray.\n",
      "  arr = np.asanyarray(arr)\n"
     ]
    },
    {
     "name": "stdout",
     "output_type": "stream",
     "text": [
      "saved results to .\\results/tabular/multiclass/results_transformer_time_3600_roc_auc_balance-scale_312_624_3.npy\n"
     ]
    },
    {
     "name": "stderr",
     "output_type": "stream",
     "text": [
      "\r",
      "Calculating splits<function transformer_metric at 0x000001CC7D6D2168> 312:   0%|                 | 0/1 [00:00<?, ?it/s]"
     ]
    },
    {
     "name": "stdout",
     "output_type": "stream",
     "text": [
      "Train data shape torch.Size([312, 4])  Test data shape torch.Size([312, 4])\n"
     ]
    },
    {
     "name": "stderr",
     "output_type": "stream",
     "text": [
      "Calculating splits<function transformer_metric at 0x000001CC7D6D2168> 312:   0%|                 | 0/1 [00:02<?, ?it/s]\n",
      "C:\\Users\\draco\\miniconda3\\envs\\lab_env\\lib\\site-packages\\numpy\\lib\\npyio.py:528: VisibleDeprecationWarning: Creating an ndarray from ragged nested sequences (which is a list-or-tuple of lists-or-tuples-or ndarrays with different lengths or shapes) is deprecated. If you meant to do this, you must specify 'dtype=object' when creating the ndarray.\n",
      "  arr = np.asanyarray(arr)\n"
     ]
    },
    {
     "name": "stdout",
     "output_type": "stream",
     "text": [
      "saved results to .\\results/tabular/multiclass/results_transformer_time_3600_roc_auc_balance-scale_312_624_4.npy\n"
     ]
    },
    {
     "name": "stderr",
     "output_type": "stream",
     "text": [
      "\r",
      "Calculating splits<function transformer_metric at 0x000001CC7D6D2168> 312:   0%|                 | 0/1 [00:00<?, ?it/s]"
     ]
    },
    {
     "name": "stdout",
     "output_type": "stream",
     "text": [
      "Train data shape torch.Size([312, 4])  Test data shape torch.Size([312, 4])\n"
     ]
    },
    {
     "name": "stderr",
     "output_type": "stream",
     "text": [
      "Calculating splits<function transformer_metric at 0x000001CC7D6D2168> 312:   0%|                 | 0/1 [00:02<?, ?it/s]\n",
      "C:\\Users\\draco\\miniconda3\\envs\\lab_env\\lib\\site-packages\\numpy\\lib\\npyio.py:528: VisibleDeprecationWarning: Creating an ndarray from ragged nested sequences (which is a list-or-tuple of lists-or-tuples-or ndarrays with different lengths or shapes) is deprecated. If you meant to do this, you must specify 'dtype=object' when creating the ndarray.\n",
      "  arr = np.asanyarray(arr)\n"
     ]
    },
    {
     "name": "stdout",
     "output_type": "stream",
     "text": [
      "saved results to .\\results/tabular/multiclass/results_transformer_time_3600_roc_auc_balance-scale_312_624_5.npy\n"
     ]
    },
    {
     "name": "stderr",
     "output_type": "stream",
     "text": [
      "\r",
      "Calculating splits<function logistic_metric at 0x000001CC7D6D2948> 312:   0%|                    | 0/1 [00:00<?, ?it/s]"
     ]
    },
    {
     "name": "stdout",
     "output_type": "stream",
     "text": [
      "\n",
      "  0%|                                                                         | 0/1000 [00:00<?, ?trial/s, best loss=?]\u001b[A\n",
      "  0%|                                              | 1/1000 [00:00<10:31,  1.58trial/s, best loss: -0.9491881651766712]\u001b[A"
     ]
    },
    {
     "name": "stderr",
     "output_type": "stream",
     "text": [
      "Calculating splits<function logistic_metric at 0x000001CC7D6D2948> 312:   0%|                    | 0/1 [00:01<?, ?it/s]\n",
      "C:\\Users\\draco\\miniconda3\\envs\\lab_env\\lib\\site-packages\\numpy\\lib\\npyio.py:528: VisibleDeprecationWarning: Creating an ndarray from ragged nested sequences (which is a list-or-tuple of lists-or-tuples-or ndarrays with different lengths or shapes) is deprecated. If you meant to do this, you must specify 'dtype=object' when creating the ndarray.\n",
      "  arr = np.asanyarray(arr)\n"
     ]
    },
    {
     "name": "stdout",
     "output_type": "stream",
     "text": [
      "\n",
      "saved results to .\\results/tabular/multiclass/results_logistic_time_0.5_roc_auc_balance-scale_312_624_1.npy\n"
     ]
    },
    {
     "name": "stderr",
     "output_type": "stream",
     "text": [
      "\r",
      "Calculating splits<function logistic_metric at 0x000001CC7D6D2948> 312:   0%|                    | 0/1 [00:00<?, ?it/s]"
     ]
    },
    {
     "name": "stdout",
     "output_type": "stream",
     "text": [
      "\n",
      "  0%|                                                                         | 0/1000 [00:00<?, ?trial/s, best loss=?]\u001b[A\n",
      "  0%|                                              | 1/1000 [00:00<10:37,  1.57trial/s, best loss: -0.9337920293565455]\u001b[A"
     ]
    },
    {
     "name": "stderr",
     "output_type": "stream",
     "text": [
      "Calculating splits<function logistic_metric at 0x000001CC7D6D2948> 312:   0%|                    | 0/1 [00:01<?, ?it/s]\n",
      "C:\\Users\\draco\\miniconda3\\envs\\lab_env\\lib\\site-packages\\numpy\\lib\\npyio.py:528: VisibleDeprecationWarning: Creating an ndarray from ragged nested sequences (which is a list-or-tuple of lists-or-tuples-or ndarrays with different lengths or shapes) is deprecated. If you meant to do this, you must specify 'dtype=object' when creating the ndarray.\n",
      "  arr = np.asanyarray(arr)\n"
     ]
    },
    {
     "name": "stdout",
     "output_type": "stream",
     "text": [
      "\n",
      "saved results to .\\results/tabular/multiclass/results_logistic_time_0.5_roc_auc_balance-scale_312_624_2.npy\n"
     ]
    },
    {
     "name": "stderr",
     "output_type": "stream",
     "text": [
      "\r",
      "Calculating splits<function logistic_metric at 0x000001CC7D6D2948> 312:   0%|                    | 0/1 [00:00<?, ?it/s]"
     ]
    },
    {
     "name": "stdout",
     "output_type": "stream",
     "text": [
      "\n",
      "  0%|                                                                         | 0/1000 [00:00<?, ?trial/s, best loss=?]\u001b[A\n",
      "  0%|                                              | 1/1000 [00:00<10:36,  1.57trial/s, best loss: -0.9543769425019425]\u001b[A"
     ]
    },
    {
     "name": "stderr",
     "output_type": "stream",
     "text": [
      "Calculating splits<function logistic_metric at 0x000001CC7D6D2948> 312:   0%|                    | 0/1 [00:01<?, ?it/s]\n",
      "C:\\Users\\draco\\miniconda3\\envs\\lab_env\\lib\\site-packages\\numpy\\lib\\npyio.py:528: VisibleDeprecationWarning: Creating an ndarray from ragged nested sequences (which is a list-or-tuple of lists-or-tuples-or ndarrays with different lengths or shapes) is deprecated. If you meant to do this, you must specify 'dtype=object' when creating the ndarray.\n",
      "  arr = np.asanyarray(arr)\n"
     ]
    },
    {
     "name": "stdout",
     "output_type": "stream",
     "text": [
      "\n",
      "saved results to .\\results/tabular/multiclass/results_logistic_time_0.5_roc_auc_balance-scale_312_624_3.npy\n"
     ]
    },
    {
     "name": "stderr",
     "output_type": "stream",
     "text": [
      "\r",
      "Calculating splits<function logistic_metric at 0x000001CC7D6D2948> 312:   0%|                    | 0/1 [00:00<?, ?it/s]"
     ]
    },
    {
     "name": "stdout",
     "output_type": "stream",
     "text": [
      "\n",
      "  0%|                                                                         | 0/1000 [00:00<?, ?trial/s, best loss=?]\u001b[A\n",
      "  0%|                                              | 1/1000 [00:00<10:34,  1.57trial/s, best loss: -0.9731636562671045]\u001b[A"
     ]
    },
    {
     "name": "stderr",
     "output_type": "stream",
     "text": [
      "Calculating splits<function logistic_metric at 0x000001CC7D6D2948> 312:   0%|                    | 0/1 [00:01<?, ?it/s]\n",
      "C:\\Users\\draco\\miniconda3\\envs\\lab_env\\lib\\site-packages\\numpy\\lib\\npyio.py:528: VisibleDeprecationWarning: Creating an ndarray from ragged nested sequences (which is a list-or-tuple of lists-or-tuples-or ndarrays with different lengths or shapes) is deprecated. If you meant to do this, you must specify 'dtype=object' when creating the ndarray.\n",
      "  arr = np.asanyarray(arr)\n"
     ]
    },
    {
     "name": "stdout",
     "output_type": "stream",
     "text": [
      "\n",
      "saved results to .\\results/tabular/multiclass/results_logistic_time_0.5_roc_auc_balance-scale_312_624_4.npy\n"
     ]
    },
    {
     "name": "stderr",
     "output_type": "stream",
     "text": [
      "\r",
      "Calculating splits<function logistic_metric at 0x000001CC7D6D2948> 312:   0%|                    | 0/1 [00:00<?, ?it/s]"
     ]
    },
    {
     "name": "stdout",
     "output_type": "stream",
     "text": [
      "\n",
      "  0%|                                                                         | 0/1000 [00:00<?, ?trial/s, best loss=?]\u001b[A\n",
      "  0%|                                              | 1/1000 [00:00<10:23,  1.60trial/s, best loss: -0.9535993817678406]\u001b[A"
     ]
    },
    {
     "name": "stderr",
     "output_type": "stream",
     "text": [
      "Calculating splits<function logistic_metric at 0x000001CC7D6D2948> 312:   0%|                    | 0/1 [00:01<?, ?it/s]\n",
      "C:\\Users\\draco\\miniconda3\\envs\\lab_env\\lib\\site-packages\\numpy\\lib\\npyio.py:528: VisibleDeprecationWarning: Creating an ndarray from ragged nested sequences (which is a list-or-tuple of lists-or-tuples-or ndarrays with different lengths or shapes) is deprecated. If you meant to do this, you must specify 'dtype=object' when creating the ndarray.\n",
      "  arr = np.asanyarray(arr)\n"
     ]
    },
    {
     "name": "stdout",
     "output_type": "stream",
     "text": [
      "\n",
      "saved results to .\\results/tabular/multiclass/results_logistic_time_0.5_roc_auc_balance-scale_312_624_5.npy\n"
     ]
    },
    {
     "name": "stderr",
     "output_type": "stream",
     "text": [
      "\r",
      "Calculating splits<function logistic_metric at 0x000001CC7D6D2948> 312:   0%|                    | 0/1 [00:00<?, ?it/s]"
     ]
    },
    {
     "name": "stdout",
     "output_type": "stream",
     "text": [
      "\n",
      "  0%|                                                                         | 0/1000 [00:00<?, ?trial/s, best loss=?]\u001b[A\n",
      "  0%|                                              | 1/1000 [00:00<10:38,  1.57trial/s, best loss: -0.9491881651766712]\u001b[A"
     ]
    },
    {
     "name": "stderr",
     "output_type": "stream",
     "text": [
      "Calculating splits<function logistic_metric at 0x000001CC7D6D2948> 312:   0%|                    | 0/1 [00:01<?, ?it/s]\n",
      "C:\\Users\\draco\\miniconda3\\envs\\lab_env\\lib\\site-packages\\numpy\\lib\\npyio.py:528: VisibleDeprecationWarning: Creating an ndarray from ragged nested sequences (which is a list-or-tuple of lists-or-tuples-or ndarrays with different lengths or shapes) is deprecated. If you meant to do this, you must specify 'dtype=object' when creating the ndarray.\n",
      "  arr = np.asanyarray(arr)\n"
     ]
    },
    {
     "name": "stdout",
     "output_type": "stream",
     "text": [
      "\n",
      "saved results to .\\results/tabular/multiclass/results_logistic_time_1_roc_auc_balance-scale_312_624_1.npy\n"
     ]
    },
    {
     "name": "stderr",
     "output_type": "stream",
     "text": [
      "\r",
      "Calculating splits<function logistic_metric at 0x000001CC7D6D2948> 312:   0%|                    | 0/1 [00:00<?, ?it/s]"
     ]
    },
    {
     "name": "stdout",
     "output_type": "stream",
     "text": [
      "\n",
      "  0%|                                                                         | 0/1000 [00:00<?, ?trial/s, best loss=?]\u001b[A\n",
      "  0%|                                              | 1/1000 [00:00<10:38,  1.57trial/s, best loss: -0.9337920293565455]\u001b[A"
     ]
    },
    {
     "name": "stderr",
     "output_type": "stream",
     "text": [
      "Calculating splits<function logistic_metric at 0x000001CC7D6D2948> 312:   0%|                    | 0/1 [00:01<?, ?it/s]\n",
      "C:\\Users\\draco\\miniconda3\\envs\\lab_env\\lib\\site-packages\\numpy\\lib\\npyio.py:528: VisibleDeprecationWarning: Creating an ndarray from ragged nested sequences (which is a list-or-tuple of lists-or-tuples-or ndarrays with different lengths or shapes) is deprecated. If you meant to do this, you must specify 'dtype=object' when creating the ndarray.\n",
      "  arr = np.asanyarray(arr)\n"
     ]
    },
    {
     "name": "stdout",
     "output_type": "stream",
     "text": [
      "\n",
      "saved results to .\\results/tabular/multiclass/results_logistic_time_1_roc_auc_balance-scale_312_624_2.npy\n"
     ]
    },
    {
     "name": "stderr",
     "output_type": "stream",
     "text": [
      "\r",
      "Calculating splits<function logistic_metric at 0x000001CC7D6D2948> 312:   0%|                    | 0/1 [00:00<?, ?it/s]"
     ]
    },
    {
     "name": "stdout",
     "output_type": "stream",
     "text": [
      "\n",
      "  0%|                                                                         | 0/1000 [00:00<?, ?trial/s, best loss=?]\u001b[A\n",
      "  0%|                                              | 1/1000 [00:00<10:37,  1.57trial/s, best loss: -0.9543769425019425]\u001b[A"
     ]
    },
    {
     "name": "stderr",
     "output_type": "stream",
     "text": [
      "Calculating splits<function logistic_metric at 0x000001CC7D6D2948> 312:   0%|                    | 0/1 [00:01<?, ?it/s]\n",
      "C:\\Users\\draco\\miniconda3\\envs\\lab_env\\lib\\site-packages\\numpy\\lib\\npyio.py:528: VisibleDeprecationWarning: Creating an ndarray from ragged nested sequences (which is a list-or-tuple of lists-or-tuples-or ndarrays with different lengths or shapes) is deprecated. If you meant to do this, you must specify 'dtype=object' when creating the ndarray.\n",
      "  arr = np.asanyarray(arr)\n"
     ]
    },
    {
     "name": "stdout",
     "output_type": "stream",
     "text": [
      "\n",
      "saved results to .\\results/tabular/multiclass/results_logistic_time_1_roc_auc_balance-scale_312_624_3.npy\n"
     ]
    },
    {
     "name": "stderr",
     "output_type": "stream",
     "text": [
      "\r",
      "Calculating splits<function logistic_metric at 0x000001CC7D6D2948> 312:   0%|                    | 0/1 [00:00<?, ?it/s]"
     ]
    },
    {
     "name": "stdout",
     "output_type": "stream",
     "text": [
      "\n",
      "  0%|                                                                         | 0/1000 [00:00<?, ?trial/s, best loss=?]\u001b[A\n",
      "  0%|                                              | 1/1000 [00:00<10:42,  1.55trial/s, best loss: -0.9733935413245758]\u001b[A"
     ]
    },
    {
     "name": "stderr",
     "output_type": "stream",
     "text": [
      "Calculating splits<function logistic_metric at 0x000001CC7D6D2948> 312:   0%|                    | 0/1 [00:01<?, ?it/s]\n",
      "C:\\Users\\draco\\miniconda3\\envs\\lab_env\\lib\\site-packages\\numpy\\lib\\npyio.py:528: VisibleDeprecationWarning: Creating an ndarray from ragged nested sequences (which is a list-or-tuple of lists-or-tuples-or ndarrays with different lengths or shapes) is deprecated. If you meant to do this, you must specify 'dtype=object' when creating the ndarray.\n",
      "  arr = np.asanyarray(arr)\n"
     ]
    },
    {
     "name": "stdout",
     "output_type": "stream",
     "text": [
      "\n",
      "saved results to .\\results/tabular/multiclass/results_logistic_time_1_roc_auc_balance-scale_312_624_4.npy\n"
     ]
    },
    {
     "name": "stderr",
     "output_type": "stream",
     "text": [
      "\r",
      "Calculating splits<function logistic_metric at 0x000001CC7D6D2948> 312:   0%|                    | 0/1 [00:00<?, ?it/s]"
     ]
    },
    {
     "name": "stdout",
     "output_type": "stream",
     "text": [
      "\n",
      "  0%|                                                                         | 0/1000 [00:00<?, ?trial/s, best loss=?]\u001b[A\n",
      "  0%|                                              | 1/1000 [00:00<10:37,  1.57trial/s, best loss: -0.9535993817678406]\u001b[A"
     ]
    },
    {
     "name": "stderr",
     "output_type": "stream",
     "text": [
      "Calculating splits<function logistic_metric at 0x000001CC7D6D2948> 312:   0%|                    | 0/1 [00:01<?, ?it/s]\n",
      "C:\\Users\\draco\\miniconda3\\envs\\lab_env\\lib\\site-packages\\numpy\\lib\\npyio.py:528: VisibleDeprecationWarning: Creating an ndarray from ragged nested sequences (which is a list-or-tuple of lists-or-tuples-or ndarrays with different lengths or shapes) is deprecated. If you meant to do this, you must specify 'dtype=object' when creating the ndarray.\n",
      "  arr = np.asanyarray(arr)\n"
     ]
    },
    {
     "name": "stdout",
     "output_type": "stream",
     "text": [
      "\n",
      "saved results to .\\results/tabular/multiclass/results_logistic_time_1_roc_auc_balance-scale_312_624_5.npy\n"
     ]
    },
    {
     "name": "stderr",
     "output_type": "stream",
     "text": [
      "\r",
      "Calculating splits<function logistic_metric at 0x000001CC7D6D2948> 312:   0%|                    | 0/1 [00:00<?, ?it/s]"
     ]
    },
    {
     "name": "stdout",
     "output_type": "stream",
     "text": [
      "\n",
      "  0%|                                                                         | 0/1000 [00:00<?, ?trial/s, best loss=?]\u001b[A\n",
      "  0%|                                              | 1/1000 [00:00<10:31,  1.58trial/s, best loss: -0.9491881651766712]\u001b[A\n",
      "  0%|                                              | 2/1000 [00:01<10:27,  1.59trial/s, best loss: -0.9491881651766712]\u001b[A\n",
      "  0%|▏                                             | 3/1000 [00:01<10:24,  1.60trial/s, best loss: -0.9491881651766712]\u001b[A\n",
      "  0%|▏                                             | 4/1000 [00:02<10:23,  1.60trial/s, best loss: -0.9491881651766712]\u001b[A\n",
      "  0%|▏                                             | 5/1000 [00:03<10:22,  1.60trial/s, best loss: -0.9491881651766712]\u001b[A\n",
      "  1%|▎                                             | 6/1000 [00:03<10:21,  1.60trial/s, best loss: -0.9491881651766712]\u001b[A\n",
      "  1%|▎                                             | 7/1000 [00:04<10:21,  1.60trial/s, best loss: -0.9565606641123882]\u001b[A\n",
      "  1%|▎                                             | 8/1000 [00:05<10:19,  1.60trial/s, best loss: -0.9565606641123882]\u001b[A\n",
      "  1%|▍                                             | 9/1000 [00:05<10:19,  1.60trial/s, best loss: -0.9565606641123882]\u001b[A\n",
      "  1%|▍                                            | 10/1000 [00:06<10:19,  1.60trial/s, best loss: -0.9565606641123882]\u001b[A\n",
      "  1%|▍                                            | 11/1000 [00:06<10:17,  1.60trial/s, best loss: -0.9565606641123882]\u001b[A\n",
      "  1%|▌                                            | 12/1000 [00:07<10:17,  1.60trial/s, best loss: -0.9565606641123882]\u001b[A\n",
      "  1%|▌                                            | 13/1000 [00:08<10:16,  1.60trial/s, best loss: -0.9565606641123882]\u001b[A\n",
      "  1%|▋                                            | 14/1000 [00:08<10:16,  1.60trial/s, best loss: -0.9565606641123882]\u001b[A\n",
      "  2%|▋                                            | 15/1000 [00:09<10:16,  1.60trial/s, best loss: -0.9565606641123882]\u001b[A\n",
      "  2%|▋                                            | 16/1000 [00:10<10:16,  1.60trial/s, best loss: -0.9565606641123882]\u001b[A\n",
      "  2%|▊                                            | 17/1000 [00:10<10:15,  1.60trial/s, best loss: -0.9565606641123882]\u001b[A\n",
      "  2%|▊                                            | 18/1000 [00:11<10:13,  1.60trial/s, best loss: -0.9565606641123882]\u001b[A\n",
      "  2%|▊                                            | 19/1000 [00:11<10:12,  1.60trial/s, best loss: -0.9565606641123882]\u001b[A\n",
      "  2%|▉                                            | 20/1000 [00:12<10:10,  1.60trial/s, best loss: -0.9565606641123882]\u001b[A\n",
      "  2%|▉                                            | 21/1000 [00:13<10:11,  1.60trial/s, best loss: -0.9565606641123882]\u001b[A\n",
      "  2%|▉                                            | 22/1000 [00:13<10:10,  1.60trial/s, best loss: -0.9565606641123882]\u001b[A\n",
      "  2%|█                                            | 23/1000 [00:14<10:09,  1.60trial/s, best loss: -0.9565606641123882]\u001b[A\n",
      "  2%|█                                            | 24/1000 [00:15<10:10,  1.60trial/s, best loss: -0.9565606641123882]\u001b[A"
     ]
    },
    {
     "name": "stderr",
     "output_type": "stream",
     "text": [
      "Calculating splits<function logistic_metric at 0x000001CC7D6D2948> 312:   0%|                    | 0/1 [00:15<?, ?it/s]\n",
      "C:\\Users\\draco\\miniconda3\\envs\\lab_env\\lib\\site-packages\\numpy\\lib\\npyio.py:528: VisibleDeprecationWarning: Creating an ndarray from ragged nested sequences (which is a list-or-tuple of lists-or-tuples-or ndarrays with different lengths or shapes) is deprecated. If you meant to do this, you must specify 'dtype=object' when creating the ndarray.\n",
      "  arr = np.asanyarray(arr)\n"
     ]
    },
    {
     "name": "stdout",
     "output_type": "stream",
     "text": [
      "\n",
      "saved results to .\\results/tabular/multiclass/results_logistic_time_15_roc_auc_balance-scale_312_624_1.npy\n"
     ]
    },
    {
     "name": "stderr",
     "output_type": "stream",
     "text": [
      "\r",
      "Calculating splits<function logistic_metric at 0x000001CC7D6D2948> 312:   0%|                    | 0/1 [00:00<?, ?it/s]"
     ]
    },
    {
     "name": "stdout",
     "output_type": "stream",
     "text": [
      "\n",
      "  0%|                                                                         | 0/1000 [00:00<?, ?trial/s, best loss=?]\u001b[A\n",
      "  0%|                                              | 1/1000 [00:00<10:17,  1.62trial/s, best loss: -0.9337920293565455]\u001b[A\n",
      "  0%|                                              | 2/1000 [00:01<10:23,  1.60trial/s, best loss: -0.9337920293565455]\u001b[A\n",
      "  0%|▏                                             | 3/1000 [00:01<10:29,  1.58trial/s, best loss: -0.9337920293565455]\u001b[A\n",
      "  0%|▏                                             | 4/1000 [00:02<10:25,  1.59trial/s, best loss: -0.9618780366387891]\u001b[A\n",
      "  0%|▏                                             | 5/1000 [00:03<10:22,  1.60trial/s, best loss: -0.9630297547931956]\u001b[A\n",
      "  1%|▎                                             | 6/1000 [00:03<10:21,  1.60trial/s, best loss: -0.9630297547931956]\u001b[A\n",
      "  1%|▎                                             | 7/1000 [00:04<10:20,  1.60trial/s, best loss: -0.9630297547931956]\u001b[A\n",
      "  1%|▎                                             | 8/1000 [00:05<10:21,  1.60trial/s, best loss: -0.9630297547931956]\u001b[A\n",
      "  1%|▍                                             | 9/1000 [00:05<10:19,  1.60trial/s, best loss: -0.9630297547931956]\u001b[A\n",
      "  1%|▍                                            | 10/1000 [00:06<10:18,  1.60trial/s, best loss: -0.9630297547931956]\u001b[A\n",
      "  1%|▍                                            | 11/1000 [00:06<10:18,  1.60trial/s, best loss: -0.9630297547931956]\u001b[A\n",
      "  1%|▌                                            | 12/1000 [00:07<10:16,  1.60trial/s, best loss: -0.9630297547931956]\u001b[A\n",
      "  1%|▌                                            | 13/1000 [00:08<10:15,  1.60trial/s, best loss: -0.9644311600386869]\u001b[A\n",
      "  1%|▋                                            | 14/1000 [00:08<10:15,  1.60trial/s, best loss: -0.9644311600386869]\u001b[A\n",
      "  2%|▋                                            | 15/1000 [00:09<10:15,  1.60trial/s, best loss: -0.9644311600386869]\u001b[A\n",
      "  2%|▋                                            | 16/1000 [00:10<10:14,  1.60trial/s, best loss: -0.9644311600386869]\u001b[A\n",
      "  2%|▊                                            | 17/1000 [00:10<10:13,  1.60trial/s, best loss: -0.9644311600386869]\u001b[A\n",
      "  2%|▊                                            | 18/1000 [00:11<10:13,  1.60trial/s, best loss: -0.9644311600386869]\u001b[A\n",
      "  2%|▊                                            | 19/1000 [00:11<10:11,  1.60trial/s, best loss: -0.9644311600386869]\u001b[A\n",
      "  2%|▉                                            | 20/1000 [00:12<10:12,  1.60trial/s, best loss: -0.9644311600386869]\u001b[A\n",
      "  2%|▉                                            | 21/1000 [00:13<10:13,  1.60trial/s, best loss: -0.9644311600386869]\u001b[A\n",
      "  2%|▉                                            | 22/1000 [00:13<10:15,  1.59trial/s, best loss: -0.9644311600386869]\u001b[A\n",
      "  2%|█                                            | 23/1000 [00:14<10:11,  1.60trial/s, best loss: -0.9644311600386869]\u001b[A"
     ]
    },
    {
     "name": "stderr",
     "output_type": "stream",
     "text": [
      "Calculating splits<function logistic_metric at 0x000001CC7D6D2948> 312:   0%|                    | 0/1 [00:15<?, ?it/s]\n",
      "C:\\Users\\draco\\miniconda3\\envs\\lab_env\\lib\\site-packages\\numpy\\lib\\npyio.py:528: VisibleDeprecationWarning: Creating an ndarray from ragged nested sequences (which is a list-or-tuple of lists-or-tuples-or ndarrays with different lengths or shapes) is deprecated. If you meant to do this, you must specify 'dtype=object' when creating the ndarray.\n",
      "  arr = np.asanyarray(arr)\n"
     ]
    },
    {
     "name": "stdout",
     "output_type": "stream",
     "text": [
      "\n",
      "saved results to .\\results/tabular/multiclass/results_logistic_time_15_roc_auc_balance-scale_312_624_2.npy\n"
     ]
    },
    {
     "name": "stderr",
     "output_type": "stream",
     "text": [
      "\r",
      "Calculating splits<function logistic_metric at 0x000001CC7D6D2948> 312:   0%|                    | 0/1 [00:00<?, ?it/s]"
     ]
    },
    {
     "name": "stdout",
     "output_type": "stream",
     "text": [
      "\n",
      "  0%|                                                                         | 0/1000 [00:00<?, ?trial/s, best loss=?]\u001b[A\n",
      "  0%|                                              | 1/1000 [00:00<10:33,  1.58trial/s, best loss: -0.9543769425019425]\u001b[A\n",
      "  0%|                                              | 2/1000 [00:01<10:26,  1.59trial/s, best loss: -0.9553645833333334]\u001b[A\n",
      "  0%|▏                                             | 3/1000 [00:01<10:23,  1.60trial/s, best loss: -0.9553645833333334]\u001b[A\n",
      "  0%|▏                                             | 4/1000 [00:02<10:21,  1.60trial/s, best loss: -0.9553645833333334]\u001b[A\n",
      "  0%|▏                                             | 5/1000 [00:03<10:21,  1.60trial/s, best loss: -0.9553645833333334]\u001b[A\n",
      "  1%|▎                                             | 6/1000 [00:03<10:21,  1.60trial/s, best loss: -0.9553645833333334]\u001b[A\n",
      "  1%|▎                                             | 7/1000 [00:04<10:21,  1.60trial/s, best loss: -0.9553645833333334]\u001b[A\n",
      "  1%|▎                                             | 8/1000 [00:05<10:19,  1.60trial/s, best loss: -0.9553645833333334]\u001b[A\n",
      "  1%|▍                                             | 9/1000 [00:05<10:19,  1.60trial/s, best loss: -0.9553645833333334]\u001b[A\n",
      "  1%|▍                                            | 10/1000 [00:06<10:18,  1.60trial/s, best loss: -0.9553645833333334]\u001b[A\n",
      "  1%|▍                                            | 11/1000 [00:06<10:23,  1.59trial/s, best loss: -0.9553645833333334]\u001b[A\n",
      "  1%|▌                                            | 12/1000 [00:07<10:20,  1.59trial/s, best loss: -0.9553645833333334]\u001b[A\n",
      "  1%|▌                                            | 13/1000 [00:08<10:19,  1.59trial/s, best loss: -0.9553645833333334]\u001b[A\n",
      "  1%|▋                                            | 14/1000 [00:08<10:18,  1.59trial/s, best loss: -0.9553645833333334]\u001b[A\n",
      "  2%|▋                                            | 15/1000 [00:09<10:16,  1.60trial/s, best loss: -0.9553645833333334]\u001b[A\n",
      "  2%|▋                                            | 16/1000 [00:10<10:15,  1.60trial/s, best loss: -0.9553645833333334]\u001b[A\n",
      "  2%|▊                                            | 17/1000 [00:10<10:13,  1.60trial/s, best loss: -0.9553645833333334]\u001b[A\n",
      "  2%|▊                                            | 18/1000 [00:11<10:14,  1.60trial/s, best loss: -0.9553645833333334]\u001b[A\n",
      "  2%|▊                                            | 19/1000 [00:11<10:12,  1.60trial/s, best loss: -0.9553645833333334]\u001b[A\n",
      "  2%|▉                                            | 20/1000 [00:12<10:11,  1.60trial/s, best loss: -0.9553645833333334]\u001b[A\n",
      "  2%|▉                                            | 21/1000 [00:13<10:12,  1.60trial/s, best loss: -0.9553645833333334]\u001b[A\n",
      "  2%|▉                                            | 22/1000 [00:13<10:12,  1.60trial/s, best loss: -0.9553645833333334]\u001b[A\n",
      "  2%|█                                            | 23/1000 [00:14<10:11,  1.60trial/s, best loss: -0.9553645833333334]\u001b[A"
     ]
    },
    {
     "name": "stderr",
     "output_type": "stream",
     "text": [
      "Calculating splits<function logistic_metric at 0x000001CC7D6D2948> 312:   0%|                    | 0/1 [00:15<?, ?it/s]\n",
      "C:\\Users\\draco\\miniconda3\\envs\\lab_env\\lib\\site-packages\\numpy\\lib\\npyio.py:528: VisibleDeprecationWarning: Creating an ndarray from ragged nested sequences (which is a list-or-tuple of lists-or-tuples-or ndarrays with different lengths or shapes) is deprecated. If you meant to do this, you must specify 'dtype=object' when creating the ndarray.\n",
      "  arr = np.asanyarray(arr)\n"
     ]
    },
    {
     "name": "stdout",
     "output_type": "stream",
     "text": [
      "\n",
      "saved results to .\\results/tabular/multiclass/results_logistic_time_15_roc_auc_balance-scale_312_624_3.npy\n"
     ]
    },
    {
     "name": "stderr",
     "output_type": "stream",
     "text": [
      "\r",
      "Calculating splits<function logistic_metric at 0x000001CC7D6D2948> 312:   0%|                    | 0/1 [00:00<?, ?it/s]"
     ]
    },
    {
     "name": "stdout",
     "output_type": "stream",
     "text": [
      "\n",
      "  0%|                                                                         | 0/1000 [00:00<?, ?trial/s, best loss=?]\u001b[A\n",
      "  0%|                                              | 1/1000 [00:00<10:28,  1.59trial/s, best loss: -0.9731636562671045]\u001b[A\n",
      "  0%|                                              | 2/1000 [00:01<10:25,  1.59trial/s, best loss: -0.9731636562671045]\u001b[A\n",
      "  0%|▏                                             | 3/1000 [00:01<10:23,  1.60trial/s, best loss: -0.9734017515051999]\u001b[A\n",
      "  0%|▏                                             | 4/1000 [00:02<10:22,  1.60trial/s, best loss: -0.9734017515051999]\u001b[A\n",
      "  0%|▏                                             | 5/1000 [00:03<10:22,  1.60trial/s, best loss: -0.9734017515051999]\u001b[A\n",
      "  1%|▎                                             | 6/1000 [00:03<10:22,  1.60trial/s, best loss: -0.9734017515051999]\u001b[A\n",
      "  1%|▎                                             | 7/1000 [00:04<10:17,  1.61trial/s, best loss: -0.9734017515051999]\u001b[A\n",
      "  1%|▎                                             | 8/1000 [00:04<10:16,  1.61trial/s, best loss: -0.9734017515051999]\u001b[A\n",
      "  1%|▍                                             | 9/1000 [00:05<10:18,  1.60trial/s, best loss: -0.9734017515051999]\u001b[A\n",
      "  1%|▍                                            | 10/1000 [00:06<10:18,  1.60trial/s, best loss: -0.9734017515051999]\u001b[A\n",
      "  1%|▍                                            | 11/1000 [00:06<10:20,  1.59trial/s, best loss: -0.9734017515051999]\u001b[A\n",
      "  1%|▌                                            | 12/1000 [00:07<10:18,  1.60trial/s, best loss: -0.9734017515051999]\u001b[A\n",
      "  1%|▌                                            | 13/1000 [00:08<10:17,  1.60trial/s, best loss: -0.9734017515051999]\u001b[A\n",
      "  1%|▋                                            | 14/1000 [00:08<10:17,  1.60trial/s, best loss: -0.9734017515051999]\u001b[A\n",
      "  2%|▋                                            | 15/1000 [00:09<10:16,  1.60trial/s, best loss: -0.9734017515051999]\u001b[A\n",
      "  2%|▋                                            | 16/1000 [00:10<10:16,  1.60trial/s, best loss: -0.9734017515051999]\u001b[A\n",
      "  2%|▊                                            | 17/1000 [00:10<10:15,  1.60trial/s, best loss: -0.9734017515051999]\u001b[A\n",
      "  2%|▊                                            | 18/1000 [00:11<10:14,  1.60trial/s, best loss: -0.9734017515051999]\u001b[A\n",
      "  2%|▊                                            | 19/1000 [00:11<10:14,  1.60trial/s, best loss: -0.9734017515051999]\u001b[A\n",
      "  2%|▉                                            | 20/1000 [00:12<10:12,  1.60trial/s, best loss: -0.9734017515051999]\u001b[A\n",
      "  2%|▉                                            | 21/1000 [00:13<10:12,  1.60trial/s, best loss: -0.9734017515051999]\u001b[A\n",
      "  2%|▉                                            | 22/1000 [00:13<10:11,  1.60trial/s, best loss: -0.9734017515051999]\u001b[A\n",
      "  2%|█                                            | 23/1000 [00:14<10:11,  1.60trial/s, best loss: -0.9734017515051999]\u001b[A"
     ]
    },
    {
     "name": "stderr",
     "output_type": "stream",
     "text": [
      "Calculating splits<function logistic_metric at 0x000001CC7D6D2948> 312:   0%|                    | 0/1 [00:15<?, ?it/s]\n",
      "C:\\Users\\draco\\miniconda3\\envs\\lab_env\\lib\\site-packages\\numpy\\lib\\npyio.py:528: VisibleDeprecationWarning: Creating an ndarray from ragged nested sequences (which is a list-or-tuple of lists-or-tuples-or ndarrays with different lengths or shapes) is deprecated. If you meant to do this, you must specify 'dtype=object' when creating the ndarray.\n",
      "  arr = np.asanyarray(arr)\n"
     ]
    },
    {
     "name": "stdout",
     "output_type": "stream",
     "text": [
      "\n",
      "saved results to .\\results/tabular/multiclass/results_logistic_time_15_roc_auc_balance-scale_312_624_4.npy\n"
     ]
    },
    {
     "name": "stderr",
     "output_type": "stream",
     "text": [
      "\r",
      "Calculating splits<function logistic_metric at 0x000001CC7D6D2948> 312:   0%|                    | 0/1 [00:00<?, ?it/s]"
     ]
    },
    {
     "name": "stdout",
     "output_type": "stream",
     "text": [
      "\n",
      "  0%|                                                                         | 0/1000 [00:00<?, ?trial/s, best loss=?]\u001b[A\n",
      "  0%|                                              | 1/1000 [00:00<10:24,  1.60trial/s, best loss: -0.9535993817678406]\u001b[A\n",
      "  0%|                                              | 2/1000 [00:01<10:23,  1.60trial/s, best loss: -0.9535993817678406]\u001b[A\n",
      "  0%|▏                                             | 3/1000 [00:01<10:21,  1.60trial/s, best loss: -0.9535993817678406]\u001b[A\n",
      "  0%|▏                                             | 4/1000 [00:02<10:23,  1.60trial/s, best loss: -0.9535993817678406]\u001b[A\n",
      "  0%|▏                                             | 5/1000 [00:03<10:22,  1.60trial/s, best loss: -0.9535993817678406]\u001b[A\n",
      "  1%|▎                                             | 6/1000 [00:03<10:23,  1.59trial/s, best loss: -0.9535993817678406]\u001b[A\n",
      "  1%|▎                                             | 7/1000 [00:04<10:23,  1.59trial/s, best loss: -0.9538681989721415]\u001b[A\n",
      "  1%|▎                                             | 8/1000 [00:05<10:23,  1.59trial/s, best loss: -0.9538681989721415]\u001b[A\n",
      "  1%|▍                                             | 9/1000 [00:05<10:22,  1.59trial/s, best loss: -0.9538681989721415]\u001b[A\n",
      "  1%|▍                                            | 10/1000 [00:06<10:20,  1.59trial/s, best loss: -0.9538681989721415]\u001b[A\n",
      "  1%|▍                                            | 11/1000 [00:06<10:19,  1.60trial/s, best loss: -0.9538681989721415]\u001b[A\n",
      "  1%|▌                                            | 12/1000 [00:07<10:18,  1.60trial/s, best loss: -0.9538681989721415]\u001b[A\n",
      "  1%|▌                                            | 13/1000 [00:08<10:18,  1.60trial/s, best loss: -0.9538681989721415]\u001b[A\n",
      "  1%|▋                                            | 14/1000 [00:08<10:18,  1.59trial/s, best loss: -0.9538681989721415]\u001b[A\n",
      "  2%|▋                                            | 15/1000 [00:09<10:17,  1.59trial/s, best loss: -0.9538681989721415]\u001b[A\n",
      "  2%|▋                                            | 16/1000 [00:10<10:16,  1.60trial/s, best loss: -0.9538681989721415]\u001b[A\n",
      "  2%|▊                                            | 17/1000 [00:10<10:14,  1.60trial/s, best loss: -0.9538681989721415]\u001b[A\n",
      "  2%|▊                                            | 18/1000 [00:11<10:15,  1.60trial/s, best loss: -0.9538681989721415]\u001b[A\n",
      "  2%|▊                                            | 19/1000 [00:11<10:14,  1.60trial/s, best loss: -0.9538681989721415]\u001b[A\n",
      "  2%|▉                                            | 20/1000 [00:12<10:13,  1.60trial/s, best loss: -0.9538681989721415]\u001b[A\n",
      "  2%|▉                                            | 21/1000 [00:13<10:12,  1.60trial/s, best loss: -0.9538681989721415]\u001b[A\n",
      "  2%|▉                                            | 22/1000 [00:13<10:11,  1.60trial/s, best loss: -0.9538681989721415]\u001b[A\n",
      "  2%|█                                            | 23/1000 [00:14<10:12,  1.60trial/s, best loss: -0.9538681989721415]\u001b[A"
     ]
    },
    {
     "name": "stderr",
     "output_type": "stream",
     "text": [
      "Calculating splits<function logistic_metric at 0x000001CC7D6D2948> 312:   0%|                    | 0/1 [00:15<?, ?it/s]\n",
      "C:\\Users\\draco\\miniconda3\\envs\\lab_env\\lib\\site-packages\\numpy\\lib\\npyio.py:528: VisibleDeprecationWarning: Creating an ndarray from ragged nested sequences (which is a list-or-tuple of lists-or-tuples-or ndarrays with different lengths or shapes) is deprecated. If you meant to do this, you must specify 'dtype=object' when creating the ndarray.\n",
      "  arr = np.asanyarray(arr)\n"
     ]
    },
    {
     "name": "stdout",
     "output_type": "stream",
     "text": [
      "\n",
      "saved results to .\\results/tabular/multiclass/results_logistic_time_15_roc_auc_balance-scale_312_624_5.npy\n"
     ]
    },
    {
     "name": "stderr",
     "output_type": "stream",
     "text": [
      "\r",
      "Calculating splits<function logistic_metric at 0x000001CC7D6D2948> 312:   0%|                    | 0/1 [00:00<?, ?it/s]"
     ]
    },
    {
     "name": "stdout",
     "output_type": "stream",
     "text": [
      "\n",
      "  0%|                                                                         | 0/1000 [00:00<?, ?trial/s, best loss=?]\u001b[A\n",
      "  0%|                                              | 1/1000 [00:00<10:19,  1.61trial/s, best loss: -0.9491881651766712]\u001b[A\n",
      "  0%|                                              | 2/1000 [00:01<10:22,  1.60trial/s, best loss: -0.9491881651766712]\u001b[A\n",
      "  0%|▏                                             | 3/1000 [00:01<10:22,  1.60trial/s, best loss: -0.9491881651766712]\u001b[A\n",
      "  0%|▏                                             | 4/1000 [00:02<10:27,  1.59trial/s, best loss: -0.9491881651766712]\u001b[A\n",
      "  0%|▏                                             | 5/1000 [00:03<10:25,  1.59trial/s, best loss: -0.9491881651766712]\u001b[A\n",
      "  1%|▎                                             | 6/1000 [00:03<10:25,  1.59trial/s, best loss: -0.9491881651766712]\u001b[A\n",
      "  1%|▎                                             | 7/1000 [00:04<10:23,  1.59trial/s, best loss: -0.9565606641123882]\u001b[A\n",
      "  1%|▎                                             | 8/1000 [00:05<10:20,  1.60trial/s, best loss: -0.9565606641123882]\u001b[A\n",
      "  1%|▍                                             | 9/1000 [00:05<10:19,  1.60trial/s, best loss: -0.9565606641123882]\u001b[A\n",
      "  1%|▍                                            | 10/1000 [00:06<10:17,  1.60trial/s, best loss: -0.9565606641123882]\u001b[A\n",
      "  1%|▍                                            | 11/1000 [00:06<10:16,  1.60trial/s, best loss: -0.9565606641123882]\u001b[A\n",
      "  1%|▌                                            | 12/1000 [00:07<10:16,  1.60trial/s, best loss: -0.9565606641123882]\u001b[A\n",
      "  1%|▌                                            | 13/1000 [00:08<10:16,  1.60trial/s, best loss: -0.9565606641123882]\u001b[A\n",
      "  1%|▋                                            | 14/1000 [00:08<10:16,  1.60trial/s, best loss: -0.9565606641123882]\u001b[A\n",
      "  2%|▋                                            | 15/1000 [00:09<10:14,  1.60trial/s, best loss: -0.9565606641123882]\u001b[A\n",
      "  2%|▋                                            | 16/1000 [00:10<10:14,  1.60trial/s, best loss: -0.9565606641123882]\u001b[A\n",
      "  2%|▊                                            | 17/1000 [00:10<10:13,  1.60trial/s, best loss: -0.9565606641123882]\u001b[A\n",
      "  2%|▊                                            | 18/1000 [00:11<10:14,  1.60trial/s, best loss: -0.9565606641123882]\u001b[A\n",
      "  2%|▊                                            | 19/1000 [00:11<10:14,  1.60trial/s, best loss: -0.9565606641123882]\u001b[A\n",
      "  2%|▉                                            | 20/1000 [00:12<10:14,  1.60trial/s, best loss: -0.9565606641123882]\u001b[A\n",
      "  2%|▉                                            | 21/1000 [00:13<10:17,  1.58trial/s, best loss: -0.9565606641123882]\u001b[A\n",
      "  2%|▉                                            | 22/1000 [00:13<10:14,  1.59trial/s, best loss: -0.9565606641123882]\u001b[A\n",
      "  2%|█                                            | 23/1000 [00:14<10:11,  1.60trial/s, best loss: -0.9565606641123882]\u001b[A\n",
      "  2%|█                                            | 24/1000 [00:15<10:12,  1.59trial/s, best loss: -0.9565606641123882]\u001b[A\n",
      "  2%|█▏                                           | 25/1000 [00:15<10:11,  1.59trial/s, best loss: -0.9565606641123882]\u001b[A\n",
      "  3%|█▏                                           | 26/1000 [00:16<10:11,  1.59trial/s, best loss: -0.9565606641123882]\u001b[A\n",
      "  3%|█▏                                           | 27/1000 [00:16<10:10,  1.59trial/s, best loss: -0.9565606641123882]\u001b[A\n",
      "  3%|█▎                                           | 28/1000 [00:17<10:09,  1.59trial/s, best loss: -0.9565606641123882]\u001b[A\n",
      "  3%|█▎                                           | 29/1000 [00:18<10:07,  1.60trial/s, best loss: -0.9565606641123882]\u001b[A\n",
      "  3%|█▎                                           | 30/1000 [00:18<10:06,  1.60trial/s, best loss: -0.9565606641123882]\u001b[A\n",
      "  3%|█▍                                           | 31/1000 [00:19<10:04,  1.60trial/s, best loss: -0.9565606641123882]\u001b[A\n",
      "  3%|█▍                                           | 32/1000 [00:20<10:05,  1.60trial/s, best loss: -0.9565606641123882]\u001b[A\n",
      "  3%|█▍                                           | 33/1000 [00:20<10:06,  1.59trial/s, best loss: -0.9565606641123882]\u001b[A\n",
      "  3%|█▌                                           | 34/1000 [00:21<10:05,  1.60trial/s, best loss: -0.9565606641123882]\u001b[A\n",
      "  4%|█▌                                           | 35/1000 [00:21<10:04,  1.60trial/s, best loss: -0.9565606641123882]\u001b[A\n",
      "  4%|█▌                                           | 36/1000 [00:22<10:02,  1.60trial/s, best loss: -0.9565606641123882]\u001b[A\n",
      "  4%|█▋                                           | 37/1000 [00:23<10:03,  1.60trial/s, best loss: -0.9565606641123882]\u001b[A\n",
      "  4%|█▋                                           | 38/1000 [00:23<10:02,  1.60trial/s, best loss: -0.9565606641123882]\u001b[A\n",
      "  4%|█▊                                           | 39/1000 [00:24<10:06,  1.58trial/s, best loss: -0.9565606641123882]\u001b[A\n",
      "  4%|█▊                                           | 40/1000 [00:25<10:03,  1.59trial/s, best loss: -0.9565606641123882]\u001b[A\n",
      "  4%|█▊                                           | 41/1000 [00:25<10:02,  1.59trial/s, best loss: -0.9565606641123882]\u001b[A\n",
      "  4%|█▉                                           | 42/1000 [00:26<10:02,  1.59trial/s, best loss: -0.9565606641123882]\u001b[A\n",
      "  4%|█▉                                           | 43/1000 [00:26<10:02,  1.59trial/s, best loss: -0.9565606641123882]\u001b[A\n",
      "  4%|█▉                                           | 44/1000 [00:27<10:00,  1.59trial/s, best loss: -0.9565606641123882]\u001b[A\n",
      "  4%|██                                           | 45/1000 [00:28<10:00,  1.59trial/s, best loss: -0.9565606641123882]\u001b[A\n",
      "  5%|██                                           | 46/1000 [00:28<09:59,  1.59trial/s, best loss: -0.9565606641123882]\u001b[A\n",
      "  5%|██                                           | 47/1000 [00:29<09:57,  1.60trial/s, best loss: -0.9565606641123882]\u001b[A"
     ]
    },
    {
     "name": "stderr",
     "output_type": "stream",
     "text": [
      "Calculating splits<function logistic_metric at 0x000001CC7D6D2948> 312:   0%|                    | 0/1 [00:30<?, ?it/s]\n",
      "C:\\Users\\draco\\miniconda3\\envs\\lab_env\\lib\\site-packages\\numpy\\lib\\npyio.py:528: VisibleDeprecationWarning: Creating an ndarray from ragged nested sequences (which is a list-or-tuple of lists-or-tuples-or ndarrays with different lengths or shapes) is deprecated. If you meant to do this, you must specify 'dtype=object' when creating the ndarray.\n",
      "  arr = np.asanyarray(arr)\n"
     ]
    },
    {
     "name": "stdout",
     "output_type": "stream",
     "text": [
      "\n",
      "saved results to .\\results/tabular/multiclass/results_logistic_time_30_roc_auc_balance-scale_312_624_1.npy\n"
     ]
    },
    {
     "name": "stderr",
     "output_type": "stream",
     "text": [
      "\r",
      "Calculating splits<function logistic_metric at 0x000001CC7D6D2948> 312:   0%|                    | 0/1 [00:00<?, ?it/s]"
     ]
    },
    {
     "name": "stdout",
     "output_type": "stream",
     "text": [
      "\n",
      "  0%|                                                                         | 0/1000 [00:00<?, ?trial/s, best loss=?]\u001b[A\n",
      "  0%|                                              | 1/1000 [00:00<10:35,  1.57trial/s, best loss: -0.9337920293565455]\u001b[A\n",
      "  0%|                                              | 2/1000 [00:01<10:29,  1.58trial/s, best loss: -0.9337920293565455]\u001b[A\n",
      "  0%|▏                                             | 3/1000 [00:01<10:29,  1.58trial/s, best loss: -0.9337920293565455]\u001b[A\n",
      "  0%|▏                                             | 4/1000 [00:02<10:28,  1.59trial/s, best loss: -0.9618780366387891]\u001b[A\n",
      "  0%|▏                                             | 5/1000 [00:03<10:28,  1.58trial/s, best loss: -0.9630297547931956]\u001b[A\n",
      "  1%|▎                                             | 6/1000 [00:03<10:29,  1.58trial/s, best loss: -0.9630297547931956]\u001b[A\n",
      "  1%|▎                                             | 7/1000 [00:04<10:26,  1.58trial/s, best loss: -0.9630297547931956]\u001b[A\n",
      "  1%|▎                                             | 8/1000 [00:05<10:24,  1.59trial/s, best loss: -0.9630297547931956]\u001b[A\n",
      "  1%|▍                                             | 9/1000 [00:05<10:24,  1.59trial/s, best loss: -0.9630297547931956]\u001b[A\n",
      "  1%|▍                                            | 10/1000 [00:06<10:27,  1.58trial/s, best loss: -0.9630297547931956]\u001b[A\n",
      "  1%|▍                                            | 11/1000 [00:06<10:25,  1.58trial/s, best loss: -0.9630297547931956]\u001b[A\n",
      "  1%|▌                                            | 12/1000 [00:07<10:21,  1.59trial/s, best loss: -0.9630297547931956]\u001b[A\n",
      "  1%|▌                                            | 13/1000 [00:08<10:19,  1.59trial/s, best loss: -0.9644311600386869]\u001b[A\n",
      "  1%|▋                                            | 14/1000 [00:08<10:16,  1.60trial/s, best loss: -0.9644311600386869]\u001b[A\n",
      "  2%|▋                                            | 15/1000 [00:09<10:16,  1.60trial/s, best loss: -0.9644311600386869]\u001b[A\n",
      "  2%|▋                                            | 16/1000 [00:10<10:14,  1.60trial/s, best loss: -0.9644311600386869]\u001b[A\n",
      "  2%|▊                                            | 17/1000 [00:10<10:19,  1.59trial/s, best loss: -0.9644311600386869]\u001b[A\n",
      "  2%|▊                                            | 18/1000 [00:11<10:18,  1.59trial/s, best loss: -0.9644311600386869]\u001b[A\n",
      "  2%|▊                                            | 19/1000 [00:11<10:19,  1.58trial/s, best loss: -0.9644311600386869]\u001b[A\n",
      "  2%|▉                                            | 20/1000 [00:12<10:18,  1.58trial/s, best loss: -0.9644311600386869]\u001b[A\n",
      "  2%|▉                                            | 21/1000 [00:13<10:15,  1.59trial/s, best loss: -0.9644311600386869]\u001b[A\n",
      "  2%|▉                                            | 22/1000 [00:13<10:14,  1.59trial/s, best loss: -0.9644311600386869]\u001b[A\n",
      "  2%|█                                            | 23/1000 [00:14<10:12,  1.59trial/s, best loss: -0.9644311600386869]\u001b[A\n",
      "  2%|█                                            | 24/1000 [00:15<10:13,  1.59trial/s, best loss: -0.9644311600386869]\u001b[A\n",
      "  2%|█▏                                           | 25/1000 [00:15<10:12,  1.59trial/s, best loss: -0.9644311600386869]\u001b[A\n",
      "  3%|█▏                                           | 26/1000 [00:16<10:12,  1.59trial/s, best loss: -0.9644311600386869]\u001b[A\n",
      "  3%|█▏                                           | 27/1000 [00:16<10:10,  1.59trial/s, best loss: -0.9644311600386869]\u001b[A\n",
      "  3%|█▎                                           | 28/1000 [00:17<10:09,  1.60trial/s, best loss: -0.9644311600386869]\u001b[A\n",
      "  3%|█▎                                           | 29/1000 [00:18<10:08,  1.60trial/s, best loss: -0.9644311600386869]\u001b[A\n",
      "  3%|█▎                                           | 30/1000 [00:18<10:08,  1.60trial/s, best loss: -0.9644311600386869]\u001b[A\n",
      "  3%|█▍                                           | 31/1000 [00:19<10:07,  1.59trial/s, best loss: -0.9644311600386869]\u001b[A\n",
      "  3%|█▍                                           | 32/1000 [00:20<10:08,  1.59trial/s, best loss: -0.9644311600386869]\u001b[A\n",
      "  3%|█▍                                           | 33/1000 [00:20<10:07,  1.59trial/s, best loss: -0.9644311600386869]\u001b[A\n",
      "  3%|█▌                                           | 34/1000 [00:21<10:07,  1.59trial/s, best loss: -0.9644311600386869]\u001b[A\n",
      "  4%|█▌                                           | 35/1000 [00:22<10:05,  1.59trial/s, best loss: -0.9644311600386869]\u001b[A\n",
      "  4%|█▌                                           | 36/1000 [00:22<10:04,  1.60trial/s, best loss: -0.9644311600386869]\u001b[A\n",
      "  4%|█▋                                           | 37/1000 [00:23<10:02,  1.60trial/s, best loss: -0.9644311600386869]\u001b[A\n",
      "  4%|█▋                                           | 38/1000 [00:23<10:01,  1.60trial/s, best loss: -0.9644311600386869]\u001b[A\n",
      "  4%|█▊                                           | 39/1000 [00:24<10:01,  1.60trial/s, best loss: -0.9644311600386869]\u001b[A\n",
      "  4%|█▊                                           | 40/1000 [00:25<10:00,  1.60trial/s, best loss: -0.9644311600386869]\u001b[A\n",
      "  4%|█▊                                           | 41/1000 [00:25<09:59,  1.60trial/s, best loss: -0.9644311600386869]\u001b[A\n",
      "  4%|█▉                                           | 42/1000 [00:26<09:58,  1.60trial/s, best loss: -0.9644311600386869]\u001b[A\n",
      "  4%|█▉                                           | 43/1000 [00:27<09:58,  1.60trial/s, best loss: -0.9644311600386869]\u001b[A\n",
      "  4%|█▉                                           | 44/1000 [00:27<09:58,  1.60trial/s, best loss: -0.9644311600386869]\u001b[A\n",
      "  4%|██                                           | 45/1000 [00:28<09:58,  1.60trial/s, best loss: -0.9644311600386869]\u001b[A\n",
      "  5%|██                                           | 46/1000 [00:28<09:56,  1.60trial/s, best loss: -0.9644311600386869]\u001b[A\n",
      "  5%|██                                           | 47/1000 [00:29<09:58,  1.59trial/s, best loss: -0.9644311600386869]\u001b[A"
     ]
    },
    {
     "name": "stderr",
     "output_type": "stream",
     "text": [
      "Calculating splits<function logistic_metric at 0x000001CC7D6D2948> 312:   0%|                    | 0/1 [00:30<?, ?it/s]\n",
      "C:\\Users\\draco\\miniconda3\\envs\\lab_env\\lib\\site-packages\\numpy\\lib\\npyio.py:528: VisibleDeprecationWarning: Creating an ndarray from ragged nested sequences (which is a list-or-tuple of lists-or-tuples-or ndarrays with different lengths or shapes) is deprecated. If you meant to do this, you must specify 'dtype=object' when creating the ndarray.\n",
      "  arr = np.asanyarray(arr)\n"
     ]
    },
    {
     "name": "stdout",
     "output_type": "stream",
     "text": [
      "\n",
      "saved results to .\\results/tabular/multiclass/results_logistic_time_30_roc_auc_balance-scale_312_624_2.npy\n"
     ]
    },
    {
     "name": "stderr",
     "output_type": "stream",
     "text": [
      "\r",
      "Calculating splits<function logistic_metric at 0x000001CC7D6D2948> 312:   0%|                    | 0/1 [00:00<?, ?it/s]"
     ]
    },
    {
     "name": "stdout",
     "output_type": "stream",
     "text": [
      "\n",
      "  0%|                                                                         | 0/1000 [00:00<?, ?trial/s, best loss=?]\u001b[A\n",
      "  0%|                                              | 1/1000 [00:00<10:16,  1.62trial/s, best loss: -0.9543769425019425]\u001b[A\n",
      "  0%|                                              | 2/1000 [00:01<10:22,  1.60trial/s, best loss: -0.9553645833333334]\u001b[A\n",
      "  0%|▏                                             | 3/1000 [00:01<10:21,  1.60trial/s, best loss: -0.9553645833333334]\u001b[A\n",
      "  0%|▏                                             | 4/1000 [00:02<10:22,  1.60trial/s, best loss: -0.9553645833333334]\u001b[A\n",
      "  0%|▏                                             | 5/1000 [00:03<10:21,  1.60trial/s, best loss: -0.9553645833333334]\u001b[A\n",
      "  1%|▎                                             | 6/1000 [00:03<10:22,  1.60trial/s, best loss: -0.9553645833333334]\u001b[A\n",
      "  1%|▎                                             | 7/1000 [00:04<10:22,  1.59trial/s, best loss: -0.9553645833333334]\u001b[A\n",
      "  1%|▎                                             | 8/1000 [00:05<10:20,  1.60trial/s, best loss: -0.9553645833333334]\u001b[A\n",
      "  1%|▍                                             | 9/1000 [00:05<10:20,  1.60trial/s, best loss: -0.9553645833333334]\u001b[A\n",
      "  1%|▍                                            | 10/1000 [00:06<10:18,  1.60trial/s, best loss: -0.9553645833333334]\u001b[A\n",
      "  1%|▍                                            | 11/1000 [00:06<10:18,  1.60trial/s, best loss: -0.9553645833333334]\u001b[A\n",
      "  1%|▌                                            | 12/1000 [00:07<10:17,  1.60trial/s, best loss: -0.9553645833333334]\u001b[A\n",
      "  1%|▌                                            | 13/1000 [00:08<10:16,  1.60trial/s, best loss: -0.9553645833333334]\u001b[A\n",
      "  1%|▋                                            | 14/1000 [00:08<10:16,  1.60trial/s, best loss: -0.9553645833333334]\u001b[A\n",
      "  2%|▋                                            | 15/1000 [00:09<10:15,  1.60trial/s, best loss: -0.9553645833333334]\u001b[A\n",
      "  2%|▋                                            | 16/1000 [00:10<10:15,  1.60trial/s, best loss: -0.9553645833333334]\u001b[A\n",
      "  2%|▊                                            | 17/1000 [00:10<10:15,  1.60trial/s, best loss: -0.9553645833333334]\u001b[A\n",
      "  2%|▊                                            | 18/1000 [00:11<10:14,  1.60trial/s, best loss: -0.9553645833333334]\u001b[A\n",
      "  2%|▊                                            | 19/1000 [00:11<10:13,  1.60trial/s, best loss: -0.9553645833333334]\u001b[A\n",
      "  2%|▉                                            | 20/1000 [00:12<10:13,  1.60trial/s, best loss: -0.9553645833333334]\u001b[A\n",
      "  2%|▉                                            | 21/1000 [00:13<10:12,  1.60trial/s, best loss: -0.9553645833333334]\u001b[A\n",
      "  2%|▉                                            | 22/1000 [00:13<10:12,  1.60trial/s, best loss: -0.9553645833333334]\u001b[A\n",
      "  2%|█                                            | 23/1000 [00:14<10:12,  1.60trial/s, best loss: -0.9553645833333334]\u001b[A\n",
      "  2%|█                                            | 24/1000 [00:15<10:12,  1.59trial/s, best loss: -0.9553645833333334]\u001b[A\n",
      "  2%|█▏                                           | 25/1000 [00:15<10:11,  1.60trial/s, best loss: -0.9553645833333334]\u001b[A\n",
      "  3%|█▏                                           | 26/1000 [00:16<10:09,  1.60trial/s, best loss: -0.9553645833333334]\u001b[A\n",
      "  3%|█▏                                           | 27/1000 [00:16<10:09,  1.60trial/s, best loss: -0.9553645833333334]\u001b[A\n",
      "  3%|█▎                                           | 28/1000 [00:17<10:10,  1.59trial/s, best loss: -0.9553645833333334]\u001b[A\n",
      "  3%|█▎                                           | 29/1000 [00:18<10:07,  1.60trial/s, best loss: -0.9553645833333334]\u001b[A\n",
      "  3%|█▎                                           | 30/1000 [00:18<10:10,  1.59trial/s, best loss: -0.9553645833333334]\u001b[A\n",
      "  3%|█▍                                           | 31/1000 [00:19<10:08,  1.59trial/s, best loss: -0.9553645833333334]\u001b[A\n",
      "  3%|█▍                                           | 32/1000 [00:20<10:05,  1.60trial/s, best loss: -0.9553645833333334]\u001b[A\n",
      "  3%|█▍                                           | 33/1000 [00:20<10:05,  1.60trial/s, best loss: -0.9553645833333334]\u001b[A\n",
      "  3%|█▌                                           | 34/1000 [00:21<10:03,  1.60trial/s, best loss: -0.9553645833333334]\u001b[A\n",
      "  4%|█▌                                           | 35/1000 [00:21<10:03,  1.60trial/s, best loss: -0.9553645833333334]\u001b[A\n",
      "  4%|█▌                                           | 36/1000 [00:22<10:02,  1.60trial/s, best loss: -0.9553645833333334]\u001b[A\n",
      "  4%|█▋                                           | 37/1000 [00:23<10:02,  1.60trial/s, best loss: -0.9553645833333334]\u001b[A\n",
      "  4%|█▋                                           | 38/1000 [00:23<10:01,  1.60trial/s, best loss: -0.9553645833333334]\u001b[A\n",
      "  4%|█▊                                           | 39/1000 [00:24<10:01,  1.60trial/s, best loss: -0.9553645833333334]\u001b[A\n",
      "  4%|█▊                                           | 40/1000 [00:25<10:01,  1.60trial/s, best loss: -0.9553645833333334]\u001b[A\n",
      "  4%|█▊                                           | 41/1000 [00:25<09:59,  1.60trial/s, best loss: -0.9553645833333334]\u001b[A\n",
      "  4%|█▉                                           | 42/1000 [00:26<09:59,  1.60trial/s, best loss: -0.9558735188422689]\u001b[A\n",
      "  4%|█▉                                           | 43/1000 [00:26<09:59,  1.60trial/s, best loss: -0.9558735188422689]\u001b[A\n",
      "  4%|█▉                                           | 44/1000 [00:27<10:00,  1.59trial/s, best loss: -0.9558735188422689]\u001b[A\n",
      "  4%|██                                           | 45/1000 [00:28<10:00,  1.59trial/s, best loss: -0.9558735188422689]\u001b[A\n",
      "  5%|██                                           | 46/1000 [00:28<09:58,  1.59trial/s, best loss: -0.9558735188422689]\u001b[A\n",
      "  5%|██                                           | 47/1000 [00:29<09:56,  1.60trial/s, best loss: -0.9558735188422689]\u001b[A"
     ]
    },
    {
     "name": "stderr",
     "output_type": "stream",
     "text": [
      "Calculating splits<function logistic_metric at 0x000001CC7D6D2948> 312:   0%|                    | 0/1 [00:30<?, ?it/s]\n",
      "C:\\Users\\draco\\miniconda3\\envs\\lab_env\\lib\\site-packages\\numpy\\lib\\npyio.py:528: VisibleDeprecationWarning: Creating an ndarray from ragged nested sequences (which is a list-or-tuple of lists-or-tuples-or ndarrays with different lengths or shapes) is deprecated. If you meant to do this, you must specify 'dtype=object' when creating the ndarray.\n",
      "  arr = np.asanyarray(arr)\n"
     ]
    },
    {
     "name": "stdout",
     "output_type": "stream",
     "text": [
      "\n",
      "saved results to .\\results/tabular/multiclass/results_logistic_time_30_roc_auc_balance-scale_312_624_3.npy\n"
     ]
    },
    {
     "name": "stderr",
     "output_type": "stream",
     "text": [
      "\r",
      "Calculating splits<function logistic_metric at 0x000001CC7D6D2948> 312:   0%|                    | 0/1 [00:00<?, ?it/s]"
     ]
    },
    {
     "name": "stdout",
     "output_type": "stream",
     "text": [
      "\n",
      "  0%|                                                                         | 0/1000 [00:00<?, ?trial/s, best loss=?]\u001b[A\n",
      "  0%|                                              | 1/1000 [00:00<10:29,  1.59trial/s, best loss: -0.9733935413245758]\u001b[A\n",
      "  0%|                                              | 2/1000 [00:01<10:27,  1.59trial/s, best loss: -0.9733935413245758]\u001b[A\n",
      "  0%|▏                                             | 3/1000 [00:01<10:25,  1.59trial/s, best loss: -0.9734017515051999]\u001b[A\n",
      "  0%|▏                                             | 4/1000 [00:02<10:24,  1.59trial/s, best loss: -0.9734017515051999]\u001b[A\n",
      "  0%|▏                                             | 5/1000 [00:03<10:24,  1.59trial/s, best loss: -0.9734017515051999]\u001b[A\n",
      "  1%|▎                                             | 6/1000 [00:03<10:21,  1.60trial/s, best loss: -0.9734017515051999]\u001b[A\n",
      "  1%|▎                                             | 7/1000 [00:04<10:23,  1.59trial/s, best loss: -0.9734017515051999]\u001b[A\n",
      "  1%|▎                                             | 8/1000 [00:05<10:24,  1.59trial/s, best loss: -0.9734017515051999]\u001b[A\n",
      "  1%|▍                                             | 9/1000 [00:05<10:26,  1.58trial/s, best loss: -0.9734017515051999]\u001b[A\n",
      "  1%|▍                                            | 10/1000 [00:06<10:23,  1.59trial/s, best loss: -0.9734017515051999]\u001b[A\n",
      "  1%|▍                                            | 11/1000 [00:06<10:20,  1.59trial/s, best loss: -0.9734017515051999]\u001b[A\n",
      "  1%|▌                                            | 12/1000 [00:07<10:19,  1.59trial/s, best loss: -0.9734017515051999]\u001b[A\n",
      "  1%|▌                                            | 13/1000 [00:08<10:19,  1.59trial/s, best loss: -0.9734017515051999]\u001b[A\n",
      "  1%|▋                                            | 14/1000 [00:08<10:19,  1.59trial/s, best loss: -0.9734017515051999]\u001b[A\n",
      "  2%|▋                                            | 15/1000 [00:09<10:19,  1.59trial/s, best loss: -0.9734017515051999]\u001b[A\n",
      "  2%|▋                                            | 16/1000 [00:10<10:24,  1.57trial/s, best loss: -0.9734017515051999]\u001b[A\n",
      "  2%|▊                                            | 17/1000 [00:10<10:24,  1.57trial/s, best loss: -0.9734017515051999]\u001b[A\n",
      "  2%|▊                                            | 18/1000 [00:11<10:26,  1.57trial/s, best loss: -0.9734017515051999]\u001b[A\n",
      "  2%|▊                                            | 19/1000 [00:11<10:26,  1.57trial/s, best loss: -0.9734017515051999]\u001b[A\n",
      "  2%|▉                                            | 20/1000 [00:12<10:22,  1.58trial/s, best loss: -0.9734017515051999]\u001b[A\n",
      "  2%|▉                                            | 21/1000 [00:13<10:18,  1.58trial/s, best loss: -0.9734017515051999]\u001b[A\n",
      "  2%|▉                                            | 22/1000 [00:13<10:16,  1.59trial/s, best loss: -0.9734017515051999]\u001b[A\n",
      "  2%|█                                            | 23/1000 [00:14<10:16,  1.59trial/s, best loss: -0.9734017515051999]\u001b[A\n",
      "  2%|█                                            | 24/1000 [00:15<10:18,  1.58trial/s, best loss: -0.9734017515051999]\u001b[A\n",
      "  2%|█▏                                           | 25/1000 [00:15<10:16,  1.58trial/s, best loss: -0.9734017515051999]\u001b[A\n",
      "  3%|█▏                                           | 26/1000 [00:16<10:13,  1.59trial/s, best loss: -0.9734017515051999]\u001b[A\n",
      "  3%|█▏                                           | 27/1000 [00:17<10:11,  1.59trial/s, best loss: -0.9734017515051999]\u001b[A\n",
      "  3%|█▎                                           | 28/1000 [00:17<10:10,  1.59trial/s, best loss: -0.9734017515051999]\u001b[A\n",
      "  3%|█▎                                           | 29/1000 [00:18<10:08,  1.60trial/s, best loss: -0.9734017515051999]\u001b[A\n",
      "  3%|█▎                                           | 30/1000 [00:18<10:07,  1.60trial/s, best loss: -0.9734017515051999]\u001b[A\n",
      "  3%|█▍                                           | 31/1000 [00:19<10:05,  1.60trial/s, best loss: -0.9734017515051999]\u001b[A\n",
      "  3%|█▍                                           | 32/1000 [00:20<10:04,  1.60trial/s, best loss: -0.9734017515051999]\u001b[A\n",
      "  3%|█▍                                           | 33/1000 [00:20<10:05,  1.60trial/s, best loss: -0.9734017515051999]\u001b[A\n",
      "  3%|█▌                                           | 34/1000 [00:21<10:07,  1.59trial/s, best loss: -0.9734017515051999]\u001b[A\n",
      "  4%|█▌                                           | 35/1000 [00:22<10:07,  1.59trial/s, best loss: -0.9734017515051999]\u001b[A\n",
      "  4%|█▌                                           | 36/1000 [00:22<10:06,  1.59trial/s, best loss: -0.9734017515051999]\u001b[A\n",
      "  4%|█▋                                           | 37/1000 [00:23<10:05,  1.59trial/s, best loss: -0.9734017515051999]\u001b[A\n",
      "  4%|█▋                                           | 38/1000 [00:23<10:03,  1.59trial/s, best loss: -0.9734017515051999]\u001b[A\n",
      "  4%|█▊                                           | 39/1000 [00:24<10:02,  1.60trial/s, best loss: -0.9734017515051999]\u001b[A\n",
      "  4%|█▊                                           | 40/1000 [00:25<10:03,  1.59trial/s, best loss: -0.9734017515051999]\u001b[A\n",
      "  4%|█▊                                           | 41/1000 [00:25<10:02,  1.59trial/s, best loss: -0.9734017515051999]\u001b[A\n",
      "  4%|█▉                                           | 42/1000 [00:26<10:02,  1.59trial/s, best loss: -0.9734017515051999]\u001b[A\n",
      "  4%|█▉                                           | 43/1000 [00:27<10:01,  1.59trial/s, best loss: -0.9734017515051999]\u001b[A\n",
      "  4%|█▉                                           | 44/1000 [00:27<10:00,  1.59trial/s, best loss: -0.9734017515051999]\u001b[A\n",
      "  4%|██                                           | 45/1000 [00:28<09:58,  1.60trial/s, best loss: -0.9734017515051999]\u001b[A\n",
      "  5%|██                                           | 46/1000 [00:28<09:56,  1.60trial/s, best loss: -0.9734017515051999]\u001b[A\n",
      "  5%|██                                           | 47/1000 [00:29<09:59,  1.59trial/s, best loss: -0.9734017515051999]\u001b[A"
     ]
    },
    {
     "name": "stderr",
     "output_type": "stream",
     "text": [
      "Calculating splits<function logistic_metric at 0x000001CC7D6D2948> 312:   0%|                    | 0/1 [00:30<?, ?it/s]\n",
      "C:\\Users\\draco\\miniconda3\\envs\\lab_env\\lib\\site-packages\\numpy\\lib\\npyio.py:528: VisibleDeprecationWarning: Creating an ndarray from ragged nested sequences (which is a list-or-tuple of lists-or-tuples-or ndarrays with different lengths or shapes) is deprecated. If you meant to do this, you must specify 'dtype=object' when creating the ndarray.\n",
      "  arr = np.asanyarray(arr)\n"
     ]
    },
    {
     "name": "stdout",
     "output_type": "stream",
     "text": [
      "\n",
      "saved results to .\\results/tabular/multiclass/results_logistic_time_30_roc_auc_balance-scale_312_624_4.npy\n"
     ]
    },
    {
     "name": "stderr",
     "output_type": "stream",
     "text": [
      "\r",
      "Calculating splits<function logistic_metric at 0x000001CC7D6D2948> 312:   0%|                    | 0/1 [00:00<?, ?it/s]"
     ]
    },
    {
     "name": "stdout",
     "output_type": "stream",
     "text": [
      "\n",
      "  0%|                                                                         | 0/1000 [00:00<?, ?trial/s, best loss=?]\u001b[A\n",
      "  0%|                                              | 1/1000 [00:00<10:31,  1.58trial/s, best loss: -0.9535993817678406]\u001b[A\n",
      "  0%|                                              | 2/1000 [00:01<10:36,  1.57trial/s, best loss: -0.9535993817678406]\u001b[A\n",
      "  0%|▏                                             | 3/1000 [00:01<10:31,  1.58trial/s, best loss: -0.9535993817678406]\u001b[A\n",
      "  0%|▏                                             | 4/1000 [00:02<10:31,  1.58trial/s, best loss: -0.9535993817678406]\u001b[A\n",
      "  0%|▏                                             | 5/1000 [00:03<10:27,  1.59trial/s, best loss: -0.9535993817678406]\u001b[A\n",
      "  1%|▎                                             | 6/1000 [00:03<10:25,  1.59trial/s, best loss: -0.9535993817678406]\u001b[A\n",
      "  1%|▎                                             | 7/1000 [00:04<10:24,  1.59trial/s, best loss: -0.9538681989721415]\u001b[A\n",
      "  1%|▎                                             | 8/1000 [00:05<10:27,  1.58trial/s, best loss: -0.9538681989721415]\u001b[A\n",
      "  1%|▍                                             | 9/1000 [00:05<10:23,  1.59trial/s, best loss: -0.9538681989721415]\u001b[A\n",
      "  1%|▍                                            | 10/1000 [00:06<10:20,  1.59trial/s, best loss: -0.9538681989721415]\u001b[A\n",
      "  1%|▍                                            | 11/1000 [00:06<10:18,  1.60trial/s, best loss: -0.9538681989721415]\u001b[A\n",
      "  1%|▌                                            | 12/1000 [00:07<10:20,  1.59trial/s, best loss: -0.9538681989721415]\u001b[A\n",
      "  1%|▌                                            | 13/1000 [00:08<10:24,  1.58trial/s, best loss: -0.9538681989721415]\u001b[A\n",
      "  1%|▋                                            | 14/1000 [00:08<10:24,  1.58trial/s, best loss: -0.9538681989721415]\u001b[A\n",
      "  2%|▋                                            | 15/1000 [00:09<10:23,  1.58trial/s, best loss: -0.9538681989721415]\u001b[A\n",
      "  2%|▋                                            | 16/1000 [00:10<10:23,  1.58trial/s, best loss: -0.9538681989721415]\u001b[A\n",
      "  2%|▊                                            | 17/1000 [00:10<10:22,  1.58trial/s, best loss: -0.9538681989721415]\u001b[A\n",
      "  2%|▊                                            | 18/1000 [00:11<10:21,  1.58trial/s, best loss: -0.9538681989721415]\u001b[A\n",
      "  2%|▊                                            | 19/1000 [00:12<10:20,  1.58trial/s, best loss: -0.9538681989721415]\u001b[A\n",
      "  2%|▉                                            | 20/1000 [00:12<10:21,  1.58trial/s, best loss: -0.9538681989721415]\u001b[A\n",
      "  2%|▉                                            | 21/1000 [00:13<10:19,  1.58trial/s, best loss: -0.9538681989721415]\u001b[A\n",
      "  2%|▉                                            | 22/1000 [00:13<10:19,  1.58trial/s, best loss: -0.9538681989721415]\u001b[A\n",
      "  2%|█                                            | 23/1000 [00:14<10:19,  1.58trial/s, best loss: -0.9538681989721415]\u001b[A\n",
      "  2%|█                                            | 24/1000 [00:15<10:18,  1.58trial/s, best loss: -0.9538681989721415]\u001b[A\n",
      "  2%|█▏                                           | 25/1000 [00:15<10:17,  1.58trial/s, best loss: -0.9538681989721415]\u001b[A\n",
      "  3%|█▏                                           | 26/1000 [00:16<10:16,  1.58trial/s, best loss: -0.9538681989721415]\u001b[A\n",
      "  3%|█▏                                           | 27/1000 [00:17<10:15,  1.58trial/s, best loss: -0.9538681989721415]\u001b[A\n",
      "  3%|█▎                                           | 28/1000 [00:17<10:14,  1.58trial/s, best loss: -0.9538681989721415]\u001b[A\n",
      "  3%|█▎                                           | 29/1000 [00:18<10:14,  1.58trial/s, best loss: -0.9538681989721415]\u001b[A\n",
      "  3%|█▎                                           | 30/1000 [00:18<10:15,  1.57trial/s, best loss: -0.9538681989721415]\u001b[A\n",
      "  3%|█▍                                           | 31/1000 [00:19<10:18,  1.57trial/s, best loss: -0.9538681989721415]\u001b[A\n",
      "  3%|█▍                                           | 32/1000 [00:20<10:15,  1.57trial/s, best loss: -0.9538681989721415]\u001b[A\n",
      "  3%|█▍                                           | 33/1000 [00:20<10:16,  1.57trial/s, best loss: -0.9538681989721415]\u001b[A\n",
      "  3%|█▌                                           | 34/1000 [00:21<10:12,  1.58trial/s, best loss: -0.9538681989721415]\u001b[A\n",
      "  4%|█▌                                            | 35/1000 [00:22<10:11,  1.58trial/s, best loss: -0.954710478655819]\u001b[A\n",
      "  4%|█▌                                           | 36/1000 [00:22<10:11,  1.58trial/s, best loss: -0.9556143587263659]\u001b[A\n",
      "  4%|█▋                                           | 37/1000 [00:23<10:08,  1.58trial/s, best loss: -0.9556143587263659]\u001b[A\n",
      "  4%|█▋                                           | 38/1000 [00:24<10:10,  1.58trial/s, best loss: -0.9556143587263659]\u001b[A\n",
      "  4%|█▊                                           | 39/1000 [00:24<10:11,  1.57trial/s, best loss: -0.9556143587263659]\u001b[A\n",
      "  4%|█▊                                           | 40/1000 [00:25<10:09,  1.57trial/s, best loss: -0.9556143587263659]\u001b[A\n",
      "  4%|█▊                                           | 41/1000 [00:25<10:07,  1.58trial/s, best loss: -0.9556143587263659]\u001b[A\n",
      "  4%|█▉                                           | 42/1000 [00:26<10:05,  1.58trial/s, best loss: -0.9556143587263659]\u001b[A\n",
      "  4%|█▉                                           | 43/1000 [00:27<10:03,  1.59trial/s, best loss: -0.9556143587263659]\u001b[A\n",
      "  4%|█▉                                           | 44/1000 [00:27<10:03,  1.58trial/s, best loss: -0.9556143587263659]\u001b[A\n",
      "  4%|██                                           | 45/1000 [00:28<10:03,  1.58trial/s, best loss: -0.9556143587263659]\u001b[A\n",
      "  5%|██                                           | 46/1000 [00:29<10:07,  1.57trial/s, best loss: -0.9556143587263659]\u001b[A\n",
      "  5%|██                                           | 47/1000 [00:29<10:03,  1.58trial/s, best loss: -0.9556143587263659]\u001b[A"
     ]
    },
    {
     "name": "stderr",
     "output_type": "stream",
     "text": [
      "Calculating splits<function logistic_metric at 0x000001CC7D6D2948> 312:   0%|                    | 0/1 [00:30<?, ?it/s]\n",
      "C:\\Users\\draco\\miniconda3\\envs\\lab_env\\lib\\site-packages\\numpy\\lib\\npyio.py:528: VisibleDeprecationWarning: Creating an ndarray from ragged nested sequences (which is a list-or-tuple of lists-or-tuples-or ndarrays with different lengths or shapes) is deprecated. If you meant to do this, you must specify 'dtype=object' when creating the ndarray.\n",
      "  arr = np.asanyarray(arr)\n"
     ]
    },
    {
     "name": "stdout",
     "output_type": "stream",
     "text": [
      "\n",
      "saved results to .\\results/tabular/multiclass/results_logistic_time_30_roc_auc_balance-scale_312_624_5.npy\n"
     ]
    },
    {
     "name": "stderr",
     "output_type": "stream",
     "text": [
      "\r",
      "Calculating splits<function logistic_metric at 0x000001CC7D6D2948> 312:   0%|                    | 0/1 [00:00<?, ?it/s]"
     ]
    },
    {
     "name": "stdout",
     "output_type": "stream",
     "text": [
      "\n",
      "  0%|                                                                         | 0/1000 [00:00<?, ?trial/s, best loss=?]\u001b[A\n",
      "  0%|                                              | 1/1000 [00:00<10:26,  1.60trial/s, best loss: -0.9491881651766712]\u001b[A\n",
      "  0%|                                              | 2/1000 [00:01<10:26,  1.59trial/s, best loss: -0.9491881651766712]\u001b[A\n",
      "  0%|▏                                             | 3/1000 [00:01<10:31,  1.58trial/s, best loss: -0.9491881651766712]\u001b[A\n",
      "  0%|▏                                             | 4/1000 [00:02<10:31,  1.58trial/s, best loss: -0.9491881651766712]\u001b[A\n",
      "  0%|▏                                             | 5/1000 [00:03<10:30,  1.58trial/s, best loss: -0.9491881651766712]\u001b[A\n",
      "  1%|▎                                             | 6/1000 [00:03<10:28,  1.58trial/s, best loss: -0.9491881651766712]\u001b[A\n",
      "  1%|▎                                             | 7/1000 [00:04<10:27,  1.58trial/s, best loss: -0.9565606641123882]\u001b[A\n",
      "  1%|▎                                             | 8/1000 [00:05<10:23,  1.59trial/s, best loss: -0.9565606641123882]\u001b[A\n",
      "  1%|▍                                             | 9/1000 [00:05<10:21,  1.59trial/s, best loss: -0.9565606641123882]\u001b[A\n",
      "  1%|▍                                            | 10/1000 [00:06<10:19,  1.60trial/s, best loss: -0.9565606641123882]\u001b[A\n",
      "  1%|▍                                            | 11/1000 [00:06<10:20,  1.59trial/s, best loss: -0.9565606641123882]\u001b[A\n",
      "  1%|▌                                            | 12/1000 [00:07<10:19,  1.59trial/s, best loss: -0.9565606641123882]\u001b[A\n",
      "  1%|▌                                            | 13/1000 [00:08<10:19,  1.59trial/s, best loss: -0.9565606641123882]\u001b[A\n",
      "  1%|▋                                            | 14/1000 [00:08<10:17,  1.60trial/s, best loss: -0.9565606641123882]\u001b[A\n",
      "  2%|▋                                            | 15/1000 [00:09<10:18,  1.59trial/s, best loss: -0.9565606641123882]\u001b[A\n",
      "  2%|▋                                            | 16/1000 [00:10<10:16,  1.60trial/s, best loss: -0.9565606641123882]\u001b[A\n",
      "  2%|▊                                            | 17/1000 [00:10<10:18,  1.59trial/s, best loss: -0.9565606641123882]\u001b[A\n",
      "  2%|▊                                            | 18/1000 [00:11<10:14,  1.60trial/s, best loss: -0.9565606641123882]\u001b[A\n",
      "  2%|▊                                            | 19/1000 [00:11<10:13,  1.60trial/s, best loss: -0.9565606641123882]\u001b[A\n",
      "  2%|▉                                            | 20/1000 [00:12<10:12,  1.60trial/s, best loss: -0.9565606641123882]\u001b[A\n",
      "  2%|▉                                            | 21/1000 [00:13<10:10,  1.60trial/s, best loss: -0.9565606641123882]\u001b[A\n",
      "  2%|▉                                            | 22/1000 [00:13<10:11,  1.60trial/s, best loss: -0.9565606641123882]\u001b[A\n",
      "  2%|█                                            | 23/1000 [00:14<10:11,  1.60trial/s, best loss: -0.9565606641123882]\u001b[A\n",
      "  2%|█                                            | 24/1000 [00:15<10:12,  1.59trial/s, best loss: -0.9565606641123882]\u001b[A\n",
      "  2%|█▏                                           | 25/1000 [00:15<10:12,  1.59trial/s, best loss: -0.9565606641123882]\u001b[A\n",
      "  3%|█▏                                           | 26/1000 [00:16<10:11,  1.59trial/s, best loss: -0.9565606641123882]\u001b[A\n",
      "  3%|█▏                                           | 27/1000 [00:16<10:09,  1.60trial/s, best loss: -0.9565606641123882]\u001b[A\n",
      "  3%|█▎                                           | 28/1000 [00:17<10:08,  1.60trial/s, best loss: -0.9565606641123882]\u001b[A\n",
      "  3%|█▎                                           | 29/1000 [00:18<10:08,  1.60trial/s, best loss: -0.9565606641123882]\u001b[A\n",
      "  3%|█▎                                           | 30/1000 [00:18<10:07,  1.60trial/s, best loss: -0.9565606641123882]\u001b[A\n",
      "  3%|█▍                                           | 31/1000 [00:19<10:05,  1.60trial/s, best loss: -0.9565606641123882]\u001b[A\n",
      "  3%|█▍                                           | 32/1000 [00:20<10:05,  1.60trial/s, best loss: -0.9565606641123882]\u001b[A\n",
      "  3%|█▍                                           | 33/1000 [00:20<10:03,  1.60trial/s, best loss: -0.9565606641123882]\u001b[A\n",
      "  3%|█▌                                           | 34/1000 [00:21<10:03,  1.60trial/s, best loss: -0.9565606641123882]\u001b[A\n",
      "  4%|█▌                                           | 35/1000 [00:21<10:05,  1.59trial/s, best loss: -0.9565606641123882]\u001b[A\n",
      "  4%|█▌                                           | 36/1000 [00:22<10:03,  1.60trial/s, best loss: -0.9565606641123882]\u001b[A\n",
      "  4%|█▋                                           | 37/1000 [00:23<10:04,  1.59trial/s, best loss: -0.9565606641123882]\u001b[A\n",
      "  4%|█▋                                           | 38/1000 [00:23<10:01,  1.60trial/s, best loss: -0.9565606641123882]\u001b[A\n",
      "  4%|█▊                                           | 39/1000 [00:24<10:00,  1.60trial/s, best loss: -0.9565606641123882]\u001b[A\n",
      "  4%|█▊                                           | 40/1000 [00:25<10:02,  1.59trial/s, best loss: -0.9565606641123882]\u001b[A\n",
      "  4%|█▊                                           | 41/1000 [00:25<10:02,  1.59trial/s, best loss: -0.9565606641123882]\u001b[A\n",
      "  4%|█▉                                           | 42/1000 [00:26<10:03,  1.59trial/s, best loss: -0.9565606641123882]\u001b[A\n",
      "  4%|█▉                                           | 43/1000 [00:26<10:00,  1.59trial/s, best loss: -0.9565606641123882]\u001b[A\n",
      "  4%|█▉                                           | 44/1000 [00:27<10:00,  1.59trial/s, best loss: -0.9565606641123882]\u001b[A\n",
      "  4%|██                                           | 45/1000 [00:28<10:00,  1.59trial/s, best loss: -0.9565606641123882]\u001b[A\n",
      "  5%|██                                           | 46/1000 [00:28<09:59,  1.59trial/s, best loss: -0.9565606641123882]\u001b[A\n",
      "  5%|██                                           | 47/1000 [00:29<10:00,  1.59trial/s, best loss: -0.9565606641123882]\u001b[A\n",
      "  5%|██▏                                          | 48/1000 [00:30<09:59,  1.59trial/s, best loss: -0.9565606641123882]\u001b[A\n",
      "  5%|██▏                                          | 49/1000 [00:30<09:59,  1.59trial/s, best loss: -0.9565606641123882]\u001b[A\n",
      "  5%|██▎                                          | 50/1000 [00:31<09:57,  1.59trial/s, best loss: -0.9565606641123882]\u001b[A\n",
      "  5%|██▎                                          | 51/1000 [00:32<09:57,  1.59trial/s, best loss: -0.9565606641123882]\u001b[A\n",
      "  5%|██▎                                          | 52/1000 [00:32<09:57,  1.59trial/s, best loss: -0.9565606641123882]\u001b[A\n",
      "  5%|██▍                                          | 53/1000 [00:33<09:55,  1.59trial/s, best loss: -0.9565606641123882]\u001b[A\n",
      "  5%|██▍                                          | 54/1000 [00:33<09:55,  1.59trial/s, best loss: -0.9565606641123882]\u001b[A\n",
      "  6%|██▍                                          | 55/1000 [00:34<09:53,  1.59trial/s, best loss: -0.9565606641123882]\u001b[A\n",
      "  6%|██▌                                          | 56/1000 [00:35<09:54,  1.59trial/s, best loss: -0.9565606641123882]\u001b[A\n",
      "  6%|██▌                                          | 57/1000 [00:35<09:55,  1.58trial/s, best loss: -0.9565606641123882]\u001b[A\n",
      "  6%|██▌                                          | 58/1000 [00:36<09:54,  1.58trial/s, best loss: -0.9565606641123882]\u001b[A\n",
      "  6%|██▋                                          | 59/1000 [00:37<09:53,  1.59trial/s, best loss: -0.9565606641123882]\u001b[A\n",
      "  6%|██▋                                          | 60/1000 [00:37<09:52,  1.59trial/s, best loss: -0.9565606641123882]\u001b[A\n",
      "  6%|██▋                                          | 61/1000 [00:38<09:55,  1.58trial/s, best loss: -0.9565606641123882]\u001b[A\n",
      "  6%|██▊                                          | 62/1000 [00:38<09:57,  1.57trial/s, best loss: -0.9565606641123882]\u001b[A\n",
      "  6%|██▊                                          | 63/1000 [00:39<09:53,  1.58trial/s, best loss: -0.9565606641123882]\u001b[A\n",
      "  6%|██▉                                          | 64/1000 [00:40<09:51,  1.58trial/s, best loss: -0.9565606641123882]\u001b[A\n",
      "  6%|██▉                                          | 65/1000 [00:40<09:49,  1.59trial/s, best loss: -0.9565606641123882]\u001b[A\n"
     ]
    },
    {
     "name": "stdout",
     "output_type": "stream",
     "text": [
      "  7%|██▉                                          | 66/1000 [00:41<09:51,  1.58trial/s, best loss: -0.9565606641123882]\u001b[A\n",
      "  7%|███                                          | 67/1000 [00:42<09:50,  1.58trial/s, best loss: -0.9565606641123882]\u001b[A\n",
      "  7%|███                                          | 68/1000 [00:42<09:47,  1.59trial/s, best loss: -0.9565606641123882]\u001b[A\n",
      "  7%|███                                          | 69/1000 [00:43<09:45,  1.59trial/s, best loss: -0.9565606641123882]\u001b[A\n",
      "  7%|███▏                                         | 70/1000 [00:44<09:44,  1.59trial/s, best loss: -0.9565606641123882]\u001b[A\n",
      "  7%|███▏                                         | 71/1000 [00:44<09:42,  1.59trial/s, best loss: -0.9565606641123882]\u001b[A\n",
      "  7%|███▏                                         | 72/1000 [00:45<09:41,  1.60trial/s, best loss: -0.9565606641123882]\u001b[A\n",
      "  7%|███▎                                         | 73/1000 [00:45<09:40,  1.60trial/s, best loss: -0.9565606641123882]\u001b[A\n",
      "  7%|███▎                                         | 74/1000 [00:46<09:40,  1.60trial/s, best loss: -0.9565606641123882]\u001b[A\n",
      "  8%|███▍                                         | 75/1000 [00:47<09:39,  1.60trial/s, best loss: -0.9565606641123882]\u001b[A\n",
      "  8%|███▍                                         | 76/1000 [00:47<09:40,  1.59trial/s, best loss: -0.9565606641123882]\u001b[A\n",
      "  8%|███▍                                         | 77/1000 [00:48<09:40,  1.59trial/s, best loss: -0.9565606641123882]\u001b[A\n",
      "  8%|███▌                                         | 78/1000 [00:49<09:38,  1.59trial/s, best loss: -0.9565606641123882]\u001b[A\n",
      "  8%|███▌                                         | 79/1000 [00:49<09:36,  1.60trial/s, best loss: -0.9565606641123882]\u001b[A\n",
      "  8%|███▌                                         | 80/1000 [00:50<09:36,  1.60trial/s, best loss: -0.9565606641123882]\u001b[A\n",
      "  8%|███▋                                         | 81/1000 [00:50<09:36,  1.59trial/s, best loss: -0.9565606641123882]\u001b[A\n",
      "  8%|███▋                                         | 82/1000 [00:51<09:36,  1.59trial/s, best loss: -0.9565606641123882]\u001b[A\n",
      "  8%|███▋                                         | 83/1000 [00:52<09:36,  1.59trial/s, best loss: -0.9565606641123882]\u001b[A\n",
      "  8%|███▊                                         | 84/1000 [00:52<09:35,  1.59trial/s, best loss: -0.9565606641123882]\u001b[A\n",
      "  8%|███▊                                         | 85/1000 [00:53<09:33,  1.60trial/s, best loss: -0.9565606641123882]\u001b[A\n",
      "  9%|███▊                                         | 86/1000 [00:54<09:33,  1.59trial/s, best loss: -0.9565606641123882]\u001b[A\n",
      "  9%|███▉                                         | 87/1000 [00:54<09:33,  1.59trial/s, best loss: -0.9565606641123882]\u001b[A\n",
      "  9%|███▉                                         | 88/1000 [00:55<09:36,  1.58trial/s, best loss: -0.9565606641123882]\u001b[A\n",
      "  9%|████                                         | 89/1000 [00:55<09:36,  1.58trial/s, best loss: -0.9565606641123882]\u001b[A\n",
      "  9%|████                                         | 90/1000 [00:56<09:33,  1.59trial/s, best loss: -0.9565606641123882]\u001b[A\n",
      "  9%|████                                         | 91/1000 [00:57<09:32,  1.59trial/s, best loss: -0.9565606641123882]\u001b[A\n",
      "  9%|████▏                                        | 92/1000 [00:57<09:32,  1.59trial/s, best loss: -0.9565606641123882]\u001b[A\n",
      "  9%|████▏                                        | 93/1000 [00:58<09:30,  1.59trial/s, best loss: -0.9565606641123882]\u001b[A\n",
      "  9%|████▏                                        | 94/1000 [00:59<09:30,  1.59trial/s, best loss: -0.9565606641123882]\u001b[A\n",
      " 10%|████▎                                        | 95/1000 [00:59<09:28,  1.59trial/s, best loss: -0.9565606641123882]\u001b[A"
     ]
    },
    {
     "name": "stderr",
     "output_type": "stream",
     "text": [
      "Calculating splits<function logistic_metric at 0x000001CC7D6D2948> 312:   0%|                    | 0/1 [01:00<?, ?it/s]\n",
      "C:\\Users\\draco\\miniconda3\\envs\\lab_env\\lib\\site-packages\\numpy\\lib\\npyio.py:528: VisibleDeprecationWarning: Creating an ndarray from ragged nested sequences (which is a list-or-tuple of lists-or-tuples-or ndarrays with different lengths or shapes) is deprecated. If you meant to do this, you must specify 'dtype=object' when creating the ndarray.\n",
      "  arr = np.asanyarray(arr)\n"
     ]
    },
    {
     "name": "stdout",
     "output_type": "stream",
     "text": [
      "\n",
      "saved results to .\\results/tabular/multiclass/results_logistic_time_60_roc_auc_balance-scale_312_624_1.npy\n"
     ]
    },
    {
     "name": "stderr",
     "output_type": "stream",
     "text": [
      "\r",
      "Calculating splits<function logistic_metric at 0x000001CC7D6D2948> 312:   0%|                    | 0/1 [00:00<?, ?it/s]"
     ]
    },
    {
     "name": "stdout",
     "output_type": "stream",
     "text": [
      "\n",
      "  0%|                                                                         | 0/1000 [00:00<?, ?trial/s, best loss=?]\u001b[A\n",
      "  0%|                                              | 1/1000 [00:00<10:33,  1.58trial/s, best loss: -0.9337920293565455]\u001b[A\n",
      "  0%|                                              | 2/1000 [00:01<10:29,  1.59trial/s, best loss: -0.9337920293565455]\u001b[A\n",
      "  0%|▏                                             | 3/1000 [00:01<10:28,  1.59trial/s, best loss: -0.9337920293565455]\u001b[A\n",
      "  0%|▏                                             | 4/1000 [00:02<10:25,  1.59trial/s, best loss: -0.9618780366387891]\u001b[A\n",
      "  0%|▏                                             | 5/1000 [00:03<10:24,  1.59trial/s, best loss: -0.9630297547931956]\u001b[A\n",
      "  1%|▎                                             | 6/1000 [00:03<10:25,  1.59trial/s, best loss: -0.9630297547931956]\u001b[A\n",
      "  1%|▎                                             | 7/1000 [00:04<10:23,  1.59trial/s, best loss: -0.9630297547931956]\u001b[A\n",
      "  1%|▎                                             | 8/1000 [00:05<10:23,  1.59trial/s, best loss: -0.9630297547931956]\u001b[A\n",
      "  1%|▍                                             | 9/1000 [00:05<10:22,  1.59trial/s, best loss: -0.9630297547931956]\u001b[A\n",
      "  1%|▍                                            | 10/1000 [00:06<10:21,  1.59trial/s, best loss: -0.9630297547931956]\u001b[A\n",
      "  1%|▍                                            | 11/1000 [00:06<10:20,  1.59trial/s, best loss: -0.9630297547931956]\u001b[A\n",
      "  1%|▌                                            | 12/1000 [00:07<10:18,  1.60trial/s, best loss: -0.9630297547931956]\u001b[A\n",
      "  1%|▌                                            | 13/1000 [00:08<10:18,  1.59trial/s, best loss: -0.9644311600386869]\u001b[A\n",
      "  1%|▋                                            | 14/1000 [00:08<10:18,  1.59trial/s, best loss: -0.9644311600386869]\u001b[A\n",
      "  2%|▋                                            | 15/1000 [00:09<10:18,  1.59trial/s, best loss: -0.9644311600386869]\u001b[A\n",
      "  2%|▋                                            | 16/1000 [00:10<10:18,  1.59trial/s, best loss: -0.9644311600386869]\u001b[A\n",
      "  2%|▊                                            | 17/1000 [00:10<10:21,  1.58trial/s, best loss: -0.9644311600386869]\u001b[A\n",
      "  2%|▊                                            | 18/1000 [00:11<10:19,  1.59trial/s, best loss: -0.9644311600386869]\u001b[A\n",
      "  2%|▊                                            | 19/1000 [00:11<10:17,  1.59trial/s, best loss: -0.9644311600386869]\u001b[A\n",
      "  2%|▉                                            | 20/1000 [00:12<10:14,  1.59trial/s, best loss: -0.9644311600386869]\u001b[A\n",
      "  2%|▉                                            | 21/1000 [00:13<10:14,  1.59trial/s, best loss: -0.9644311600386869]\u001b[A\n",
      "  2%|▉                                            | 22/1000 [00:13<10:14,  1.59trial/s, best loss: -0.9644311600386869]\u001b[A\n",
      "  2%|█                                            | 23/1000 [00:14<10:15,  1.59trial/s, best loss: -0.9644311600386869]\u001b[A\n",
      "  2%|█                                            | 24/1000 [00:15<10:18,  1.58trial/s, best loss: -0.9644311600386869]\u001b[A\n",
      "  2%|█▏                                           | 25/1000 [00:15<10:21,  1.57trial/s, best loss: -0.9644311600386869]\u001b[A\n",
      "  3%|█▏                                           | 26/1000 [00:16<10:19,  1.57trial/s, best loss: -0.9644311600386869]\u001b[A\n",
      "  3%|█▏                                           | 27/1000 [00:17<10:16,  1.58trial/s, best loss: -0.9644311600386869]\u001b[A\n",
      "  3%|█▎                                           | 28/1000 [00:17<10:16,  1.58trial/s, best loss: -0.9644311600386869]\u001b[A\n",
      "  3%|█▎                                           | 29/1000 [00:18<10:15,  1.58trial/s, best loss: -0.9644311600386869]\u001b[A\n",
      "  3%|█▎                                           | 30/1000 [00:18<10:12,  1.58trial/s, best loss: -0.9644311600386869]\u001b[A\n",
      "  3%|█▍                                           | 31/1000 [00:19<10:12,  1.58trial/s, best loss: -0.9644311600386869]\u001b[A\n",
      "  3%|█▍                                           | 32/1000 [00:20<10:10,  1.58trial/s, best loss: -0.9644311600386869]\u001b[A\n",
      "  3%|█▍                                           | 33/1000 [00:20<10:09,  1.59trial/s, best loss: -0.9644311600386869]\u001b[A\n",
      "  3%|█▌                                           | 34/1000 [00:21<10:08,  1.59trial/s, best loss: -0.9644311600386869]\u001b[A\n",
      "  4%|█▌                                           | 35/1000 [00:22<10:08,  1.59trial/s, best loss: -0.9644311600386869]\u001b[A\n",
      "  4%|█▌                                           | 36/1000 [00:22<10:07,  1.59trial/s, best loss: -0.9644311600386869]\u001b[A\n",
      "  4%|█▋                                           | 37/1000 [00:23<10:04,  1.59trial/s, best loss: -0.9644311600386869]\u001b[A\n",
      "  4%|█▋                                           | 38/1000 [00:23<10:03,  1.59trial/s, best loss: -0.9644311600386869]\u001b[A\n",
      "  4%|█▊                                           | 39/1000 [00:24<10:03,  1.59trial/s, best loss: -0.9644311600386869]\u001b[A\n",
      "  4%|█▊                                           | 40/1000 [00:25<10:06,  1.58trial/s, best loss: -0.9644311600386869]\u001b[A\n",
      "  4%|█▊                                           | 41/1000 [00:25<10:06,  1.58trial/s, best loss: -0.9644311600386869]\u001b[A\n",
      "  4%|█▉                                           | 42/1000 [00:26<10:03,  1.59trial/s, best loss: -0.9644311600386869]\u001b[A\n",
      "  4%|█▉                                           | 43/1000 [00:27<10:01,  1.59trial/s, best loss: -0.9644311600386869]\u001b[A\n",
      "  4%|█▉                                           | 44/1000 [00:27<10:02,  1.59trial/s, best loss: -0.9644311600386869]\u001b[A\n",
      "  4%|██                                           | 45/1000 [00:28<10:00,  1.59trial/s, best loss: -0.9644311600386869]\u001b[A\n",
      "  5%|██                                           | 46/1000 [00:28<10:01,  1.59trial/s, best loss: -0.9644311600386869]\u001b[A\n",
      "  5%|██                                           | 47/1000 [00:29<09:59,  1.59trial/s, best loss: -0.9644311600386869]\u001b[A\n",
      "  5%|██▏                                          | 48/1000 [00:30<09:58,  1.59trial/s, best loss: -0.9644311600386869]\u001b[A\n",
      "  5%|██▏                                          | 49/1000 [00:30<09:57,  1.59trial/s, best loss: -0.9644311600386869]\u001b[A\n",
      "  5%|██▎                                          | 50/1000 [00:31<09:57,  1.59trial/s, best loss: -0.9644311600386869]\u001b[A\n",
      "  5%|██▎                                          | 51/1000 [00:32<09:57,  1.59trial/s, best loss: -0.9644311600386869]\u001b[A\n",
      "  5%|██▎                                          | 52/1000 [00:32<09:55,  1.59trial/s, best loss: -0.9644311600386869]\u001b[A\n",
      "  5%|██▍                                          | 53/1000 [00:33<09:55,  1.59trial/s, best loss: -0.9644311600386869]\u001b[A\n",
      "  5%|██▍                                          | 54/1000 [00:34<09:53,  1.59trial/s, best loss: -0.9644311600386869]\u001b[A\n",
      "  6%|██▍                                          | 55/1000 [00:34<09:52,  1.60trial/s, best loss: -0.9644311600386869]\u001b[A\n",
      "  6%|██▌                                          | 56/1000 [00:35<09:51,  1.60trial/s, best loss: -0.9648313278716504]\u001b[A\n",
      "  6%|██▌                                          | 57/1000 [00:35<09:48,  1.60trial/s, best loss: -0.9648313278716504]\u001b[A\n",
      "  6%|██▌                                          | 58/1000 [00:36<09:50,  1.60trial/s, best loss: -0.9648313278716504]\u001b[A\n",
      "  6%|██▋                                          | 59/1000 [00:37<09:49,  1.60trial/s, best loss: -0.9648313278716504]\u001b[A\n",
      "  6%|██▋                                          | 60/1000 [00:37<09:48,  1.60trial/s, best loss: -0.9648313278716504]\u001b[A\n",
      "  6%|██▋                                          | 61/1000 [00:38<09:48,  1.60trial/s, best loss: -0.9648313278716504]\u001b[A\n",
      "  6%|██▊                                          | 62/1000 [00:39<09:49,  1.59trial/s, best loss: -0.9648313278716504]\u001b[A\n",
      "  6%|██▊                                          | 63/1000 [00:39<09:50,  1.59trial/s, best loss: -0.9648313278716504]\u001b[A\n",
      "  6%|██▉                                          | 64/1000 [00:40<09:48,  1.59trial/s, best loss: -0.9648313278716504]\u001b[A\n",
      "  6%|██▉                                          | 65/1000 [00:40<09:49,  1.59trial/s, best loss: -0.9648313278716504]\u001b[A\n"
     ]
    },
    {
     "name": "stdout",
     "output_type": "stream",
     "text": [
      "  7%|██▉                                          | 66/1000 [00:41<09:47,  1.59trial/s, best loss: -0.9648313278716504]\u001b[A\n",
      "  7%|███                                          | 67/1000 [00:42<09:47,  1.59trial/s, best loss: -0.9648313278716504]\u001b[A\n",
      "  7%|███                                          | 68/1000 [00:42<09:44,  1.59trial/s, best loss: -0.9648313278716504]\u001b[A\n",
      "  7%|███                                          | 69/1000 [00:43<09:44,  1.59trial/s, best loss: -0.9648313278716504]\u001b[A\n",
      "  7%|███▏                                         | 70/1000 [00:44<09:43,  1.59trial/s, best loss: -0.9648313278716504]\u001b[A\n",
      "  7%|███▏                                         | 71/1000 [00:44<09:41,  1.60trial/s, best loss: -0.9648313278716504]\u001b[A\n",
      "  7%|███▏                                         | 72/1000 [00:45<09:45,  1.59trial/s, best loss: -0.9648313278716504]\u001b[A\n",
      "  7%|███▎                                         | 73/1000 [00:45<09:44,  1.59trial/s, best loss: -0.9648313278716504]\u001b[A\n",
      "  7%|███▎                                         | 74/1000 [00:46<09:43,  1.59trial/s, best loss: -0.9648313278716504]\u001b[A\n",
      "  8%|███▍                                         | 75/1000 [00:47<09:41,  1.59trial/s, best loss: -0.9648313278716504]\u001b[A\n",
      "  8%|███▍                                         | 76/1000 [00:47<09:41,  1.59trial/s, best loss: -0.9648313278716504]\u001b[A\n",
      "  8%|███▍                                         | 77/1000 [00:48<09:41,  1.59trial/s, best loss: -0.9648313278716504]\u001b[A\n",
      "  8%|███▌                                         | 78/1000 [00:49<09:39,  1.59trial/s, best loss: -0.9648313278716504]\u001b[A\n",
      "  8%|███▌                                         | 79/1000 [00:49<09:39,  1.59trial/s, best loss: -0.9648313278716504]\u001b[A\n",
      "  8%|███▌                                         | 80/1000 [00:50<09:38,  1.59trial/s, best loss: -0.9648313278716504]\u001b[A\n",
      "  8%|███▋                                         | 81/1000 [00:50<09:37,  1.59trial/s, best loss: -0.9648313278716504]\u001b[A\n",
      "  8%|███▋                                         | 82/1000 [00:51<09:36,  1.59trial/s, best loss: -0.9648313278716504]\u001b[A\n",
      "  8%|███▋                                         | 83/1000 [00:52<09:35,  1.59trial/s, best loss: -0.9648313278716504]\u001b[A\n",
      "  8%|███▊                                         | 84/1000 [00:52<09:38,  1.58trial/s, best loss: -0.9648313278716504]\u001b[A\n",
      "  8%|███▊                                         | 85/1000 [00:53<09:36,  1.59trial/s, best loss: -0.9648313278716504]\u001b[A\n",
      "  9%|███▊                                         | 86/1000 [00:54<09:35,  1.59trial/s, best loss: -0.9648313278716504]\u001b[A\n",
      "  9%|███▉                                         | 87/1000 [00:54<09:34,  1.59trial/s, best loss: -0.9648313278716504]\u001b[A\n",
      "  9%|███▉                                         | 88/1000 [00:55<09:32,  1.59trial/s, best loss: -0.9648313278716504]\u001b[A\n",
      "  9%|████                                         | 89/1000 [00:56<09:32,  1.59trial/s, best loss: -0.9648313278716504]\u001b[A\n",
      "  9%|████                                         | 90/1000 [00:56<09:30,  1.60trial/s, best loss: -0.9648313278716504]\u001b[A\n",
      "  9%|████                                         | 91/1000 [00:57<09:30,  1.59trial/s, best loss: -0.9648313278716504]\u001b[A\n",
      "  9%|████▏                                        | 92/1000 [00:57<09:30,  1.59trial/s, best loss: -0.9648313278716504]\u001b[A\n",
      "  9%|████▏                                        | 93/1000 [00:58<09:28,  1.59trial/s, best loss: -0.9648313278716504]\u001b[A\n",
      "  9%|████▏                                        | 94/1000 [00:59<09:28,  1.59trial/s, best loss: -0.9648313278716504]\u001b[A\n",
      " 10%|████▎                                        | 95/1000 [00:59<09:29,  1.59trial/s, best loss: -0.9648313278716504]\u001b[A"
     ]
    },
    {
     "name": "stderr",
     "output_type": "stream",
     "text": [
      "Calculating splits<function logistic_metric at 0x000001CC7D6D2948> 312:   0%|                    | 0/1 [01:00<?, ?it/s]\n",
      "C:\\Users\\draco\\miniconda3\\envs\\lab_env\\lib\\site-packages\\numpy\\lib\\npyio.py:528: VisibleDeprecationWarning: Creating an ndarray from ragged nested sequences (which is a list-or-tuple of lists-or-tuples-or ndarrays with different lengths or shapes) is deprecated. If you meant to do this, you must specify 'dtype=object' when creating the ndarray.\n",
      "  arr = np.asanyarray(arr)\n"
     ]
    },
    {
     "name": "stdout",
     "output_type": "stream",
     "text": [
      "\n",
      "saved results to .\\results/tabular/multiclass/results_logistic_time_60_roc_auc_balance-scale_312_624_2.npy\n"
     ]
    },
    {
     "name": "stderr",
     "output_type": "stream",
     "text": [
      "\r",
      "Calculating splits<function logistic_metric at 0x000001CC7D6D2948> 312:   0%|                    | 0/1 [00:00<?, ?it/s]"
     ]
    },
    {
     "name": "stdout",
     "output_type": "stream",
     "text": [
      "\n",
      "  0%|                                                                         | 0/1000 [00:00<?, ?trial/s, best loss=?]\u001b[A\n",
      "  0%|                                              | 1/1000 [00:00<10:30,  1.58trial/s, best loss: -0.9543769425019425]\u001b[A\n",
      "  0%|                                              | 2/1000 [00:01<10:26,  1.59trial/s, best loss: -0.9553645833333334]\u001b[A\n",
      "  0%|▏                                             | 3/1000 [00:01<10:25,  1.59trial/s, best loss: -0.9553645833333334]\u001b[A\n",
      "  0%|▏                                             | 4/1000 [00:02<10:24,  1.59trial/s, best loss: -0.9553645833333334]\u001b[A\n",
      "  0%|▏                                             | 5/1000 [00:03<10:24,  1.59trial/s, best loss: -0.9553645833333334]\u001b[A\n",
      "  1%|▎                                             | 6/1000 [00:03<10:22,  1.60trial/s, best loss: -0.9553645833333334]\u001b[A\n",
      "  1%|▎                                             | 7/1000 [00:04<10:21,  1.60trial/s, best loss: -0.9553645833333334]\u001b[A\n",
      "  1%|▎                                             | 8/1000 [00:05<10:22,  1.59trial/s, best loss: -0.9553645833333334]\u001b[A\n",
      "  1%|▍                                             | 9/1000 [00:05<10:21,  1.59trial/s, best loss: -0.9553645833333334]\u001b[A\n",
      "  1%|▍                                            | 10/1000 [00:06<10:21,  1.59trial/s, best loss: -0.9553645833333334]\u001b[A\n",
      "  1%|▍                                            | 11/1000 [00:06<10:20,  1.59trial/s, best loss: -0.9553645833333334]\u001b[A\n",
      "  1%|▌                                            | 12/1000 [00:07<10:19,  1.59trial/s, best loss: -0.9553645833333334]\u001b[A\n",
      "  1%|▌                                            | 13/1000 [00:08<10:19,  1.59trial/s, best loss: -0.9553645833333334]\u001b[A\n",
      "  1%|▋                                            | 14/1000 [00:08<10:19,  1.59trial/s, best loss: -0.9553645833333334]\u001b[A\n",
      "  2%|▋                                            | 15/1000 [00:09<10:19,  1.59trial/s, best loss: -0.9553645833333334]\u001b[A\n",
      "  2%|▋                                            | 16/1000 [00:10<10:17,  1.59trial/s, best loss: -0.9553645833333334]\u001b[A\n",
      "  2%|▊                                            | 17/1000 [00:10<10:16,  1.59trial/s, best loss: -0.9553645833333334]\u001b[A\n",
      "  2%|▊                                            | 18/1000 [00:11<10:15,  1.59trial/s, best loss: -0.9553645833333334]\u001b[A\n",
      "  2%|▊                                            | 19/1000 [00:11<10:17,  1.59trial/s, best loss: -0.9553645833333334]\u001b[A\n",
      "  2%|▉                                            | 20/1000 [00:12<10:16,  1.59trial/s, best loss: -0.9553645833333334]\u001b[A\n",
      "  2%|▉                                            | 21/1000 [00:13<10:16,  1.59trial/s, best loss: -0.9553645833333334]\u001b[A\n",
      "  2%|▉                                            | 22/1000 [00:13<10:14,  1.59trial/s, best loss: -0.9553645833333334]\u001b[A\n",
      "  2%|█                                            | 23/1000 [00:14<10:14,  1.59trial/s, best loss: -0.9553645833333334]\u001b[A\n",
      "  2%|█                                            | 24/1000 [00:15<10:12,  1.59trial/s, best loss: -0.9553645833333334]\u001b[A\n",
      "  2%|█▏                                           | 25/1000 [00:15<10:11,  1.59trial/s, best loss: -0.9553645833333334]\u001b[A\n",
      "  3%|█▏                                           | 26/1000 [00:16<10:09,  1.60trial/s, best loss: -0.9553645833333334]\u001b[A\n",
      "  3%|█▏                                           | 27/1000 [00:16<10:09,  1.60trial/s, best loss: -0.9553645833333334]\u001b[A\n",
      "  3%|█▎                                           | 28/1000 [00:17<10:09,  1.59trial/s, best loss: -0.9553645833333334]\u001b[A\n",
      "  3%|█▎                                           | 29/1000 [00:18<10:07,  1.60trial/s, best loss: -0.9553645833333334]\u001b[A\n",
      "  3%|█▎                                           | 30/1000 [00:18<10:07,  1.60trial/s, best loss: -0.9553645833333334]\u001b[A\n",
      "  3%|█▍                                           | 31/1000 [00:19<10:06,  1.60trial/s, best loss: -0.9553645833333334]\u001b[A\n",
      "  3%|█▍                                           | 32/1000 [00:20<10:08,  1.59trial/s, best loss: -0.9553645833333334]\u001b[A\n",
      "  3%|█▍                                           | 33/1000 [00:20<10:06,  1.59trial/s, best loss: -0.9553645833333334]\u001b[A\n",
      "  3%|█▌                                           | 34/1000 [00:21<10:08,  1.59trial/s, best loss: -0.9553645833333334]\u001b[A\n",
      "  4%|█▌                                           | 35/1000 [00:21<10:06,  1.59trial/s, best loss: -0.9553645833333334]\u001b[A\n",
      "  4%|█▌                                           | 36/1000 [00:22<10:03,  1.60trial/s, best loss: -0.9553645833333334]\u001b[A\n",
      "  4%|█▋                                           | 37/1000 [00:23<10:02,  1.60trial/s, best loss: -0.9553645833333334]\u001b[A\n",
      "  4%|█▋                                           | 38/1000 [00:23<10:01,  1.60trial/s, best loss: -0.9553645833333334]\u001b[A\n",
      "  4%|█▊                                           | 39/1000 [00:24<10:01,  1.60trial/s, best loss: -0.9553645833333334]\u001b[A\n",
      "  4%|█▊                                           | 40/1000 [00:25<09:58,  1.60trial/s, best loss: -0.9553645833333334]\u001b[A\n",
      "  4%|█▊                                           | 41/1000 [00:25<09:58,  1.60trial/s, best loss: -0.9553645833333334]\u001b[A\n",
      "  4%|█▉                                           | 42/1000 [00:26<09:58,  1.60trial/s, best loss: -0.9558735188422689]\u001b[A\n",
      "  4%|█▉                                           | 43/1000 [00:26<09:57,  1.60trial/s, best loss: -0.9558735188422689]\u001b[A\n",
      "  4%|█▉                                           | 44/1000 [00:27<09:56,  1.60trial/s, best loss: -0.9558735188422689]\u001b[A\n",
      "  4%|██                                           | 45/1000 [00:28<09:55,  1.60trial/s, best loss: -0.9558735188422689]\u001b[A\n",
      "  5%|██                                           | 46/1000 [00:28<09:55,  1.60trial/s, best loss: -0.9558735188422689]\u001b[A\n",
      "  5%|██                                           | 47/1000 [00:29<09:56,  1.60trial/s, best loss: -0.9558735188422689]\u001b[A\n",
      "  5%|██▏                                          | 48/1000 [00:30<09:59,  1.59trial/s, best loss: -0.9558735188422689]\u001b[A\n",
      "  5%|██▏                                          | 49/1000 [00:30<09:56,  1.59trial/s, best loss: -0.9558735188422689]\u001b[A\n",
      "  5%|██▎                                          | 50/1000 [00:31<09:55,  1.59trial/s, best loss: -0.9558735188422689]\u001b[A\n",
      "  5%|██▎                                          | 51/1000 [00:31<09:54,  1.60trial/s, best loss: -0.9558735188422689]\u001b[A\n",
      "  5%|██▎                                          | 52/1000 [00:32<09:52,  1.60trial/s, best loss: -0.9558735188422689]\u001b[A\n",
      "  5%|██▍                                          | 53/1000 [00:33<09:51,  1.60trial/s, best loss: -0.9558735188422689]\u001b[A\n",
      "  5%|██▍                                          | 54/1000 [00:33<09:53,  1.60trial/s, best loss: -0.9558735188422689]\u001b[A\n",
      "  6%|██▍                                          | 55/1000 [00:34<09:51,  1.60trial/s, best loss: -0.9558735188422689]\u001b[A\n",
      "  6%|██▌                                          | 56/1000 [00:35<09:52,  1.59trial/s, best loss: -0.9558735188422689]\u001b[A\n",
      "  6%|██▌                                          | 57/1000 [00:35<09:52,  1.59trial/s, best loss: -0.9558735188422689]\u001b[A\n",
      "  6%|██▌                                          | 58/1000 [00:36<09:52,  1.59trial/s, best loss: -0.9558735188422689]\u001b[A\n",
      "  6%|██▋                                          | 59/1000 [00:36<09:50,  1.59trial/s, best loss: -0.9558735188422689]\u001b[A\n",
      "  6%|██▋                                          | 60/1000 [00:37<09:51,  1.59trial/s, best loss: -0.9558735188422689]\u001b[A\n",
      "  6%|██▋                                          | 61/1000 [00:38<09:49,  1.59trial/s, best loss: -0.9558735188422689]\u001b[A\n",
      "  6%|██▊                                          | 62/1000 [00:38<09:49,  1.59trial/s, best loss: -0.9558735188422689]\u001b[A\n",
      "  6%|██▊                                          | 63/1000 [00:39<09:49,  1.59trial/s, best loss: -0.9558735188422689]\u001b[A\n",
      "  6%|██▉                                          | 64/1000 [00:40<09:47,  1.59trial/s, best loss: -0.9558735188422689]\u001b[A\n",
      "  6%|██▉                                          | 65/1000 [00:40<09:46,  1.59trial/s, best loss: -0.9558735188422689]\u001b[A\n"
     ]
    },
    {
     "name": "stdout",
     "output_type": "stream",
     "text": [
      "  7%|██▉                                          | 66/1000 [00:41<09:46,  1.59trial/s, best loss: -0.9558735188422689]\u001b[A\n",
      "  7%|███                                          | 67/1000 [00:42<09:44,  1.60trial/s, best loss: -0.9558735188422689]\u001b[A\n",
      "  7%|███                                          | 68/1000 [00:42<09:45,  1.59trial/s, best loss: -0.9558735188422689]\u001b[A\n",
      "  7%|███                                          | 69/1000 [00:43<09:43,  1.60trial/s, best loss: -0.9558735188422689]\u001b[A\n",
      "  7%|███▏                                         | 70/1000 [00:43<09:41,  1.60trial/s, best loss: -0.9558735188422689]\u001b[A\n",
      "  7%|███▏                                         | 71/1000 [00:44<09:42,  1.60trial/s, best loss: -0.9558735188422689]\u001b[A\n",
      "  7%|███▏                                         | 72/1000 [00:45<09:41,  1.60trial/s, best loss: -0.9558735188422689]\u001b[A\n",
      "  7%|███▎                                         | 73/1000 [00:45<09:40,  1.60trial/s, best loss: -0.9558735188422689]\u001b[A\n",
      "  7%|███▎                                         | 74/1000 [00:46<09:40,  1.60trial/s, best loss: -0.9558735188422689]\u001b[A\n",
      "  8%|███▍                                         | 75/1000 [00:47<09:40,  1.59trial/s, best loss: -0.9558735188422689]\u001b[A\n",
      "  8%|███▍                                         | 76/1000 [00:47<09:41,  1.59trial/s, best loss: -0.9558735188422689]\u001b[A\n",
      "  8%|███▍                                         | 77/1000 [00:48<09:42,  1.59trial/s, best loss: -0.9558735188422689]\u001b[A\n",
      "  8%|███▌                                         | 78/1000 [00:48<09:39,  1.59trial/s, best loss: -0.9558735188422689]\u001b[A\n",
      "  8%|███▌                                         | 79/1000 [00:49<09:38,  1.59trial/s, best loss: -0.9558735188422689]\u001b[A\n",
      "  8%|███▌                                         | 80/1000 [00:50<09:39,  1.59trial/s, best loss: -0.9558735188422689]\u001b[A\n",
      "  8%|███▋                                         | 81/1000 [00:50<09:37,  1.59trial/s, best loss: -0.9558735188422689]\u001b[A\n",
      "  8%|███▋                                         | 82/1000 [00:51<09:35,  1.60trial/s, best loss: -0.9558735188422689]\u001b[A\n",
      "  8%|███▋                                         | 83/1000 [00:52<09:35,  1.59trial/s, best loss: -0.9558735188422689]\u001b[A\n",
      "  8%|███▊                                         | 84/1000 [00:52<09:35,  1.59trial/s, best loss: -0.9558735188422689]\u001b[A\n",
      "  8%|███▊                                         | 85/1000 [00:53<09:34,  1.59trial/s, best loss: -0.9558735188422689]\u001b[A\n",
      "  9%|███▊                                         | 86/1000 [00:53<09:34,  1.59trial/s, best loss: -0.9558735188422689]\u001b[A\n",
      "  9%|███▉                                         | 87/1000 [00:54<09:35,  1.59trial/s, best loss: -0.9558735188422689]\u001b[A\n",
      "  9%|███▉                                         | 88/1000 [00:55<09:34,  1.59trial/s, best loss: -0.9558735188422689]\u001b[A\n",
      "  9%|████                                         | 89/1000 [00:55<09:35,  1.58trial/s, best loss: -0.9558735188422689]\u001b[A\n",
      "  9%|████                                         | 90/1000 [00:56<09:32,  1.59trial/s, best loss: -0.9558735188422689]\u001b[A\n",
      "  9%|████                                         | 91/1000 [00:57<09:31,  1.59trial/s, best loss: -0.9558735188422689]\u001b[A\n",
      "  9%|████▏                                        | 92/1000 [00:57<09:30,  1.59trial/s, best loss: -0.9558735188422689]\u001b[A\n",
      "  9%|████▏                                        | 93/1000 [00:58<09:29,  1.59trial/s, best loss: -0.9558735188422689]\u001b[A\n",
      "  9%|████▏                                        | 94/1000 [00:58<09:29,  1.59trial/s, best loss: -0.9558735188422689]\u001b[A\n",
      " 10%|████▎                                        | 95/1000 [00:59<09:27,  1.59trial/s, best loss: -0.9558735188422689]\u001b[A"
     ]
    },
    {
     "name": "stderr",
     "output_type": "stream",
     "text": [
      "Calculating splits<function logistic_metric at 0x000001CC7D6D2948> 312:   0%|                    | 0/1 [01:00<?, ?it/s]\n",
      "C:\\Users\\draco\\miniconda3\\envs\\lab_env\\lib\\site-packages\\numpy\\lib\\npyio.py:528: VisibleDeprecationWarning: Creating an ndarray from ragged nested sequences (which is a list-or-tuple of lists-or-tuples-or ndarrays with different lengths or shapes) is deprecated. If you meant to do this, you must specify 'dtype=object' when creating the ndarray.\n",
      "  arr = np.asanyarray(arr)\n"
     ]
    },
    {
     "name": "stdout",
     "output_type": "stream",
     "text": [
      "\n",
      "saved results to .\\results/tabular/multiclass/results_logistic_time_60_roc_auc_balance-scale_312_624_3.npy\n"
     ]
    },
    {
     "name": "stderr",
     "output_type": "stream",
     "text": [
      "\r",
      "Calculating splits<function logistic_metric at 0x000001CC7D6D2948> 312:   0%|                    | 0/1 [00:00<?, ?it/s]"
     ]
    },
    {
     "name": "stdout",
     "output_type": "stream",
     "text": [
      "\n",
      "  0%|                                                                         | 0/1000 [00:00<?, ?trial/s, best loss=?]\u001b[A\n",
      "  0%|                                              | 1/1000 [00:00<10:39,  1.56trial/s, best loss: -0.9733935413245758]\u001b[A\n",
      "  0%|                                              | 2/1000 [00:01<10:31,  1.58trial/s, best loss: -0.9733935413245758]\u001b[A\n",
      "  0%|▏                                             | 3/1000 [00:01<10:30,  1.58trial/s, best loss: -0.9734017515051999]\u001b[A\n",
      "  0%|▏                                             | 4/1000 [00:02<10:27,  1.59trial/s, best loss: -0.9734017515051999]\u001b[A\n",
      "  0%|▏                                             | 5/1000 [00:03<10:26,  1.59trial/s, best loss: -0.9734017515051999]\u001b[A\n",
      "  1%|▎                                             | 6/1000 [00:03<10:23,  1.59trial/s, best loss: -0.9734017515051999]\u001b[A\n",
      "  1%|▎                                             | 7/1000 [00:04<10:22,  1.60trial/s, best loss: -0.9734017515051999]\u001b[A\n",
      "  1%|▎                                             | 8/1000 [00:05<10:21,  1.60trial/s, best loss: -0.9734017515051999]\u001b[A\n",
      "  1%|▍                                             | 9/1000 [00:05<10:19,  1.60trial/s, best loss: -0.9734017515051999]\u001b[A\n",
      "  1%|▍                                            | 10/1000 [00:06<10:20,  1.60trial/s, best loss: -0.9734017515051999]\u001b[A\n",
      "  1%|▍                                            | 11/1000 [00:06<10:18,  1.60trial/s, best loss: -0.9734017515051999]\u001b[A\n",
      "  1%|▌                                            | 12/1000 [00:07<10:18,  1.60trial/s, best loss: -0.9734017515051999]\u001b[A\n",
      "  1%|▌                                            | 13/1000 [00:08<10:18,  1.60trial/s, best loss: -0.9734017515051999]\u001b[A\n",
      "  1%|▋                                            | 14/1000 [00:08<10:15,  1.60trial/s, best loss: -0.9734017515051999]\u001b[A\n",
      "  2%|▋                                            | 15/1000 [00:09<10:16,  1.60trial/s, best loss: -0.9734017515051999]\u001b[A\n",
      "  2%|▋                                            | 16/1000 [00:10<10:16,  1.60trial/s, best loss: -0.9734017515051999]\u001b[A\n",
      "  2%|▊                                            | 17/1000 [00:10<10:15,  1.60trial/s, best loss: -0.9734017515051999]\u001b[A\n",
      "  2%|▊                                            | 18/1000 [00:11<10:16,  1.59trial/s, best loss: -0.9734017515051999]\u001b[A\n",
      "  2%|▊                                            | 19/1000 [00:11<10:15,  1.59trial/s, best loss: -0.9734017515051999]\u001b[A\n",
      "  2%|▉                                            | 20/1000 [00:12<10:16,  1.59trial/s, best loss: -0.9734017515051999]\u001b[A\n",
      "  2%|▉                                            | 21/1000 [00:13<10:14,  1.59trial/s, best loss: -0.9734017515051999]\u001b[A\n",
      "  2%|▉                                            | 22/1000 [00:13<10:13,  1.60trial/s, best loss: -0.9734017515051999]\u001b[A\n",
      "  2%|█                                            | 23/1000 [00:14<10:12,  1.60trial/s, best loss: -0.9734017515051999]\u001b[A\n",
      "  2%|█                                            | 24/1000 [00:15<10:09,  1.60trial/s, best loss: -0.9734017515051999]\u001b[A\n",
      "  2%|█▏                                           | 25/1000 [00:15<10:09,  1.60trial/s, best loss: -0.9734017515051999]\u001b[A\n",
      "  3%|█▏                                           | 26/1000 [00:16<10:08,  1.60trial/s, best loss: -0.9734017515051999]\u001b[A\n",
      "  3%|█▏                                           | 27/1000 [00:16<10:07,  1.60trial/s, best loss: -0.9734017515051999]\u001b[A\n",
      "  3%|█▎                                           | 28/1000 [00:17<10:09,  1.59trial/s, best loss: -0.9734017515051999]\u001b[A\n",
      "  3%|█▎                                           | 29/1000 [00:18<10:07,  1.60trial/s, best loss: -0.9734017515051999]\u001b[A\n",
      "  3%|█▎                                           | 30/1000 [00:18<10:05,  1.60trial/s, best loss: -0.9734017515051999]\u001b[A\n",
      "  3%|█▍                                           | 31/1000 [00:19<10:05,  1.60trial/s, best loss: -0.9734017515051999]\u001b[A\n",
      "  3%|█▍                                           | 32/1000 [00:20<10:04,  1.60trial/s, best loss: -0.9734017515051999]\u001b[A\n",
      "  3%|█▍                                           | 33/1000 [00:20<10:05,  1.60trial/s, best loss: -0.9734017515051999]\u001b[A\n",
      "  3%|█▌                                           | 34/1000 [00:21<10:04,  1.60trial/s, best loss: -0.9734017515051999]\u001b[A\n",
      "  4%|█▌                                           | 35/1000 [00:21<10:02,  1.60trial/s, best loss: -0.9734017515051999]\u001b[A\n",
      "  4%|█▌                                           | 36/1000 [00:22<10:02,  1.60trial/s, best loss: -0.9734017515051999]\u001b[A\n",
      "  4%|█▋                                           | 37/1000 [00:23<10:01,  1.60trial/s, best loss: -0.9734017515051999]\u001b[A\n",
      "  4%|█▋                                           | 38/1000 [00:23<10:02,  1.60trial/s, best loss: -0.9734017515051999]\u001b[A\n",
      "  4%|█▊                                           | 39/1000 [00:24<10:01,  1.60trial/s, best loss: -0.9734017515051999]\u001b[A\n",
      "  4%|█▊                                           | 40/1000 [00:25<10:01,  1.60trial/s, best loss: -0.9734017515051999]\u001b[A\n",
      "  4%|█▊                                           | 41/1000 [00:25<10:03,  1.59trial/s, best loss: -0.9734017515051999]\u001b[A\n",
      "  4%|█▉                                           | 42/1000 [00:26<10:00,  1.59trial/s, best loss: -0.9734017515051999]\u001b[A\n",
      "  4%|█▉                                           | 43/1000 [00:26<10:01,  1.59trial/s, best loss: -0.9734017515051999]\u001b[A\n",
      "  4%|█▉                                           | 44/1000 [00:27<10:01,  1.59trial/s, best loss: -0.9734017515051999]\u001b[A\n",
      "  4%|██                                           | 45/1000 [00:28<09:57,  1.60trial/s, best loss: -0.9734017515051999]\u001b[A\n",
      "  5%|██                                           | 46/1000 [00:28<09:59,  1.59trial/s, best loss: -0.9734017515051999]\u001b[A\n",
      "  5%|██                                           | 47/1000 [00:29<10:01,  1.58trial/s, best loss: -0.9734017515051999]\u001b[A\n",
      "  5%|██▏                                          | 48/1000 [00:30<10:02,  1.58trial/s, best loss: -0.9734017515051999]\u001b[A\n",
      "  5%|██▏                                          | 49/1000 [00:30<09:59,  1.59trial/s, best loss: -0.9734017515051999]\u001b[A\n",
      "  5%|██▎                                          | 50/1000 [00:31<10:01,  1.58trial/s, best loss: -0.9734017515051999]\u001b[A\n",
      "  5%|██▎                                          | 51/1000 [00:31<09:58,  1.59trial/s, best loss: -0.9734017515051999]\u001b[A\n",
      "  5%|██▎                                          | 52/1000 [00:32<09:56,  1.59trial/s, best loss: -0.9734017515051999]\u001b[A\n",
      "  5%|██▍                                          | 53/1000 [00:33<09:54,  1.59trial/s, best loss: -0.9734017515051999]\u001b[A\n",
      "  5%|██▍                                          | 54/1000 [00:33<09:53,  1.59trial/s, best loss: -0.9734017515051999]\u001b[A\n",
      "  6%|██▍                                          | 55/1000 [00:34<09:51,  1.60trial/s, best loss: -0.9734017515051999]\u001b[A\n",
      "  6%|██▌                                          | 56/1000 [00:35<09:50,  1.60trial/s, best loss: -0.9734017515051999]\u001b[A\n",
      "  6%|██▌                                          | 57/1000 [00:35<09:50,  1.60trial/s, best loss: -0.9734017515051999]\u001b[A\n",
      "  6%|██▌                                          | 58/1000 [00:36<09:49,  1.60trial/s, best loss: -0.9734017515051999]\u001b[A\n",
      "  6%|██▋                                          | 59/1000 [00:37<09:50,  1.59trial/s, best loss: -0.9734017515051999]\u001b[A\n",
      "  6%|██▋                                          | 60/1000 [00:37<09:49,  1.59trial/s, best loss: -0.9734017515051999]\u001b[A\n",
      "  6%|██▋                                          | 61/1000 [00:38<09:46,  1.60trial/s, best loss: -0.9734017515051999]\u001b[A\n",
      "  6%|██▊                                          | 62/1000 [00:38<09:46,  1.60trial/s, best loss: -0.9734017515051999]\u001b[A\n",
      "  6%|██▊                                          | 63/1000 [00:39<09:45,  1.60trial/s, best loss: -0.9734017515051999]\u001b[A\n",
      "  6%|██▉                                          | 64/1000 [00:40<09:44,  1.60trial/s, best loss: -0.9734017515051999]\u001b[A\n",
      "  6%|██▉                                          | 65/1000 [00:40<09:43,  1.60trial/s, best loss: -0.9734017515051999]\u001b[A\n"
     ]
    },
    {
     "name": "stdout",
     "output_type": "stream",
     "text": [
      "  7%|██▉                                          | 66/1000 [00:41<09:42,  1.60trial/s, best loss: -0.9734017515051999]\u001b[A\n",
      "  7%|███                                          | 67/1000 [00:41<09:41,  1.60trial/s, best loss: -0.9734017515051999]\u001b[A\n",
      "  7%|███                                          | 68/1000 [00:42<09:41,  1.60trial/s, best loss: -0.9734017515051999]\u001b[A\n",
      "  7%|███                                          | 69/1000 [00:43<09:41,  1.60trial/s, best loss: -0.9734017515051999]\u001b[A\n",
      "  7%|███▏                                         | 70/1000 [00:43<09:42,  1.60trial/s, best loss: -0.9734017515051999]\u001b[A\n",
      "  7%|███▏                                         | 71/1000 [00:44<09:41,  1.60trial/s, best loss: -0.9734017515051999]\u001b[A\n",
      "  7%|███▏                                         | 72/1000 [00:45<09:41,  1.60trial/s, best loss: -0.9734017515051999]\u001b[A\n",
      "  7%|███▎                                         | 73/1000 [00:45<09:41,  1.59trial/s, best loss: -0.9734017515051999]\u001b[A\n",
      "  7%|███▎                                         | 74/1000 [00:46<09:42,  1.59trial/s, best loss: -0.9734017515051999]\u001b[A\n",
      "  8%|███▍                                         | 75/1000 [00:47<09:41,  1.59trial/s, best loss: -0.9734017515051999]\u001b[A\n",
      "  8%|███▍                                         | 76/1000 [00:47<09:41,  1.59trial/s, best loss: -0.9734017515051999]\u001b[A\n",
      "  8%|███▍                                         | 77/1000 [00:48<09:44,  1.58trial/s, best loss: -0.9734017515051999]\u001b[A\n",
      "  8%|███▌                                         | 78/1000 [00:48<09:41,  1.59trial/s, best loss: -0.9734017515051999]\u001b[A\n",
      "  8%|███▌                                         | 79/1000 [00:49<09:41,  1.58trial/s, best loss: -0.9734017515051999]\u001b[A\n",
      "  8%|███▌                                         | 80/1000 [00:50<09:39,  1.59trial/s, best loss: -0.9734017515051999]\u001b[A\n",
      "  8%|███▋                                         | 81/1000 [00:50<09:38,  1.59trial/s, best loss: -0.9734017515051999]\u001b[A\n",
      "  8%|███▋                                         | 82/1000 [00:51<09:38,  1.59trial/s, best loss: -0.9734017515051999]\u001b[A\n",
      "  8%|███▋                                         | 83/1000 [00:52<09:35,  1.59trial/s, best loss: -0.9734017515051999]\u001b[A\n",
      "  8%|███▊                                         | 84/1000 [00:52<09:39,  1.58trial/s, best loss: -0.9734017515051999]\u001b[A\n",
      "  8%|███▊                                         | 85/1000 [00:53<09:38,  1.58trial/s, best loss: -0.9734017515051999]\u001b[A\n",
      "  9%|███▊                                         | 86/1000 [00:53<09:37,  1.58trial/s, best loss: -0.9734017515051999]\u001b[A\n",
      "  9%|███▉                                         | 87/1000 [00:54<09:39,  1.58trial/s, best loss: -0.9734017515051999]\u001b[A\n",
      "  9%|███▉                                         | 88/1000 [00:55<09:35,  1.58trial/s, best loss: -0.9734017515051999]\u001b[A\n",
      "  9%|████                                         | 89/1000 [00:55<09:34,  1.59trial/s, best loss: -0.9734017515051999]\u001b[A\n",
      "  9%|████                                         | 90/1000 [00:56<09:33,  1.59trial/s, best loss: -0.9734017515051999]\u001b[A\n",
      "  9%|████                                         | 91/1000 [00:57<09:31,  1.59trial/s, best loss: -0.9734017515051999]\u001b[A\n",
      "  9%|████▏                                        | 92/1000 [00:57<09:31,  1.59trial/s, best loss: -0.9734017515051999]\u001b[A\n",
      "  9%|████▏                                        | 93/1000 [00:58<09:28,  1.59trial/s, best loss: -0.9734017515051999]\u001b[A\n",
      "  9%|████▏                                        | 94/1000 [00:58<09:28,  1.59trial/s, best loss: -0.9734017515051999]\u001b[A\n",
      " 10%|████▎                                        | 95/1000 [00:59<09:28,  1.59trial/s, best loss: -0.9734017515051999]\u001b[A"
     ]
    },
    {
     "name": "stderr",
     "output_type": "stream",
     "text": [
      "Calculating splits<function logistic_metric at 0x000001CC7D6D2948> 312:   0%|                    | 0/1 [01:00<?, ?it/s]\n",
      "C:\\Users\\draco\\miniconda3\\envs\\lab_env\\lib\\site-packages\\numpy\\lib\\npyio.py:528: VisibleDeprecationWarning: Creating an ndarray from ragged nested sequences (which is a list-or-tuple of lists-or-tuples-or ndarrays with different lengths or shapes) is deprecated. If you meant to do this, you must specify 'dtype=object' when creating the ndarray.\n",
      "  arr = np.asanyarray(arr)\n"
     ]
    },
    {
     "name": "stdout",
     "output_type": "stream",
     "text": [
      "\n",
      "saved results to .\\results/tabular/multiclass/results_logistic_time_60_roc_auc_balance-scale_312_624_4.npy\n"
     ]
    },
    {
     "name": "stderr",
     "output_type": "stream",
     "text": [
      "\r",
      "Calculating splits<function logistic_metric at 0x000001CC7D6D2948> 312:   0%|                    | 0/1 [00:00<?, ?it/s]"
     ]
    },
    {
     "name": "stdout",
     "output_type": "stream",
     "text": [
      "\n",
      "  0%|                                                                         | 0/1000 [00:00<?, ?trial/s, best loss=?]\u001b[A\n",
      "  0%|                                              | 1/1000 [00:00<10:34,  1.57trial/s, best loss: -0.9535993817678406]\u001b[A\n",
      "  0%|                                              | 2/1000 [00:01<10:29,  1.59trial/s, best loss: -0.9535993817678406]\u001b[A\n",
      "  0%|▏                                             | 3/1000 [00:01<10:26,  1.59trial/s, best loss: -0.9535993817678406]\u001b[A\n",
      "  0%|▏                                             | 4/1000 [00:02<10:25,  1.59trial/s, best loss: -0.9535993817678406]\u001b[A\n",
      "  0%|▏                                             | 5/1000 [00:03<10:23,  1.60trial/s, best loss: -0.9535993817678406]\u001b[A\n",
      "  1%|▎                                             | 6/1000 [00:03<10:22,  1.60trial/s, best loss: -0.9535993817678406]\u001b[A\n",
      "  1%|▎                                             | 7/1000 [00:04<10:22,  1.60trial/s, best loss: -0.9538681989721415]\u001b[A\n",
      "  1%|▎                                             | 8/1000 [00:05<10:19,  1.60trial/s, best loss: -0.9538681989721415]\u001b[A\n",
      "  1%|▍                                             | 9/1000 [00:05<10:17,  1.61trial/s, best loss: -0.9538681989721415]\u001b[A\n",
      "  1%|▍                                            | 10/1000 [00:06<10:17,  1.60trial/s, best loss: -0.9538681989721415]\u001b[A\n",
      "  1%|▍                                            | 11/1000 [00:06<10:17,  1.60trial/s, best loss: -0.9538681989721415]\u001b[A\n",
      "  1%|▌                                            | 12/1000 [00:07<10:18,  1.60trial/s, best loss: -0.9538681989721415]\u001b[A\n",
      "  1%|▌                                            | 13/1000 [00:08<10:16,  1.60trial/s, best loss: -0.9538681989721415]\u001b[A\n",
      "  1%|▋                                            | 14/1000 [00:08<10:14,  1.61trial/s, best loss: -0.9538681989721415]\u001b[A\n",
      "  2%|▋                                            | 15/1000 [00:09<10:15,  1.60trial/s, best loss: -0.9538681989721415]\u001b[A\n",
      "  2%|▋                                            | 16/1000 [00:10<10:14,  1.60trial/s, best loss: -0.9538681989721415]\u001b[A\n",
      "  2%|▊                                            | 17/1000 [00:10<10:19,  1.59trial/s, best loss: -0.9538681989721415]\u001b[A\n",
      "  2%|▊                                            | 18/1000 [00:11<10:17,  1.59trial/s, best loss: -0.9538681989721415]\u001b[A\n",
      "  2%|▊                                            | 19/1000 [00:11<10:16,  1.59trial/s, best loss: -0.9538681989721415]\u001b[A\n",
      "  2%|▉                                            | 20/1000 [00:12<10:13,  1.60trial/s, best loss: -0.9538681989721415]\u001b[A\n",
      "  2%|▉                                            | 21/1000 [00:13<10:12,  1.60trial/s, best loss: -0.9538681989721415]\u001b[A\n",
      "  2%|▉                                            | 22/1000 [00:13<10:11,  1.60trial/s, best loss: -0.9538681989721415]\u001b[A\n",
      "  2%|█                                            | 23/1000 [00:14<10:10,  1.60trial/s, best loss: -0.9538681989721415]\u001b[A\n",
      "  2%|█                                            | 24/1000 [00:15<10:08,  1.60trial/s, best loss: -0.9538681989721415]\u001b[A\n",
      "  2%|█▏                                           | 25/1000 [00:15<10:09,  1.60trial/s, best loss: -0.9538681989721415]\u001b[A\n",
      "  3%|█▏                                           | 26/1000 [00:16<10:12,  1.59trial/s, best loss: -0.9538681989721415]\u001b[A\n",
      "  3%|█▏                                           | 27/1000 [00:16<10:11,  1.59trial/s, best loss: -0.9538681989721415]\u001b[A\n",
      "  3%|█▎                                           | 28/1000 [00:17<10:12,  1.59trial/s, best loss: -0.9538681989721415]\u001b[A\n",
      "  3%|█▎                                           | 29/1000 [00:18<10:10,  1.59trial/s, best loss: -0.9538681989721415]\u001b[A\n",
      "  3%|█▎                                           | 30/1000 [00:18<10:13,  1.58trial/s, best loss: -0.9538681989721415]\u001b[A\n",
      "  3%|█▍                                           | 31/1000 [00:19<10:12,  1.58trial/s, best loss: -0.9538681989721415]\u001b[A\n",
      "  3%|█▍                                           | 32/1000 [00:20<10:11,  1.58trial/s, best loss: -0.9538681989721415]\u001b[A\n",
      "  3%|█▍                                           | 33/1000 [00:20<10:05,  1.60trial/s, best loss: -0.9538681989721415]\u001b[A\n",
      "  3%|█▌                                           | 34/1000 [00:21<10:07,  1.59trial/s, best loss: -0.9538681989721415]\u001b[A\n",
      "  4%|█▌                                            | 35/1000 [00:21<10:13,  1.57trial/s, best loss: -0.954710478655819]\u001b[A\n",
      "  4%|█▌                                           | 36/1000 [00:22<10:10,  1.58trial/s, best loss: -0.9556143587263659]\u001b[A\n",
      "  4%|█▋                                           | 37/1000 [00:23<10:09,  1.58trial/s, best loss: -0.9556143587263659]\u001b[A\n",
      "  4%|█▋                                           | 38/1000 [00:23<10:10,  1.58trial/s, best loss: -0.9556143587263659]\u001b[A\n",
      "  4%|█▊                                           | 39/1000 [00:24<10:08,  1.58trial/s, best loss: -0.9556143587263659]\u001b[A\n",
      "  4%|█▊                                           | 40/1000 [00:25<10:04,  1.59trial/s, best loss: -0.9556143587263659]\u001b[A\n",
      "  4%|█▊                                           | 41/1000 [00:25<10:03,  1.59trial/s, best loss: -0.9556143587263659]\u001b[A\n",
      "  4%|█▉                                           | 42/1000 [00:26<10:03,  1.59trial/s, best loss: -0.9556143587263659]\u001b[A\n",
      "  4%|█▉                                           | 43/1000 [00:27<10:01,  1.59trial/s, best loss: -0.9556143587263659]\u001b[A\n",
      "  4%|█▉                                           | 44/1000 [00:27<10:01,  1.59trial/s, best loss: -0.9556143587263659]\u001b[A\n",
      "  4%|██                                           | 45/1000 [00:28<10:01,  1.59trial/s, best loss: -0.9556143587263659]\u001b[A\n",
      "  5%|██                                           | 46/1000 [00:28<09:59,  1.59trial/s, best loss: -0.9556143587263659]\u001b[A\n",
      "  5%|██                                           | 47/1000 [00:29<10:00,  1.59trial/s, best loss: -0.9556143587263659]\u001b[A\n",
      "  5%|██▏                                          | 48/1000 [00:30<10:02,  1.58trial/s, best loss: -0.9556143587263659]\u001b[A\n",
      "  5%|██▏                                          | 49/1000 [00:30<10:05,  1.57trial/s, best loss: -0.9556143587263659]\u001b[A\n",
      "  5%|██▎                                          | 50/1000 [00:31<10:02,  1.58trial/s, best loss: -0.9556143587263659]\u001b[A\n",
      "  5%|██▎                                          | 51/1000 [00:32<10:02,  1.57trial/s, best loss: -0.9556143587263659]\u001b[A\n",
      "  5%|██▎                                          | 52/1000 [00:32<10:00,  1.58trial/s, best loss: -0.9556143587263659]\u001b[A\n",
      "  5%|██▍                                          | 53/1000 [00:33<09:58,  1.58trial/s, best loss: -0.9556143587263659]\u001b[A\n",
      "  5%|██▍                                          | 54/1000 [00:33<09:57,  1.58trial/s, best loss: -0.9556143587263659]\u001b[A\n",
      "  6%|██▍                                          | 55/1000 [00:34<09:57,  1.58trial/s, best loss: -0.9556143587263659]\u001b[A\n",
      "  6%|██▌                                          | 56/1000 [00:35<09:56,  1.58trial/s, best loss: -0.9556143587263659]\u001b[A\n",
      "  6%|██▌                                          | 57/1000 [00:35<09:54,  1.59trial/s, best loss: -0.9556143587263659]\u001b[A\n",
      "  6%|██▌                                          | 58/1000 [00:36<09:55,  1.58trial/s, best loss: -0.9556143587263659]\u001b[A\n",
      "  6%|██▋                                          | 59/1000 [00:37<09:53,  1.58trial/s, best loss: -0.9556143587263659]\u001b[A\n",
      "  6%|██▋                                          | 60/1000 [00:37<09:52,  1.59trial/s, best loss: -0.9556143587263659]\u001b[A\n",
      "  6%|██▋                                          | 61/1000 [00:38<09:49,  1.59trial/s, best loss: -0.9556143587263659]\u001b[A\n",
      "  6%|██▊                                          | 62/1000 [00:39<09:48,  1.59trial/s, best loss: -0.9556143587263659]\u001b[A\n",
      "  6%|██▊                                          | 63/1000 [00:39<09:48,  1.59trial/s, best loss: -0.9556143587263659]\u001b[A\n",
      "  6%|██▉                                          | 64/1000 [00:40<09:47,  1.59trial/s, best loss: -0.9556143587263659]\u001b[A\n",
      "  6%|██▉                                          | 65/1000 [00:40<09:46,  1.59trial/s, best loss: -0.9556143587263659]\u001b[A\n"
     ]
    },
    {
     "name": "stdout",
     "output_type": "stream",
     "text": [
      "  7%|██▉                                          | 66/1000 [00:41<09:44,  1.60trial/s, best loss: -0.9556143587263659]\u001b[A\n",
      "  7%|███                                          | 67/1000 [00:42<09:43,  1.60trial/s, best loss: -0.9556143587263659]\u001b[A\n",
      "  7%|███                                          | 68/1000 [00:42<09:44,  1.60trial/s, best loss: -0.9556143587263659]\u001b[A\n",
      "  7%|███                                          | 69/1000 [00:43<09:42,  1.60trial/s, best loss: -0.9556143587263659]\u001b[A\n",
      "  7%|███▏                                         | 70/1000 [00:44<09:43,  1.59trial/s, best loss: -0.9556143587263659]\u001b[A\n",
      "  7%|███▏                                         | 71/1000 [00:44<09:42,  1.60trial/s, best loss: -0.9556143587263659]\u001b[A\n",
      "  7%|███▏                                         | 72/1000 [00:45<09:43,  1.59trial/s, best loss: -0.9556143587263659]\u001b[A\n",
      "  7%|███▎                                         | 73/1000 [00:45<09:42,  1.59trial/s, best loss: -0.9556143587263659]\u001b[A\n",
      "  7%|███▎                                         | 74/1000 [00:46<09:40,  1.60trial/s, best loss: -0.9556143587263659]\u001b[A\n",
      "  8%|███▍                                         | 75/1000 [00:47<09:39,  1.60trial/s, best loss: -0.9556143587263659]\u001b[A\n",
      "  8%|███▍                                         | 76/1000 [00:47<09:39,  1.59trial/s, best loss: -0.9556143587263659]\u001b[A\n",
      "  8%|███▍                                         | 77/1000 [00:48<09:39,  1.59trial/s, best loss: -0.9556143587263659]\u001b[A\n",
      "  8%|███▌                                         | 78/1000 [00:49<09:37,  1.60trial/s, best loss: -0.9556143587263659]\u001b[A\n",
      "  8%|███▌                                         | 79/1000 [00:49<09:35,  1.60trial/s, best loss: -0.9556143587263659]\u001b[A\n",
      "  8%|███▌                                         | 80/1000 [00:50<09:35,  1.60trial/s, best loss: -0.9556143587263659]\u001b[A\n",
      "  8%|███▋                                         | 81/1000 [00:50<09:34,  1.60trial/s, best loss: -0.9556143587263659]\u001b[A\n",
      "  8%|███▋                                         | 82/1000 [00:51<09:33,  1.60trial/s, best loss: -0.9556143587263659]\u001b[A\n",
      "  8%|███▋                                         | 83/1000 [00:52<09:32,  1.60trial/s, best loss: -0.9556143587263659]\u001b[A\n",
      "  8%|███▊                                         | 84/1000 [00:52<09:35,  1.59trial/s, best loss: -0.9556143587263659]\u001b[A\n",
      "  8%|███▊                                         | 85/1000 [00:53<09:32,  1.60trial/s, best loss: -0.9556143587263659]\u001b[A\n",
      "  9%|███▊                                         | 86/1000 [00:54<09:31,  1.60trial/s, best loss: -0.9556143587263659]\u001b[A\n",
      "  9%|███▉                                         | 87/1000 [00:54<09:30,  1.60trial/s, best loss: -0.9556143587263659]\u001b[A\n",
      "  9%|███▉                                         | 88/1000 [00:55<09:29,  1.60trial/s, best loss: -0.9556143587263659]\u001b[A\n",
      "  9%|████                                         | 89/1000 [00:55<09:28,  1.60trial/s, best loss: -0.9556143587263659]\u001b[A\n",
      "  9%|████                                         | 90/1000 [00:56<09:27,  1.60trial/s, best loss: -0.9556143587263659]\u001b[A\n",
      "  9%|████                                         | 91/1000 [00:57<09:27,  1.60trial/s, best loss: -0.9556143587263659]\u001b[A\n",
      "  9%|████▏                                        | 92/1000 [00:57<09:28,  1.60trial/s, best loss: -0.9556143587263659]\u001b[A\n",
      "  9%|████▏                                        | 93/1000 [00:58<09:27,  1.60trial/s, best loss: -0.9556143587263659]\u001b[A\n",
      "  9%|████▏                                        | 94/1000 [00:59<09:28,  1.59trial/s, best loss: -0.9556143587263659]\u001b[A\n",
      " 10%|████▎                                        | 95/1000 [00:59<09:28,  1.59trial/s, best loss: -0.9556143587263659]\u001b[A"
     ]
    },
    {
     "name": "stderr",
     "output_type": "stream",
     "text": [
      "Calculating splits<function logistic_metric at 0x000001CC7D6D2948> 312:   0%|                    | 0/1 [01:00<?, ?it/s]\n",
      "C:\\Users\\draco\\miniconda3\\envs\\lab_env\\lib\\site-packages\\numpy\\lib\\npyio.py:528: VisibleDeprecationWarning: Creating an ndarray from ragged nested sequences (which is a list-or-tuple of lists-or-tuples-or ndarrays with different lengths or shapes) is deprecated. If you meant to do this, you must specify 'dtype=object' when creating the ndarray.\n",
      "  arr = np.asanyarray(arr)\n"
     ]
    },
    {
     "name": "stdout",
     "output_type": "stream",
     "text": [
      "\n",
      "saved results to .\\results/tabular/multiclass/results_logistic_time_60_roc_auc_balance-scale_312_624_5.npy\n"
     ]
    },
    {
     "name": "stderr",
     "output_type": "stream",
     "text": [
      "\r",
      "Calculating splits<function logistic_metric at 0x000001CC7D6D2948> 312:   0%|                    | 0/1 [00:00<?, ?it/s]"
     ]
    },
    {
     "name": "stdout",
     "output_type": "stream",
     "text": [
      "\n",
      "  0%|                                                                         | 0/1000 [00:00<?, ?trial/s, best loss=?]\u001b[A\n",
      "  0%|                                              | 1/1000 [00:00<10:19,  1.61trial/s, best loss: -0.9491881651766712]\u001b[A\n",
      "  0%|                                              | 2/1000 [00:01<10:25,  1.60trial/s, best loss: -0.9491881651766712]\u001b[A\n",
      "  0%|▏                                             | 3/1000 [00:01<10:23,  1.60trial/s, best loss: -0.9491881651766712]\u001b[A\n",
      "  0%|▏                                             | 4/1000 [00:02<10:22,  1.60trial/s, best loss: -0.9491881651766712]\u001b[A\n",
      "  0%|▏                                             | 5/1000 [00:03<10:23,  1.60trial/s, best loss: -0.9491881651766712]\u001b[A\n",
      "  1%|▎                                             | 6/1000 [00:03<10:21,  1.60trial/s, best loss: -0.9491881651766712]\u001b[A\n",
      "  1%|▎                                             | 7/1000 [00:04<10:22,  1.59trial/s, best loss: -0.9565606641123882]\u001b[A\n",
      "  1%|▎                                             | 8/1000 [00:05<10:22,  1.59trial/s, best loss: -0.9565606641123882]\u001b[A\n",
      "  1%|▍                                             | 9/1000 [00:05<10:26,  1.58trial/s, best loss: -0.9565606641123882]\u001b[A\n",
      "  1%|▍                                            | 10/1000 [00:06<10:25,  1.58trial/s, best loss: -0.9565606641123882]\u001b[A\n",
      "  1%|▍                                            | 11/1000 [00:06<10:25,  1.58trial/s, best loss: -0.9565606641123882]\u001b[A\n",
      "  1%|▌                                            | 12/1000 [00:07<10:24,  1.58trial/s, best loss: -0.9565606641123882]\u001b[A\n",
      "  1%|▌                                            | 13/1000 [00:08<10:23,  1.58trial/s, best loss: -0.9565606641123882]\u001b[A\n",
      "  1%|▋                                            | 14/1000 [00:08<10:26,  1.57trial/s, best loss: -0.9565606641123882]\u001b[A\n",
      "  2%|▋                                            | 15/1000 [00:09<10:24,  1.58trial/s, best loss: -0.9565606641123882]\u001b[A\n",
      "  2%|▋                                            | 16/1000 [00:10<10:21,  1.58trial/s, best loss: -0.9565606641123882]\u001b[A\n",
      "  2%|▊                                            | 17/1000 [00:10<10:22,  1.58trial/s, best loss: -0.9565606641123882]\u001b[A\n",
      "  2%|▊                                            | 18/1000 [00:11<10:26,  1.57trial/s, best loss: -0.9565606641123882]\u001b[A\n",
      "  2%|▊                                            | 19/1000 [00:11<10:24,  1.57trial/s, best loss: -0.9565606641123882]\u001b[A\n",
      "  2%|▉                                            | 20/1000 [00:12<10:21,  1.58trial/s, best loss: -0.9565606641123882]\u001b[A\n",
      "  2%|▉                                            | 21/1000 [00:13<10:18,  1.58trial/s, best loss: -0.9565606641123882]\u001b[A\n",
      "  2%|▉                                            | 22/1000 [00:13<10:17,  1.58trial/s, best loss: -0.9565606641123882]\u001b[A\n",
      "  2%|█                                            | 23/1000 [00:14<10:17,  1.58trial/s, best loss: -0.9565606641123882]\u001b[A\n",
      "  2%|█                                            | 24/1000 [00:15<10:19,  1.58trial/s, best loss: -0.9565606641123882]\u001b[A\n",
      "  2%|█▏                                           | 25/1000 [00:15<10:17,  1.58trial/s, best loss: -0.9565606641123882]\u001b[A\n",
      "  3%|█▏                                           | 26/1000 [00:16<10:16,  1.58trial/s, best loss: -0.9565606641123882]\u001b[A\n",
      "  3%|█▏                                           | 27/1000 [00:17<10:14,  1.58trial/s, best loss: -0.9565606641123882]\u001b[A\n",
      "  3%|█▎                                           | 28/1000 [00:17<10:11,  1.59trial/s, best loss: -0.9565606641123882]\u001b[A\n",
      "  3%|█▎                                           | 29/1000 [00:18<10:11,  1.59trial/s, best loss: -0.9565606641123882]\u001b[A\n",
      "  3%|█▎                                           | 30/1000 [00:18<10:10,  1.59trial/s, best loss: -0.9565606641123882]\u001b[A\n",
      "  3%|█▍                                           | 31/1000 [00:19<10:12,  1.58trial/s, best loss: -0.9565606641123882]\u001b[A\n",
      "  3%|█▍                                           | 32/1000 [00:20<10:13,  1.58trial/s, best loss: -0.9565606641123882]\u001b[A\n",
      "  3%|█▍                                           | 33/1000 [00:20<10:11,  1.58trial/s, best loss: -0.9565606641123882]\u001b[A\n",
      "  3%|█▌                                           | 34/1000 [00:21<10:10,  1.58trial/s, best loss: -0.9565606641123882]\u001b[A\n",
      "  4%|█▌                                           | 35/1000 [00:22<10:08,  1.59trial/s, best loss: -0.9565606641123882]\u001b[A\n",
      "  4%|█▌                                           | 36/1000 [00:22<10:07,  1.59trial/s, best loss: -0.9565606641123882]\u001b[A\n",
      "  4%|█▋                                           | 37/1000 [00:23<10:06,  1.59trial/s, best loss: -0.9565606641123882]\u001b[A\n",
      "  4%|█▋                                           | 38/1000 [00:23<10:09,  1.58trial/s, best loss: -0.9565606641123882]\u001b[A\n",
      "  4%|█▊                                           | 39/1000 [00:25<10:19,  1.55trial/s, best loss: -0.9565606641123882]\u001b[A"
     ]
    },
    {
     "name": "stderr",
     "output_type": "stream",
     "text": [
      "\r",
      "Calculating splits<function logistic_metric at 0x000001CC7D6D2948> 312:   0%|                    | 0/1 [00:25<?, ?it/s]"
     ]
    },
    {
     "name": "stdout",
     "output_type": "stream",
     "text": [
      "\n"
     ]
    },
    {
     "name": "stderr",
     "output_type": "stream",
     "text": [
      "\n"
     ]
    },
    {
     "ename": "KeyboardInterrupt",
     "evalue": "",
     "output_type": "error",
     "traceback": [
      "\u001b[1;31m---------------------------------------------------------------------------\u001b[0m",
      "\u001b[1;31mKeyboardInterrupt\u001b[0m                         Traceback (most recent call last)",
      "\u001b[1;32m~\\AppData\\Local\\Temp\\ipykernel_14456\\1524971847.py\u001b[0m in \u001b[0;36m<module>\u001b[1;34m\u001b[0m\n\u001b[0;32m      7\u001b[0m jobs = [\n\u001b[0;32m      8\u001b[0m     \u001b[0meval_method\u001b[0m\u001b[1;33m(\u001b[0m\u001b[0mtask_type\u001b[0m\u001b[1;33m,\u001b[0m \u001b[0mm\u001b[0m\u001b[1;33m,\u001b[0m \u001b[0mdid\u001b[0m\u001b[1;33m,\u001b[0m \u001b[0mselector\u001b[0m\u001b[1;33m,\u001b[0m \u001b[0meval_positions\u001b[0m\u001b[1;33m,\u001b[0m \u001b[0mmax_time\u001b[0m\u001b[1;33m,\u001b[0m \u001b[0mmetric_used\u001b[0m\u001b[1;33m,\u001b[0m \u001b[0msplit_number\u001b[0m\u001b[1;33m)\u001b[0m\u001b[1;33m\u001b[0m\u001b[1;33m\u001b[0m\u001b[0m\n\u001b[1;32m----> 9\u001b[1;33m     \u001b[1;32mfor\u001b[0m \u001b[0mdid\u001b[0m \u001b[1;32min\u001b[0m \u001b[0mrange\u001b[0m\u001b[1;33m(\u001b[0m\u001b[1;36m0\u001b[0m\u001b[1;33m,\u001b[0m \u001b[0mlen\u001b[0m\u001b[1;33m(\u001b[0m\u001b[0mtest_datasets\u001b[0m\u001b[1;33m)\u001b[0m\u001b[1;33m)\u001b[0m\u001b[1;33m\u001b[0m\u001b[1;33m\u001b[0m\u001b[0m\n\u001b[0m\u001b[0;32m     10\u001b[0m     \u001b[1;32mfor\u001b[0m \u001b[0mselector\u001b[0m \u001b[1;32min\u001b[0m \u001b[1;33m[\u001b[0m\u001b[1;34m'test'\u001b[0m\u001b[1;33m]\u001b[0m\u001b[1;33m\u001b[0m\u001b[1;33m\u001b[0m\u001b[0m\n\u001b[0;32m     11\u001b[0m     \u001b[1;32mfor\u001b[0m \u001b[0mm\u001b[0m \u001b[1;32min\u001b[0m \u001b[0mmethods\u001b[0m\u001b[1;33m\u001b[0m\u001b[1;33m\u001b[0m\u001b[0m\n",
      "\u001b[1;32m~\\AppData\\Local\\Temp\\ipykernel_14456\\1524971847.py\u001b[0m in \u001b[0;36m<listcomp>\u001b[1;34m(.0)\u001b[0m\n\u001b[0;32m     11\u001b[0m     \u001b[1;32mfor\u001b[0m \u001b[0mm\u001b[0m \u001b[1;32min\u001b[0m \u001b[0mmethods\u001b[0m\u001b[1;33m\u001b[0m\u001b[1;33m\u001b[0m\u001b[0m\n\u001b[0;32m     12\u001b[0m     \u001b[1;32mfor\u001b[0m \u001b[0mmax_time\u001b[0m \u001b[1;32min\u001b[0m \u001b[0mmax_times\u001b[0m\u001b[1;33m\u001b[0m\u001b[1;33m\u001b[0m\u001b[0m\n\u001b[1;32m---> 13\u001b[1;33m     \u001b[1;32mfor\u001b[0m \u001b[0msplit_number\u001b[0m \u001b[1;32min\u001b[0m \u001b[1;33m[\u001b[0m\u001b[1;36m1\u001b[0m\u001b[1;33m,\u001b[0m \u001b[1;36m2\u001b[0m\u001b[1;33m,\u001b[0m \u001b[1;36m3\u001b[0m\u001b[1;33m,\u001b[0m \u001b[1;36m4\u001b[0m\u001b[1;33m,\u001b[0m \u001b[1;36m5\u001b[0m\u001b[1;33m]\u001b[0m\u001b[1;33m\u001b[0m\u001b[1;33m\u001b[0m\u001b[0m\n\u001b[0m\u001b[0;32m     14\u001b[0m ]\n",
      "\u001b[1;32m~\\AppData\\Local\\Temp\\ipykernel_14456\\551782496.py\u001b[0m in \u001b[0;36meval_method\u001b[1;34m(task_type, method, dids, selector, eval_positions, max_time, metric_used, split_number, append_metric, fetch_only, verbose)\u001b[0m\n\u001b[0;32m     29\u001b[0m                           \u001b[1;33m,\u001b[0m \u001b[0msplit_number\u001b[0m\u001b[1;33m=\u001b[0m\u001b[0msplit_number\u001b[0m\u001b[1;33m\u001b[0m\u001b[1;33m\u001b[0m\u001b[0m\n\u001b[0;32m     30\u001b[0m                           \u001b[1;33m,\u001b[0m \u001b[0mverbose\u001b[0m\u001b[1;33m=\u001b[0m\u001b[0mverbose\u001b[0m\u001b[1;33m\u001b[0m\u001b[1;33m\u001b[0m\u001b[0m\n\u001b[1;32m---> 31\u001b[1;33m                           , max_time=max_time)\n\u001b[0m\u001b[0;32m     32\u001b[0m \u001b[1;33m\u001b[0m\u001b[0m\n\u001b[0;32m     33\u001b[0m     \u001b[1;32mreturn\u001b[0m \u001b[0mresult\u001b[0m\u001b[1;33m\u001b[0m\u001b[1;33m\u001b[0m\u001b[0m\n",
      "\u001b[1;32m~\\uni\\su_se_23\\dl_lab\\MSGPFN\\tabpfn\\scripts\\tabular_evaluation.py\u001b[0m in \u001b[0;36mevaluate\u001b[1;34m(datasets, bptt, eval_positions, metric_used, model, device, verbose, return_tensor, **kwargs)\u001b[0m\n\u001b[0;32m    123\u001b[0m                         \u001b[1;33m,\u001b[0m \u001b[0mmetric_used\u001b[0m \u001b[1;33m=\u001b[0m \u001b[0mmetric_used\u001b[0m\u001b[1;33m\u001b[0m\u001b[1;33m\u001b[0m\u001b[0m\n\u001b[0;32m    124\u001b[0m                                   \u001b[1;33m,\u001b[0m \u001b[0mdevice\u001b[0m\u001b[1;33m=\u001b[0m\u001b[0mdevice\u001b[0m\u001b[1;33m\u001b[0m\u001b[1;33m\u001b[0m\u001b[0m\n\u001b[1;32m--> 125\u001b[1;33m                         ,**kwargs)\n\u001b[0m\u001b[0;32m    126\u001b[0m \u001b[1;33m\u001b[0m\u001b[0m\n\u001b[0;32m    127\u001b[0m             \u001b[1;32mif\u001b[0m \u001b[0mr\u001b[0m \u001b[1;32mis\u001b[0m \u001b[1;32mNone\u001b[0m\u001b[1;33m:\u001b[0m\u001b[1;33m\u001b[0m\u001b[1;33m\u001b[0m\u001b[0m\n",
      "\u001b[1;32m~\\uni\\su_se_23\\dl_lab\\MSGPFN\\tabpfn\\scripts\\tabular_evaluation.py\u001b[0m in \u001b[0;36mevaluate_position\u001b[1;34m(X, y, categorical_feats, model, bptt, eval_position, overwrite, save, base_path, path_interfix, method, ds_name, fetch_only, max_time, split_number, metric_used, device, per_step_normalization, **kwargs)\u001b[0m\n\u001b[0;32m    293\u001b[0m                                                     \u001b[1;33m,\u001b[0m \u001b[0meval_pos\u001b[0m\u001b[1;33m=\u001b[0m\u001b[0meval_position\u001b[0m\u001b[1;33m\u001b[0m\u001b[1;33m\u001b[0m\u001b[0m\n\u001b[0;32m    294\u001b[0m                                                     \u001b[1;33m,\u001b[0m \u001b[0mdevice\u001b[0m\u001b[1;33m=\u001b[0m\u001b[0mdevice\u001b[0m\u001b[1;33m\u001b[0m\u001b[1;33m\u001b[0m\u001b[0m\n\u001b[1;32m--> 295\u001b[1;33m                                                     , max_time=max_time, metric_used=metric_used, **kwargs)\n\u001b[0m\u001b[0;32m    296\u001b[0m     \u001b[0meval_ys\u001b[0m \u001b[1;33m=\u001b[0m \u001b[0meval_ys\u001b[0m\u001b[1;33m[\u001b[0m\u001b[0meval_position\u001b[0m\u001b[1;33m:\u001b[0m\u001b[1;33m]\u001b[0m\u001b[1;33m\u001b[0m\u001b[1;33m\u001b[0m\u001b[0m\n\u001b[0;32m    297\u001b[0m     \u001b[1;32mif\u001b[0m \u001b[0moutputs\u001b[0m \u001b[1;32mis\u001b[0m \u001b[1;32mNone\u001b[0m\u001b[1;33m:\u001b[0m\u001b[1;33m\u001b[0m\u001b[1;33m\u001b[0m\u001b[0m\n",
      "\u001b[1;32m~\\uni\\su_se_23\\dl_lab\\MSGPFN\\tabpfn\\scripts\\baseline_prediction_interface.py\u001b[0m in \u001b[0;36mbaseline_predict\u001b[1;34m(metric_function, eval_xs, eval_ys, categorical_feats, metric_used, eval_pos, max_time, **kwargs)\u001b[0m\n\u001b[0;32m     28\u001b[0m                                                           \u001b[0mcategorical_feats\u001b[0m\u001b[1;33m,\u001b[0m\u001b[1;33m\u001b[0m\u001b[1;33m\u001b[0m\u001b[0m\n\u001b[0;32m     29\u001b[0m                                                           \u001b[0mmetric_used\u001b[0m\u001b[1;33m=\u001b[0m\u001b[0mmetric_used\u001b[0m\u001b[1;33m\u001b[0m\u001b[1;33m\u001b[0m\u001b[0m\n\u001b[1;32m---> 30\u001b[1;33m                                                           , max_time=max_time)\n\u001b[0m\u001b[0;32m     31\u001b[0m             \u001b[0mmetrics\u001b[0m \u001b[1;33m+=\u001b[0m \u001b[1;33m[\u001b[0m\u001b[0mmetric\u001b[0m\u001b[1;33m]\u001b[0m\u001b[1;33m\u001b[0m\u001b[1;33m\u001b[0m\u001b[0m\n\u001b[0;32m     32\u001b[0m             \u001b[0moutputs\u001b[0m \u001b[1;33m+=\u001b[0m \u001b[1;33m[\u001b[0m\u001b[0moutput\u001b[0m\u001b[1;33m]\u001b[0m\u001b[1;33m\u001b[0m\u001b[1;33m\u001b[0m\u001b[0m\n",
      "\u001b[1;32m~\\uni\\su_se_23\\dl_lab\\MSGPFN\\tabpfn\\scripts\\tabular_baselines.py\u001b[0m in \u001b[0;36mlogistic_metric\u001b[1;34m(x, y, test_x, test_y, cat_features, metric_used, max_time, no_tune)\u001b[0m\n\u001b[0;32m   1063\u001b[0m         \u001b[1;32mreturn\u001b[0m \u001b[0mLogisticRegression\u001b[0m\u001b[1;33m(\u001b[0m\u001b[0msolver\u001b[0m\u001b[1;33m=\u001b[0m\u001b[1;34m'saga'\u001b[0m\u001b[1;33m,\u001b[0m \u001b[0mtol\u001b[0m\u001b[1;33m=\u001b[0m\u001b[1;36m1e-4\u001b[0m\u001b[1;33m,\u001b[0m \u001b[0mn_jobs\u001b[0m\u001b[1;33m=\u001b[0m\u001b[0mMULTITHREAD\u001b[0m\u001b[1;33m,\u001b[0m \u001b[1;33m**\u001b[0m\u001b[0mparams\u001b[0m\u001b[1;33m)\u001b[0m\u001b[1;33m\u001b[0m\u001b[1;33m\u001b[0m\u001b[0m\n\u001b[0;32m   1064\u001b[0m \u001b[1;33m\u001b[0m\u001b[0m\n\u001b[1;32m-> 1065\u001b[1;33m     \u001b[1;32mreturn\u001b[0m \u001b[0meval_complete_f\u001b[0m\u001b[1;33m(\u001b[0m\u001b[0mx\u001b[0m\u001b[1;33m,\u001b[0m \u001b[0my\u001b[0m\u001b[1;33m,\u001b[0m \u001b[0mtest_x\u001b[0m\u001b[1;33m,\u001b[0m \u001b[0mtest_y\u001b[0m\u001b[1;33m,\u001b[0m \u001b[1;34m'logistic'\u001b[0m\u001b[1;33m,\u001b[0m \u001b[0mclf_\u001b[0m\u001b[1;33m,\u001b[0m \u001b[0mmetric_used\u001b[0m\u001b[1;33m,\u001b[0m \u001b[0mmax_time\u001b[0m\u001b[1;33m,\u001b[0m \u001b[0mno_tune\u001b[0m\u001b[1;33m)\u001b[0m\u001b[1;33m\u001b[0m\u001b[1;33m\u001b[0m\u001b[0m\n\u001b[0m\u001b[0;32m   1066\u001b[0m \u001b[1;33m\u001b[0m\u001b[0m\n\u001b[0;32m   1067\u001b[0m \u001b[1;33m\u001b[0m\u001b[0m\n",
      "\u001b[1;32m~\\uni\\su_se_23\\dl_lab\\MSGPFN\\tabpfn\\scripts\\tabular_baselines.py\u001b[0m in \u001b[0;36meval_complete_f\u001b[1;34m(x, y, test_x, test_y, key, clf_, metric_used, max_time, no_tune)\u001b[0m\n\u001b[0;32m    179\u001b[0m           \u001b[0mverbose\u001b[0m\u001b[1;33m=\u001b[0m\u001b[1;32mTrue\u001b[0m\u001b[1;33m,\u001b[0m\u001b[1;33m\u001b[0m\u001b[1;33m\u001b[0m\u001b[0m\n\u001b[0;32m    180\u001b[0m           \u001b[1;31m# The seed is deterministic but varies for each dataset and each split of it\u001b[0m\u001b[1;33m\u001b[0m\u001b[1;33m\u001b[0m\u001b[1;33m\u001b[0m\u001b[0m\n\u001b[1;32m--> 181\u001b[1;33m           max_evals=1000)\n\u001b[0m\u001b[0;32m    182\u001b[0m       \u001b[0mbest_score\u001b[0m \u001b[1;33m=\u001b[0m \u001b[0mnp\u001b[0m\u001b[1;33m.\u001b[0m\u001b[0mmin\u001b[0m\u001b[1;33m(\u001b[0m\u001b[1;33m[\u001b[0m\u001b[0mt\u001b[0m\u001b[1;33m[\u001b[0m\u001b[1;34m'result'\u001b[0m\u001b[1;33m]\u001b[0m\u001b[1;33m[\u001b[0m\u001b[1;34m'loss'\u001b[0m\u001b[1;33m]\u001b[0m \u001b[1;32mfor\u001b[0m \u001b[0mt\u001b[0m \u001b[1;32min\u001b[0m \u001b[0mtrials\u001b[0m\u001b[1;33m.\u001b[0m\u001b[0mtrials\u001b[0m\u001b[1;33m]\u001b[0m\u001b[1;33m)\u001b[0m\u001b[1;33m\u001b[0m\u001b[1;33m\u001b[0m\u001b[0m\n\u001b[0;32m    183\u001b[0m       \u001b[1;32mif\u001b[0m \u001b[0mbest_score\u001b[0m \u001b[1;33m<\u001b[0m \u001b[0mdefault\u001b[0m\u001b[1;33m:\u001b[0m\u001b[1;33m\u001b[0m\u001b[1;33m\u001b[0m\u001b[0m\n",
      "\u001b[1;32m~\\miniconda3\\envs\\lab_env\\lib\\site-packages\\hyperopt\\fmin.py\u001b[0m in \u001b[0;36mfmin\u001b[1;34m(fn, space, algo, max_evals, timeout, loss_threshold, trials, rstate, allow_trials_fmin, pass_expr_memo_ctrl, catch_eval_exceptions, verbose, return_argmin, points_to_evaluate, max_queue_len, show_progressbar, early_stop_fn, trials_save_file)\u001b[0m\n\u001b[0;32m    520\u001b[0m             \u001b[0mshow_progressbar\u001b[0m\u001b[1;33m=\u001b[0m\u001b[0mshow_progressbar\u001b[0m\u001b[1;33m,\u001b[0m\u001b[1;33m\u001b[0m\u001b[1;33m\u001b[0m\u001b[0m\n\u001b[0;32m    521\u001b[0m             \u001b[0mearly_stop_fn\u001b[0m\u001b[1;33m=\u001b[0m\u001b[0mearly_stop_fn\u001b[0m\u001b[1;33m,\u001b[0m\u001b[1;33m\u001b[0m\u001b[1;33m\u001b[0m\u001b[0m\n\u001b[1;32m--> 522\u001b[1;33m             \u001b[0mtrials_save_file\u001b[0m\u001b[1;33m=\u001b[0m\u001b[0mtrials_save_file\u001b[0m\u001b[1;33m,\u001b[0m\u001b[1;33m\u001b[0m\u001b[1;33m\u001b[0m\u001b[0m\n\u001b[0m\u001b[0;32m    523\u001b[0m         )\n\u001b[0;32m    524\u001b[0m \u001b[1;33m\u001b[0m\u001b[0m\n",
      "\u001b[1;32m~\\miniconda3\\envs\\lab_env\\lib\\site-packages\\hyperopt\\base.py\u001b[0m in \u001b[0;36mfmin\u001b[1;34m(self, fn, space, algo, max_evals, timeout, loss_threshold, max_queue_len, rstate, verbose, pass_expr_memo_ctrl, catch_eval_exceptions, return_argmin, show_progressbar, early_stop_fn, trials_save_file)\u001b[0m\n\u001b[0;32m    697\u001b[0m             \u001b[0mshow_progressbar\u001b[0m\u001b[1;33m=\u001b[0m\u001b[0mshow_progressbar\u001b[0m\u001b[1;33m,\u001b[0m\u001b[1;33m\u001b[0m\u001b[1;33m\u001b[0m\u001b[0m\n\u001b[0;32m    698\u001b[0m             \u001b[0mearly_stop_fn\u001b[0m\u001b[1;33m=\u001b[0m\u001b[0mearly_stop_fn\u001b[0m\u001b[1;33m,\u001b[0m\u001b[1;33m\u001b[0m\u001b[1;33m\u001b[0m\u001b[0m\n\u001b[1;32m--> 699\u001b[1;33m             \u001b[0mtrials_save_file\u001b[0m\u001b[1;33m=\u001b[0m\u001b[0mtrials_save_file\u001b[0m\u001b[1;33m,\u001b[0m\u001b[1;33m\u001b[0m\u001b[1;33m\u001b[0m\u001b[0m\n\u001b[0m\u001b[0;32m    700\u001b[0m         )\n\u001b[0;32m    701\u001b[0m \u001b[1;33m\u001b[0m\u001b[0m\n",
      "\u001b[1;32m~\\miniconda3\\envs\\lab_env\\lib\\site-packages\\hyperopt\\fmin.py\u001b[0m in \u001b[0;36mfmin\u001b[1;34m(fn, space, algo, max_evals, timeout, loss_threshold, trials, rstate, allow_trials_fmin, pass_expr_memo_ctrl, catch_eval_exceptions, verbose, return_argmin, points_to_evaluate, max_queue_len, show_progressbar, early_stop_fn, trials_save_file)\u001b[0m\n\u001b[0;32m    551\u001b[0m \u001b[1;33m\u001b[0m\u001b[0m\n\u001b[0;32m    552\u001b[0m     \u001b[1;31m# next line is where the fmin is actually executed\u001b[0m\u001b[1;33m\u001b[0m\u001b[1;33m\u001b[0m\u001b[1;33m\u001b[0m\u001b[0m\n\u001b[1;32m--> 553\u001b[1;33m     \u001b[0mrval\u001b[0m\u001b[1;33m.\u001b[0m\u001b[0mexhaust\u001b[0m\u001b[1;33m(\u001b[0m\u001b[1;33m)\u001b[0m\u001b[1;33m\u001b[0m\u001b[1;33m\u001b[0m\u001b[0m\n\u001b[0m\u001b[0;32m    554\u001b[0m \u001b[1;33m\u001b[0m\u001b[0m\n\u001b[0;32m    555\u001b[0m     \u001b[1;32mif\u001b[0m \u001b[0mreturn_argmin\u001b[0m\u001b[1;33m:\u001b[0m\u001b[1;33m\u001b[0m\u001b[1;33m\u001b[0m\u001b[0m\n",
      "\u001b[1;32m~\\miniconda3\\envs\\lab_env\\lib\\site-packages\\hyperopt\\fmin.py\u001b[0m in \u001b[0;36mexhaust\u001b[1;34m(self)\u001b[0m\n\u001b[0;32m    354\u001b[0m     \u001b[1;32mdef\u001b[0m \u001b[0mexhaust\u001b[0m\u001b[1;33m(\u001b[0m\u001b[0mself\u001b[0m\u001b[1;33m)\u001b[0m\u001b[1;33m:\u001b[0m\u001b[1;33m\u001b[0m\u001b[1;33m\u001b[0m\u001b[0m\n\u001b[0;32m    355\u001b[0m         \u001b[0mn_done\u001b[0m \u001b[1;33m=\u001b[0m \u001b[0mlen\u001b[0m\u001b[1;33m(\u001b[0m\u001b[0mself\u001b[0m\u001b[1;33m.\u001b[0m\u001b[0mtrials\u001b[0m\u001b[1;33m)\u001b[0m\u001b[1;33m\u001b[0m\u001b[1;33m\u001b[0m\u001b[0m\n\u001b[1;32m--> 356\u001b[1;33m         \u001b[0mself\u001b[0m\u001b[1;33m.\u001b[0m\u001b[0mrun\u001b[0m\u001b[1;33m(\u001b[0m\u001b[0mself\u001b[0m\u001b[1;33m.\u001b[0m\u001b[0mmax_evals\u001b[0m \u001b[1;33m-\u001b[0m \u001b[0mn_done\u001b[0m\u001b[1;33m,\u001b[0m \u001b[0mblock_until_done\u001b[0m\u001b[1;33m=\u001b[0m\u001b[0mself\u001b[0m\u001b[1;33m.\u001b[0m\u001b[0masynchronous\u001b[0m\u001b[1;33m)\u001b[0m\u001b[1;33m\u001b[0m\u001b[1;33m\u001b[0m\u001b[0m\n\u001b[0m\u001b[0;32m    357\u001b[0m         \u001b[0mself\u001b[0m\u001b[1;33m.\u001b[0m\u001b[0mtrials\u001b[0m\u001b[1;33m.\u001b[0m\u001b[0mrefresh\u001b[0m\u001b[1;33m(\u001b[0m\u001b[1;33m)\u001b[0m\u001b[1;33m\u001b[0m\u001b[1;33m\u001b[0m\u001b[0m\n\u001b[0;32m    358\u001b[0m         \u001b[1;32mreturn\u001b[0m \u001b[0mself\u001b[0m\u001b[1;33m\u001b[0m\u001b[1;33m\u001b[0m\u001b[0m\n",
      "\u001b[1;32m~\\miniconda3\\envs\\lab_env\\lib\\site-packages\\hyperopt\\fmin.py\u001b[0m in \u001b[0;36mrun\u001b[1;34m(self, N, block_until_done)\u001b[0m\n\u001b[0;32m    290\u001b[0m                 \u001b[1;32melse\u001b[0m\u001b[1;33m:\u001b[0m\u001b[1;33m\u001b[0m\u001b[1;33m\u001b[0m\u001b[0m\n\u001b[0;32m    291\u001b[0m                     \u001b[1;31m# -- loop over trials and do the jobs directly\u001b[0m\u001b[1;33m\u001b[0m\u001b[1;33m\u001b[0m\u001b[1;33m\u001b[0m\u001b[0m\n\u001b[1;32m--> 292\u001b[1;33m                     \u001b[0mself\u001b[0m\u001b[1;33m.\u001b[0m\u001b[0mserial_evaluate\u001b[0m\u001b[1;33m(\u001b[0m\u001b[1;33m)\u001b[0m\u001b[1;33m\u001b[0m\u001b[1;33m\u001b[0m\u001b[0m\n\u001b[0m\u001b[0;32m    293\u001b[0m \u001b[1;33m\u001b[0m\u001b[0m\n\u001b[0;32m    294\u001b[0m                 \u001b[0mself\u001b[0m\u001b[1;33m.\u001b[0m\u001b[0mtrials\u001b[0m\u001b[1;33m.\u001b[0m\u001b[0mrefresh\u001b[0m\u001b[1;33m(\u001b[0m\u001b[1;33m)\u001b[0m\u001b[1;33m\u001b[0m\u001b[1;33m\u001b[0m\u001b[0m\n",
      "\u001b[1;32m~\\miniconda3\\envs\\lab_env\\lib\\site-packages\\hyperopt\\fmin.py\u001b[0m in \u001b[0;36mserial_evaluate\u001b[1;34m(self, N)\u001b[0m\n\u001b[0;32m    168\u001b[0m                 \u001b[0mctrl\u001b[0m \u001b[1;33m=\u001b[0m \u001b[0mbase\u001b[0m\u001b[1;33m.\u001b[0m\u001b[0mCtrl\u001b[0m\u001b[1;33m(\u001b[0m\u001b[0mself\u001b[0m\u001b[1;33m.\u001b[0m\u001b[0mtrials\u001b[0m\u001b[1;33m,\u001b[0m \u001b[0mcurrent_trial\u001b[0m\u001b[1;33m=\u001b[0m\u001b[0mtrial\u001b[0m\u001b[1;33m)\u001b[0m\u001b[1;33m\u001b[0m\u001b[1;33m\u001b[0m\u001b[0m\n\u001b[0;32m    169\u001b[0m                 \u001b[1;32mtry\u001b[0m\u001b[1;33m:\u001b[0m\u001b[1;33m\u001b[0m\u001b[1;33m\u001b[0m\u001b[0m\n\u001b[1;32m--> 170\u001b[1;33m                     \u001b[0mresult\u001b[0m \u001b[1;33m=\u001b[0m \u001b[0mself\u001b[0m\u001b[1;33m.\u001b[0m\u001b[0mdomain\u001b[0m\u001b[1;33m.\u001b[0m\u001b[0mevaluate\u001b[0m\u001b[1;33m(\u001b[0m\u001b[0mspec\u001b[0m\u001b[1;33m,\u001b[0m \u001b[0mctrl\u001b[0m\u001b[1;33m)\u001b[0m\u001b[1;33m\u001b[0m\u001b[1;33m\u001b[0m\u001b[0m\n\u001b[0m\u001b[0;32m    171\u001b[0m                 \u001b[1;32mexcept\u001b[0m \u001b[0mException\u001b[0m \u001b[1;32mas\u001b[0m \u001b[0me\u001b[0m\u001b[1;33m:\u001b[0m\u001b[1;33m\u001b[0m\u001b[1;33m\u001b[0m\u001b[0m\n\u001b[0;32m    172\u001b[0m                     \u001b[0mlogger\u001b[0m\u001b[1;33m.\u001b[0m\u001b[0merror\u001b[0m\u001b[1;33m(\u001b[0m\u001b[1;34m\"job exception: %s\"\u001b[0m \u001b[1;33m%\u001b[0m \u001b[0mstr\u001b[0m\u001b[1;33m(\u001b[0m\u001b[0me\u001b[0m\u001b[1;33m)\u001b[0m\u001b[1;33m)\u001b[0m\u001b[1;33m\u001b[0m\u001b[1;33m\u001b[0m\u001b[0m\n",
      "\u001b[1;32m~\\miniconda3\\envs\\lab_env\\lib\\site-packages\\hyperopt\\base.py\u001b[0m in \u001b[0;36mevaluate\u001b[1;34m(self, config, ctrl, attach_attachments)\u001b[0m\n\u001b[0;32m    905\u001b[0m                 \u001b[0mprint_node_on_error\u001b[0m\u001b[1;33m=\u001b[0m\u001b[0mself\u001b[0m\u001b[1;33m.\u001b[0m\u001b[0mrec_eval_print_node_on_error\u001b[0m\u001b[1;33m,\u001b[0m\u001b[1;33m\u001b[0m\u001b[1;33m\u001b[0m\u001b[0m\n\u001b[0;32m    906\u001b[0m             )\n\u001b[1;32m--> 907\u001b[1;33m             \u001b[0mrval\u001b[0m \u001b[1;33m=\u001b[0m \u001b[0mself\u001b[0m\u001b[1;33m.\u001b[0m\u001b[0mfn\u001b[0m\u001b[1;33m(\u001b[0m\u001b[0mpyll_rval\u001b[0m\u001b[1;33m)\u001b[0m\u001b[1;33m\u001b[0m\u001b[1;33m\u001b[0m\u001b[0m\n\u001b[0m\u001b[0;32m    908\u001b[0m \u001b[1;33m\u001b[0m\u001b[0m\n\u001b[0;32m    909\u001b[0m         \u001b[1;32mif\u001b[0m \u001b[0misinstance\u001b[0m\u001b[1;33m(\u001b[0m\u001b[0mrval\u001b[0m\u001b[1;33m,\u001b[0m \u001b[1;33m(\u001b[0m\u001b[0mfloat\u001b[0m\u001b[1;33m,\u001b[0m \u001b[0mint\u001b[0m\u001b[1;33m,\u001b[0m \u001b[0mnp\u001b[0m\u001b[1;33m.\u001b[0m\u001b[0mnumber\u001b[0m\u001b[1;33m)\u001b[0m\u001b[1;33m)\u001b[0m\u001b[1;33m:\u001b[0m\u001b[1;33m\u001b[0m\u001b[1;33m\u001b[0m\u001b[0m\n",
      "\u001b[1;32m~\\uni\\su_se_23\\dl_lab\\MSGPFN\\tabpfn\\scripts\\tabular_baselines.py\u001b[0m in \u001b[0;36m<lambda>\u001b[1;34m(params)\u001b[0m\n\u001b[0;32m    170\u001b[0m       \u001b[0mtrials\u001b[0m \u001b[1;33m=\u001b[0m \u001b[0mTrials\u001b[0m\u001b[1;33m(\u001b[0m\u001b[1;33m)\u001b[0m\u001b[1;33m\u001b[0m\u001b[1;33m\u001b[0m\u001b[0m\n\u001b[0;32m    171\u001b[0m       best = fmin(\n\u001b[1;32m--> 172\u001b[1;33m           \u001b[0mfn\u001b[0m\u001b[1;33m=\u001b[0m\u001b[1;32mlambda\u001b[0m \u001b[0mparams\u001b[0m\u001b[1;33m:\u001b[0m \u001b[0meval_f\u001b[0m\u001b[1;33m(\u001b[0m\u001b[0mparams\u001b[0m\u001b[1;33m,\u001b[0m \u001b[0mclf_\u001b[0m\u001b[1;33m,\u001b[0m \u001b[0mx\u001b[0m\u001b[1;33m,\u001b[0m \u001b[0my\u001b[0m\u001b[1;33m,\u001b[0m \u001b[0mmetric_used\u001b[0m\u001b[1;33m)\u001b[0m\u001b[1;33m,\u001b[0m\u001b[1;33m\u001b[0m\u001b[1;33m\u001b[0m\u001b[0m\n\u001b[0m\u001b[0;32m    173\u001b[0m           \u001b[0mspace\u001b[0m\u001b[1;33m=\u001b[0m\u001b[0mparam_grid_hyperopt\u001b[0m\u001b[1;33m[\u001b[0m\u001b[0mkey\u001b[0m\u001b[1;33m]\u001b[0m\u001b[1;33m,\u001b[0m\u001b[1;33m\u001b[0m\u001b[1;33m\u001b[0m\u001b[0m\n\u001b[0;32m    174\u001b[0m           \u001b[0malgo\u001b[0m\u001b[1;33m=\u001b[0m\u001b[0mrand\u001b[0m\u001b[1;33m.\u001b[0m\u001b[0msuggest\u001b[0m\u001b[1;33m,\u001b[0m\u001b[1;33m\u001b[0m\u001b[1;33m\u001b[0m\u001b[0m\n",
      "\u001b[1;32m~\\uni\\su_se_23\\dl_lab\\MSGPFN\\tabpfn\\scripts\\tabular_baselines.py\u001b[0m in \u001b[0;36meval_f\u001b[1;34m(params, clf_, x, y, metric_used)\u001b[0m\n\u001b[0;32m    155\u001b[0m \u001b[1;33m\u001b[0m\u001b[0m\n\u001b[0;32m    156\u001b[0m \u001b[1;32mdef\u001b[0m \u001b[0meval_f\u001b[0m\u001b[1;33m(\u001b[0m\u001b[0mparams\u001b[0m\u001b[1;33m,\u001b[0m \u001b[0mclf_\u001b[0m\u001b[1;33m,\u001b[0m \u001b[0mx\u001b[0m\u001b[1;33m,\u001b[0m \u001b[0my\u001b[0m\u001b[1;33m,\u001b[0m \u001b[0mmetric_used\u001b[0m\u001b[1;33m)\u001b[0m\u001b[1;33m:\u001b[0m\u001b[1;33m\u001b[0m\u001b[1;33m\u001b[0m\u001b[0m\n\u001b[1;32m--> 157\u001b[1;33m     \u001b[0mscores\u001b[0m \u001b[1;33m=\u001b[0m \u001b[0mcross_val_score\u001b[0m\u001b[1;33m(\u001b[0m\u001b[0mclf_\u001b[0m\u001b[1;33m(\u001b[0m\u001b[1;33m**\u001b[0m\u001b[0mparams\u001b[0m\u001b[1;33m)\u001b[0m\u001b[1;33m,\u001b[0m \u001b[0mx\u001b[0m\u001b[1;33m,\u001b[0m \u001b[0my\u001b[0m\u001b[1;33m,\u001b[0m \u001b[0mcv\u001b[0m\u001b[1;33m=\u001b[0m\u001b[0mCV\u001b[0m\u001b[1;33m,\u001b[0m \u001b[0mscoring\u001b[0m\u001b[1;33m=\u001b[0m\u001b[0mget_scoring_string\u001b[0m\u001b[1;33m(\u001b[0m\u001b[0mmetric_used\u001b[0m\u001b[1;33m,\u001b[0m \u001b[0musage\u001b[0m\u001b[1;33m=\u001b[0m\u001b[1;34m'sklearn_cv'\u001b[0m\u001b[1;33m)\u001b[0m\u001b[1;33m)\u001b[0m\u001b[1;33m\u001b[0m\u001b[1;33m\u001b[0m\u001b[0m\n\u001b[0m\u001b[0;32m    158\u001b[0m     \u001b[1;32mif\u001b[0m \u001b[0mget_scoring_string\u001b[0m\u001b[1;33m(\u001b[0m\u001b[0mmetric_used\u001b[0m\u001b[1;33m,\u001b[0m \u001b[0musage\u001b[0m\u001b[1;33m=\u001b[0m\u001b[1;34m'sklearn_cv'\u001b[0m\u001b[1;33m)\u001b[0m \u001b[1;33m==\u001b[0m \u001b[1;34m'r2'\u001b[0m \u001b[1;32mor\u001b[0m \u001b[0mget_scoring_string\u001b[0m\u001b[1;33m(\u001b[0m\u001b[0mmetric_used\u001b[0m\u001b[1;33m,\u001b[0m \u001b[0musage\u001b[0m\u001b[1;33m=\u001b[0m\u001b[1;34m'sklearn_cv'\u001b[0m\u001b[1;33m)\u001b[0m \u001b[1;33m==\u001b[0m \u001b[1;34m'neg_log_loss'\u001b[0m\u001b[1;33m:\u001b[0m\u001b[1;33m\u001b[0m\u001b[1;33m\u001b[0m\u001b[0m\n\u001b[0;32m    159\u001b[0m         \u001b[1;32mreturn\u001b[0m \u001b[0mnp\u001b[0m\u001b[1;33m.\u001b[0m\u001b[0mnanmean\u001b[0m\u001b[1;33m(\u001b[0m\u001b[0mscores\u001b[0m\u001b[1;33m)\u001b[0m\u001b[1;33m\u001b[0m\u001b[1;33m\u001b[0m\u001b[0m\n",
      "\u001b[1;32m~\\miniconda3\\envs\\lab_env\\lib\\site-packages\\sklearn\\utils\\validation.py\u001b[0m in \u001b[0;36minner_f\u001b[1;34m(*args, **kwargs)\u001b[0m\n\u001b[0;32m     61\u001b[0m             \u001b[0mextra_args\u001b[0m \u001b[1;33m=\u001b[0m \u001b[0mlen\u001b[0m\u001b[1;33m(\u001b[0m\u001b[0margs\u001b[0m\u001b[1;33m)\u001b[0m \u001b[1;33m-\u001b[0m \u001b[0mlen\u001b[0m\u001b[1;33m(\u001b[0m\u001b[0mall_args\u001b[0m\u001b[1;33m)\u001b[0m\u001b[1;33m\u001b[0m\u001b[1;33m\u001b[0m\u001b[0m\n\u001b[0;32m     62\u001b[0m             \u001b[1;32mif\u001b[0m \u001b[0mextra_args\u001b[0m \u001b[1;33m<=\u001b[0m \u001b[1;36m0\u001b[0m\u001b[1;33m:\u001b[0m\u001b[1;33m\u001b[0m\u001b[1;33m\u001b[0m\u001b[0m\n\u001b[1;32m---> 63\u001b[1;33m                 \u001b[1;32mreturn\u001b[0m \u001b[0mf\u001b[0m\u001b[1;33m(\u001b[0m\u001b[1;33m*\u001b[0m\u001b[0margs\u001b[0m\u001b[1;33m,\u001b[0m \u001b[1;33m**\u001b[0m\u001b[0mkwargs\u001b[0m\u001b[1;33m)\u001b[0m\u001b[1;33m\u001b[0m\u001b[1;33m\u001b[0m\u001b[0m\n\u001b[0m\u001b[0;32m     64\u001b[0m \u001b[1;33m\u001b[0m\u001b[0m\n\u001b[0;32m     65\u001b[0m             \u001b[1;31m# extra_args > 0\u001b[0m\u001b[1;33m\u001b[0m\u001b[1;33m\u001b[0m\u001b[1;33m\u001b[0m\u001b[0m\n",
      "\u001b[1;32m~\\miniconda3\\envs\\lab_env\\lib\\site-packages\\sklearn\\model_selection\\_validation.py\u001b[0m in \u001b[0;36mcross_val_score\u001b[1;34m(estimator, X, y, groups, scoring, cv, n_jobs, verbose, fit_params, pre_dispatch, error_score)\u001b[0m\n\u001b[0;32m    448\u001b[0m                                 \u001b[0mfit_params\u001b[0m\u001b[1;33m=\u001b[0m\u001b[0mfit_params\u001b[0m\u001b[1;33m,\u001b[0m\u001b[1;33m\u001b[0m\u001b[1;33m\u001b[0m\u001b[0m\n\u001b[0;32m    449\u001b[0m                                 \u001b[0mpre_dispatch\u001b[0m\u001b[1;33m=\u001b[0m\u001b[0mpre_dispatch\u001b[0m\u001b[1;33m,\u001b[0m\u001b[1;33m\u001b[0m\u001b[1;33m\u001b[0m\u001b[0m\n\u001b[1;32m--> 450\u001b[1;33m                                 error_score=error_score)\n\u001b[0m\u001b[0;32m    451\u001b[0m     \u001b[1;32mreturn\u001b[0m \u001b[0mcv_results\u001b[0m\u001b[1;33m[\u001b[0m\u001b[1;34m'test_score'\u001b[0m\u001b[1;33m]\u001b[0m\u001b[1;33m\u001b[0m\u001b[1;33m\u001b[0m\u001b[0m\n\u001b[0;32m    452\u001b[0m \u001b[1;33m\u001b[0m\u001b[0m\n",
      "\u001b[1;32m~\\miniconda3\\envs\\lab_env\\lib\\site-packages\\sklearn\\utils\\validation.py\u001b[0m in \u001b[0;36minner_f\u001b[1;34m(*args, **kwargs)\u001b[0m\n\u001b[0;32m     61\u001b[0m             \u001b[0mextra_args\u001b[0m \u001b[1;33m=\u001b[0m \u001b[0mlen\u001b[0m\u001b[1;33m(\u001b[0m\u001b[0margs\u001b[0m\u001b[1;33m)\u001b[0m \u001b[1;33m-\u001b[0m \u001b[0mlen\u001b[0m\u001b[1;33m(\u001b[0m\u001b[0mall_args\u001b[0m\u001b[1;33m)\u001b[0m\u001b[1;33m\u001b[0m\u001b[1;33m\u001b[0m\u001b[0m\n\u001b[0;32m     62\u001b[0m             \u001b[1;32mif\u001b[0m \u001b[0mextra_args\u001b[0m \u001b[1;33m<=\u001b[0m \u001b[1;36m0\u001b[0m\u001b[1;33m:\u001b[0m\u001b[1;33m\u001b[0m\u001b[1;33m\u001b[0m\u001b[0m\n\u001b[1;32m---> 63\u001b[1;33m                 \u001b[1;32mreturn\u001b[0m \u001b[0mf\u001b[0m\u001b[1;33m(\u001b[0m\u001b[1;33m*\u001b[0m\u001b[0margs\u001b[0m\u001b[1;33m,\u001b[0m \u001b[1;33m**\u001b[0m\u001b[0mkwargs\u001b[0m\u001b[1;33m)\u001b[0m\u001b[1;33m\u001b[0m\u001b[1;33m\u001b[0m\u001b[0m\n\u001b[0m\u001b[0;32m     64\u001b[0m \u001b[1;33m\u001b[0m\u001b[0m\n\u001b[0;32m     65\u001b[0m             \u001b[1;31m# extra_args > 0\u001b[0m\u001b[1;33m\u001b[0m\u001b[1;33m\u001b[0m\u001b[1;33m\u001b[0m\u001b[0m\n",
      "\u001b[1;32m~\\miniconda3\\envs\\lab_env\\lib\\site-packages\\sklearn\\model_selection\\_validation.py\u001b[0m in \u001b[0;36mcross_validate\u001b[1;34m(estimator, X, y, groups, scoring, cv, n_jobs, verbose, fit_params, pre_dispatch, return_train_score, return_estimator, error_score)\u001b[0m\n\u001b[0;32m    254\u001b[0m             \u001b[0mreturn_times\u001b[0m\u001b[1;33m=\u001b[0m\u001b[1;32mTrue\u001b[0m\u001b[1;33m,\u001b[0m \u001b[0mreturn_estimator\u001b[0m\u001b[1;33m=\u001b[0m\u001b[0mreturn_estimator\u001b[0m\u001b[1;33m,\u001b[0m\u001b[1;33m\u001b[0m\u001b[1;33m\u001b[0m\u001b[0m\n\u001b[0;32m    255\u001b[0m             error_score=error_score)\n\u001b[1;32m--> 256\u001b[1;33m         for train, test in cv.split(X, y, groups))\n\u001b[0m\u001b[0;32m    257\u001b[0m \u001b[1;33m\u001b[0m\u001b[0m\n\u001b[0;32m    258\u001b[0m     \u001b[1;31m# For callabe scoring, the return type is only know after calling. If the\u001b[0m\u001b[1;33m\u001b[0m\u001b[1;33m\u001b[0m\u001b[1;33m\u001b[0m\u001b[0m\n",
      "\u001b[1;32m~\\miniconda3\\envs\\lab_env\\lib\\site-packages\\joblib\\parallel.py\u001b[0m in \u001b[0;36m__call__\u001b[1;34m(self, iterable)\u001b[0m\n\u001b[0;32m   1853\u001b[0m             \u001b[0moutput\u001b[0m \u001b[1;33m=\u001b[0m \u001b[0mself\u001b[0m\u001b[1;33m.\u001b[0m\u001b[0m_get_sequential_output\u001b[0m\u001b[1;33m(\u001b[0m\u001b[0miterable\u001b[0m\u001b[1;33m)\u001b[0m\u001b[1;33m\u001b[0m\u001b[1;33m\u001b[0m\u001b[0m\n\u001b[0;32m   1854\u001b[0m             \u001b[0mnext\u001b[0m\u001b[1;33m(\u001b[0m\u001b[0moutput\u001b[0m\u001b[1;33m)\u001b[0m\u001b[1;33m\u001b[0m\u001b[1;33m\u001b[0m\u001b[0m\n\u001b[1;32m-> 1855\u001b[1;33m             \u001b[1;32mreturn\u001b[0m \u001b[0moutput\u001b[0m \u001b[1;32mif\u001b[0m \u001b[0mself\u001b[0m\u001b[1;33m.\u001b[0m\u001b[0mreturn_generator\u001b[0m \u001b[1;32melse\u001b[0m \u001b[0mlist\u001b[0m\u001b[1;33m(\u001b[0m\u001b[0moutput\u001b[0m\u001b[1;33m)\u001b[0m\u001b[1;33m\u001b[0m\u001b[1;33m\u001b[0m\u001b[0m\n\u001b[0m\u001b[0;32m   1856\u001b[0m \u001b[1;33m\u001b[0m\u001b[0m\n\u001b[0;32m   1857\u001b[0m         \u001b[1;31m# Let's create an ID that uniquely identifies the current call. If the\u001b[0m\u001b[1;33m\u001b[0m\u001b[1;33m\u001b[0m\u001b[1;33m\u001b[0m\u001b[0m\n",
      "\u001b[1;32m~\\miniconda3\\envs\\lab_env\\lib\\site-packages\\joblib\\parallel.py\u001b[0m in \u001b[0;36m_get_sequential_output\u001b[1;34m(self, iterable)\u001b[0m\n\u001b[0;32m   1782\u001b[0m                 \u001b[0mself\u001b[0m\u001b[1;33m.\u001b[0m\u001b[0mn_dispatched_batches\u001b[0m \u001b[1;33m+=\u001b[0m \u001b[1;36m1\u001b[0m\u001b[1;33m\u001b[0m\u001b[1;33m\u001b[0m\u001b[0m\n\u001b[0;32m   1783\u001b[0m                 \u001b[0mself\u001b[0m\u001b[1;33m.\u001b[0m\u001b[0mn_dispatched_tasks\u001b[0m \u001b[1;33m+=\u001b[0m \u001b[1;36m1\u001b[0m\u001b[1;33m\u001b[0m\u001b[1;33m\u001b[0m\u001b[0m\n\u001b[1;32m-> 1784\u001b[1;33m                 \u001b[0mres\u001b[0m \u001b[1;33m=\u001b[0m \u001b[0mfunc\u001b[0m\u001b[1;33m(\u001b[0m\u001b[1;33m*\u001b[0m\u001b[0margs\u001b[0m\u001b[1;33m,\u001b[0m \u001b[1;33m**\u001b[0m\u001b[0mkwargs\u001b[0m\u001b[1;33m)\u001b[0m\u001b[1;33m\u001b[0m\u001b[1;33m\u001b[0m\u001b[0m\n\u001b[0m\u001b[0;32m   1785\u001b[0m                 \u001b[0mself\u001b[0m\u001b[1;33m.\u001b[0m\u001b[0mn_completed_tasks\u001b[0m \u001b[1;33m+=\u001b[0m \u001b[1;36m1\u001b[0m\u001b[1;33m\u001b[0m\u001b[1;33m\u001b[0m\u001b[0m\n\u001b[0;32m   1786\u001b[0m                 \u001b[0mself\u001b[0m\u001b[1;33m.\u001b[0m\u001b[0mprint_progress\u001b[0m\u001b[1;33m(\u001b[0m\u001b[1;33m)\u001b[0m\u001b[1;33m\u001b[0m\u001b[1;33m\u001b[0m\u001b[0m\n",
      "\u001b[1;32m~\\miniconda3\\envs\\lab_env\\lib\\site-packages\\sklearn\\utils\\fixes.py\u001b[0m in \u001b[0;36m__call__\u001b[1;34m(self, *args, **kwargs)\u001b[0m\n\u001b[0;32m    220\u001b[0m     \u001b[1;32mdef\u001b[0m \u001b[0m__call__\u001b[0m\u001b[1;33m(\u001b[0m\u001b[0mself\u001b[0m\u001b[1;33m,\u001b[0m \u001b[1;33m*\u001b[0m\u001b[0margs\u001b[0m\u001b[1;33m,\u001b[0m \u001b[1;33m**\u001b[0m\u001b[0mkwargs\u001b[0m\u001b[1;33m)\u001b[0m\u001b[1;33m:\u001b[0m\u001b[1;33m\u001b[0m\u001b[1;33m\u001b[0m\u001b[0m\n\u001b[0;32m    221\u001b[0m         \u001b[1;32mwith\u001b[0m \u001b[0mconfig_context\u001b[0m\u001b[1;33m(\u001b[0m\u001b[1;33m**\u001b[0m\u001b[0mself\u001b[0m\u001b[1;33m.\u001b[0m\u001b[0mconfig\u001b[0m\u001b[1;33m)\u001b[0m\u001b[1;33m:\u001b[0m\u001b[1;33m\u001b[0m\u001b[1;33m\u001b[0m\u001b[0m\n\u001b[1;32m--> 222\u001b[1;33m             \u001b[1;32mreturn\u001b[0m \u001b[0mself\u001b[0m\u001b[1;33m.\u001b[0m\u001b[0mfunction\u001b[0m\u001b[1;33m(\u001b[0m\u001b[1;33m*\u001b[0m\u001b[0margs\u001b[0m\u001b[1;33m,\u001b[0m \u001b[1;33m**\u001b[0m\u001b[0mkwargs\u001b[0m\u001b[1;33m)\u001b[0m\u001b[1;33m\u001b[0m\u001b[1;33m\u001b[0m\u001b[0m\n\u001b[0m",
      "\u001b[1;32m~\\miniconda3\\envs\\lab_env\\lib\\site-packages\\sklearn\\model_selection\\_validation.py\u001b[0m in \u001b[0;36m_fit_and_score\u001b[1;34m(estimator, X, y, scorer, train, test, verbose, parameters, fit_params, return_train_score, return_parameters, return_n_test_samples, return_times, return_estimator, split_progress, candidate_progress, error_score)\u001b[0m\n\u001b[0;32m    596\u001b[0m             \u001b[0mestimator\u001b[0m\u001b[1;33m.\u001b[0m\u001b[0mfit\u001b[0m\u001b[1;33m(\u001b[0m\u001b[0mX_train\u001b[0m\u001b[1;33m,\u001b[0m \u001b[1;33m**\u001b[0m\u001b[0mfit_params\u001b[0m\u001b[1;33m)\u001b[0m\u001b[1;33m\u001b[0m\u001b[1;33m\u001b[0m\u001b[0m\n\u001b[0;32m    597\u001b[0m         \u001b[1;32melse\u001b[0m\u001b[1;33m:\u001b[0m\u001b[1;33m\u001b[0m\u001b[1;33m\u001b[0m\u001b[0m\n\u001b[1;32m--> 598\u001b[1;33m             \u001b[0mestimator\u001b[0m\u001b[1;33m.\u001b[0m\u001b[0mfit\u001b[0m\u001b[1;33m(\u001b[0m\u001b[0mX_train\u001b[0m\u001b[1;33m,\u001b[0m \u001b[0my_train\u001b[0m\u001b[1;33m,\u001b[0m \u001b[1;33m**\u001b[0m\u001b[0mfit_params\u001b[0m\u001b[1;33m)\u001b[0m\u001b[1;33m\u001b[0m\u001b[1;33m\u001b[0m\u001b[0m\n\u001b[0m\u001b[0;32m    599\u001b[0m \u001b[1;33m\u001b[0m\u001b[0m\n\u001b[0;32m    600\u001b[0m     \u001b[1;32mexcept\u001b[0m \u001b[0mException\u001b[0m \u001b[1;32mas\u001b[0m \u001b[0me\u001b[0m\u001b[1;33m:\u001b[0m\u001b[1;33m\u001b[0m\u001b[1;33m\u001b[0m\u001b[0m\n",
      "\u001b[1;32m~\\miniconda3\\envs\\lab_env\\lib\\site-packages\\sklearn\\linear_model\\_logistic.py\u001b[0m in \u001b[0;36mfit\u001b[1;34m(self, X, y, sample_weight)\u001b[0m\n\u001b[0;32m   1414\u001b[0m                       \u001b[0mpenalty\u001b[0m\u001b[1;33m=\u001b[0m\u001b[0mpenalty\u001b[0m\u001b[1;33m,\u001b[0m \u001b[0mmax_squared_sum\u001b[0m\u001b[1;33m=\u001b[0m\u001b[0mmax_squared_sum\u001b[0m\u001b[1;33m,\u001b[0m\u001b[1;33m\u001b[0m\u001b[1;33m\u001b[0m\u001b[0m\n\u001b[0;32m   1415\u001b[0m                       sample_weight=sample_weight)\n\u001b[1;32m-> 1416\u001b[1;33m             for class_, warm_start_coef_ in zip(classes_, warm_start_coef))\n\u001b[0m\u001b[0;32m   1417\u001b[0m \u001b[1;33m\u001b[0m\u001b[0m\n\u001b[0;32m   1418\u001b[0m         \u001b[0mfold_coefs_\u001b[0m\u001b[1;33m,\u001b[0m \u001b[0m_\u001b[0m\u001b[1;33m,\u001b[0m \u001b[0mn_iter_\u001b[0m \u001b[1;33m=\u001b[0m \u001b[0mzip\u001b[0m\u001b[1;33m(\u001b[0m\u001b[1;33m*\u001b[0m\u001b[0mfold_coefs_\u001b[0m\u001b[1;33m)\u001b[0m\u001b[1;33m\u001b[0m\u001b[1;33m\u001b[0m\u001b[0m\n",
      "\u001b[1;32m~\\miniconda3\\envs\\lab_env\\lib\\site-packages\\joblib\\parallel.py\u001b[0m in \u001b[0;36m__call__\u001b[1;34m(self, iterable)\u001b[0m\n\u001b[0;32m   1942\u001b[0m         \u001b[0mnext\u001b[0m\u001b[1;33m(\u001b[0m\u001b[0moutput\u001b[0m\u001b[1;33m)\u001b[0m\u001b[1;33m\u001b[0m\u001b[1;33m\u001b[0m\u001b[0m\n\u001b[0;32m   1943\u001b[0m \u001b[1;33m\u001b[0m\u001b[0m\n\u001b[1;32m-> 1944\u001b[1;33m         \u001b[1;32mreturn\u001b[0m \u001b[0moutput\u001b[0m \u001b[1;32mif\u001b[0m \u001b[0mself\u001b[0m\u001b[1;33m.\u001b[0m\u001b[0mreturn_generator\u001b[0m \u001b[1;32melse\u001b[0m \u001b[0mlist\u001b[0m\u001b[1;33m(\u001b[0m\u001b[0moutput\u001b[0m\u001b[1;33m)\u001b[0m\u001b[1;33m\u001b[0m\u001b[1;33m\u001b[0m\u001b[0m\n\u001b[0m\u001b[0;32m   1945\u001b[0m \u001b[1;33m\u001b[0m\u001b[0m\n\u001b[0;32m   1946\u001b[0m     \u001b[1;32mdef\u001b[0m \u001b[0m__repr__\u001b[0m\u001b[1;33m(\u001b[0m\u001b[0mself\u001b[0m\u001b[1;33m)\u001b[0m\u001b[1;33m:\u001b[0m\u001b[1;33m\u001b[0m\u001b[1;33m\u001b[0m\u001b[0m\n",
      "\u001b[1;32m~\\miniconda3\\envs\\lab_env\\lib\\site-packages\\joblib\\parallel.py\u001b[0m in \u001b[0;36m_get_outputs\u001b[1;34m(self, iterator, pre_dispatch)\u001b[0m\n\u001b[0;32m   1646\u001b[0m             \u001b[0mself\u001b[0m\u001b[1;33m.\u001b[0m\u001b[0m_running\u001b[0m \u001b[1;33m=\u001b[0m \u001b[1;32mFalse\u001b[0m\u001b[1;33m\u001b[0m\u001b[1;33m\u001b[0m\u001b[0m\n\u001b[0;32m   1647\u001b[0m             \u001b[1;32mif\u001b[0m \u001b[1;32mnot\u001b[0m \u001b[0mdetach_generator_exit\u001b[0m\u001b[1;33m:\u001b[0m\u001b[1;33m\u001b[0m\u001b[1;33m\u001b[0m\u001b[0m\n\u001b[1;32m-> 1648\u001b[1;33m                 \u001b[0mself\u001b[0m\u001b[1;33m.\u001b[0m\u001b[0m_terminate_and_reset\u001b[0m\u001b[1;33m(\u001b[0m\u001b[1;33m)\u001b[0m\u001b[1;33m\u001b[0m\u001b[1;33m\u001b[0m\u001b[0m\n\u001b[0m\u001b[0;32m   1649\u001b[0m \u001b[1;33m\u001b[0m\u001b[0m\n\u001b[0;32m   1650\u001b[0m         \u001b[1;32mwhile\u001b[0m \u001b[0mlen\u001b[0m\u001b[1;33m(\u001b[0m\u001b[0m_remaining_outputs\u001b[0m\u001b[1;33m)\u001b[0m \u001b[1;33m>\u001b[0m \u001b[1;36m0\u001b[0m\u001b[1;33m:\u001b[0m\u001b[1;33m\u001b[0m\u001b[1;33m\u001b[0m\u001b[0m\n",
      "\u001b[1;32m~\\miniconda3\\envs\\lab_env\\lib\\site-packages\\joblib\\parallel.py\u001b[0m in \u001b[0;36m_terminate_and_reset\u001b[1;34m(self)\u001b[0m\n\u001b[0;32m   1349\u001b[0m         \u001b[0mself\u001b[0m\u001b[1;33m.\u001b[0m\u001b[0m_calling\u001b[0m \u001b[1;33m=\u001b[0m \u001b[1;32mFalse\u001b[0m\u001b[1;33m\u001b[0m\u001b[1;33m\u001b[0m\u001b[0m\n\u001b[0;32m   1350\u001b[0m         \u001b[1;32mif\u001b[0m \u001b[1;32mnot\u001b[0m \u001b[0mself\u001b[0m\u001b[1;33m.\u001b[0m\u001b[0m_managed_backend\u001b[0m\u001b[1;33m:\u001b[0m\u001b[1;33m\u001b[0m\u001b[1;33m\u001b[0m\u001b[0m\n\u001b[1;32m-> 1351\u001b[1;33m             \u001b[0mself\u001b[0m\u001b[1;33m.\u001b[0m\u001b[0m_backend\u001b[0m\u001b[1;33m.\u001b[0m\u001b[0mterminate\u001b[0m\u001b[1;33m(\u001b[0m\u001b[1;33m)\u001b[0m\u001b[1;33m\u001b[0m\u001b[1;33m\u001b[0m\u001b[0m\n\u001b[0m\u001b[0;32m   1352\u001b[0m \u001b[1;33m\u001b[0m\u001b[0m\n\u001b[0;32m   1353\u001b[0m     \u001b[1;32mdef\u001b[0m \u001b[0m_dispatch\u001b[0m\u001b[1;33m(\u001b[0m\u001b[0mself\u001b[0m\u001b[1;33m,\u001b[0m \u001b[0mbatch\u001b[0m\u001b[1;33m)\u001b[0m\u001b[1;33m:\u001b[0m\u001b[1;33m\u001b[0m\u001b[1;33m\u001b[0m\u001b[0m\n",
      "\u001b[1;32m~\\miniconda3\\envs\\lab_env\\lib\\site-packages\\joblib\\_parallel_backends.py\u001b[0m in \u001b[0;36mterminate\u001b[1;34m(self)\u001b[0m\n\u001b[0;32m    260\u001b[0m         \u001b[1;32mif\u001b[0m \u001b[0mself\u001b[0m\u001b[1;33m.\u001b[0m\u001b[0m_pool\u001b[0m \u001b[1;32mis\u001b[0m \u001b[1;32mnot\u001b[0m \u001b[1;32mNone\u001b[0m\u001b[1;33m:\u001b[0m\u001b[1;33m\u001b[0m\u001b[1;33m\u001b[0m\u001b[0m\n\u001b[0;32m    261\u001b[0m             \u001b[0mself\u001b[0m\u001b[1;33m.\u001b[0m\u001b[0m_pool\u001b[0m\u001b[1;33m.\u001b[0m\u001b[0mclose\u001b[0m\u001b[1;33m(\u001b[0m\u001b[1;33m)\u001b[0m\u001b[1;33m\u001b[0m\u001b[1;33m\u001b[0m\u001b[0m\n\u001b[1;32m--> 262\u001b[1;33m             \u001b[0mself\u001b[0m\u001b[1;33m.\u001b[0m\u001b[0m_pool\u001b[0m\u001b[1;33m.\u001b[0m\u001b[0mterminate\u001b[0m\u001b[1;33m(\u001b[0m\u001b[1;33m)\u001b[0m  \u001b[1;31m# terminate does a join()\u001b[0m\u001b[1;33m\u001b[0m\u001b[1;33m\u001b[0m\u001b[0m\n\u001b[0m\u001b[0;32m    263\u001b[0m             \u001b[0mself\u001b[0m\u001b[1;33m.\u001b[0m\u001b[0m_pool\u001b[0m \u001b[1;33m=\u001b[0m \u001b[1;32mNone\u001b[0m\u001b[1;33m\u001b[0m\u001b[1;33m\u001b[0m\u001b[0m\n\u001b[0;32m    264\u001b[0m \u001b[1;33m\u001b[0m\u001b[0m\n",
      "\u001b[1;32m~\\miniconda3\\envs\\lab_env\\lib\\multiprocessing\\pool.py\u001b[0m in \u001b[0;36mterminate\u001b[1;34m(self)\u001b[0m\n\u001b[0;32m    546\u001b[0m         \u001b[0mself\u001b[0m\u001b[1;33m.\u001b[0m\u001b[0m_state\u001b[0m \u001b[1;33m=\u001b[0m \u001b[0mTERMINATE\u001b[0m\u001b[1;33m\u001b[0m\u001b[1;33m\u001b[0m\u001b[0m\n\u001b[0;32m    547\u001b[0m         \u001b[0mself\u001b[0m\u001b[1;33m.\u001b[0m\u001b[0m_worker_handler\u001b[0m\u001b[1;33m.\u001b[0m\u001b[0m_state\u001b[0m \u001b[1;33m=\u001b[0m \u001b[0mTERMINATE\u001b[0m\u001b[1;33m\u001b[0m\u001b[1;33m\u001b[0m\u001b[0m\n\u001b[1;32m--> 548\u001b[1;33m         \u001b[0mself\u001b[0m\u001b[1;33m.\u001b[0m\u001b[0m_terminate\u001b[0m\u001b[1;33m(\u001b[0m\u001b[1;33m)\u001b[0m\u001b[1;33m\u001b[0m\u001b[1;33m\u001b[0m\u001b[0m\n\u001b[0m\u001b[0;32m    549\u001b[0m \u001b[1;33m\u001b[0m\u001b[0m\n\u001b[0;32m    550\u001b[0m     \u001b[1;32mdef\u001b[0m \u001b[0mjoin\u001b[0m\u001b[1;33m(\u001b[0m\u001b[0mself\u001b[0m\u001b[1;33m)\u001b[0m\u001b[1;33m:\u001b[0m\u001b[1;33m\u001b[0m\u001b[1;33m\u001b[0m\u001b[0m\n",
      "\u001b[1;32m~\\miniconda3\\envs\\lab_env\\lib\\multiprocessing\\util.py\u001b[0m in \u001b[0;36m__call__\u001b[1;34m(self, wr, _finalizer_registry, sub_debug, getpid)\u001b[0m\n\u001b[0;32m    222\u001b[0m                 sub_debug('finalizer calling %s with args %s and kwargs %s',\n\u001b[0;32m    223\u001b[0m                           self._callback, self._args, self._kwargs)\n\u001b[1;32m--> 224\u001b[1;33m                 \u001b[0mres\u001b[0m \u001b[1;33m=\u001b[0m \u001b[0mself\u001b[0m\u001b[1;33m.\u001b[0m\u001b[0m_callback\u001b[0m\u001b[1;33m(\u001b[0m\u001b[1;33m*\u001b[0m\u001b[0mself\u001b[0m\u001b[1;33m.\u001b[0m\u001b[0m_args\u001b[0m\u001b[1;33m,\u001b[0m \u001b[1;33m**\u001b[0m\u001b[0mself\u001b[0m\u001b[1;33m.\u001b[0m\u001b[0m_kwargs\u001b[0m\u001b[1;33m)\u001b[0m\u001b[1;33m\u001b[0m\u001b[1;33m\u001b[0m\u001b[0m\n\u001b[0m\u001b[0;32m    225\u001b[0m             \u001b[0mself\u001b[0m\u001b[1;33m.\u001b[0m\u001b[0m_weakref\u001b[0m \u001b[1;33m=\u001b[0m \u001b[0mself\u001b[0m\u001b[1;33m.\u001b[0m\u001b[0m_callback\u001b[0m \u001b[1;33m=\u001b[0m \u001b[0mself\u001b[0m\u001b[1;33m.\u001b[0m\u001b[0m_args\u001b[0m \u001b[1;33m=\u001b[0m\u001b[0;31m \u001b[0m\u001b[0;31m\\\u001b[0m\u001b[1;33m\u001b[0m\u001b[1;33m\u001b[0m\u001b[0m\n\u001b[0;32m    226\u001b[0m                             \u001b[0mself\u001b[0m\u001b[1;33m.\u001b[0m\u001b[0m_kwargs\u001b[0m \u001b[1;33m=\u001b[0m \u001b[0mself\u001b[0m\u001b[1;33m.\u001b[0m\u001b[0m_key\u001b[0m \u001b[1;33m=\u001b[0m \u001b[1;32mNone\u001b[0m\u001b[1;33m\u001b[0m\u001b[1;33m\u001b[0m\u001b[0m\n",
      "\u001b[1;32m~\\miniconda3\\envs\\lab_env\\lib\\multiprocessing\\pool.py\u001b[0m in \u001b[0;36m_terminate_pool\u001b[1;34m(cls, taskqueue, inqueue, outqueue, pool, worker_handler, task_handler, result_handler, cache)\u001b[0m\n\u001b[0;32m    592\u001b[0m         \u001b[0mutil\u001b[0m\u001b[1;33m.\u001b[0m\u001b[0mdebug\u001b[0m\u001b[1;33m(\u001b[0m\u001b[1;34m'joining worker handler'\u001b[0m\u001b[1;33m)\u001b[0m\u001b[1;33m\u001b[0m\u001b[1;33m\u001b[0m\u001b[0m\n\u001b[0;32m    593\u001b[0m         \u001b[1;32mif\u001b[0m \u001b[0mthreading\u001b[0m\u001b[1;33m.\u001b[0m\u001b[0mcurrent_thread\u001b[0m\u001b[1;33m(\u001b[0m\u001b[1;33m)\u001b[0m \u001b[1;32mis\u001b[0m \u001b[1;32mnot\u001b[0m \u001b[0mworker_handler\u001b[0m\u001b[1;33m:\u001b[0m\u001b[1;33m\u001b[0m\u001b[1;33m\u001b[0m\u001b[0m\n\u001b[1;32m--> 594\u001b[1;33m             \u001b[0mworker_handler\u001b[0m\u001b[1;33m.\u001b[0m\u001b[0mjoin\u001b[0m\u001b[1;33m(\u001b[0m\u001b[1;33m)\u001b[0m\u001b[1;33m\u001b[0m\u001b[1;33m\u001b[0m\u001b[0m\n\u001b[0m\u001b[0;32m    595\u001b[0m \u001b[1;33m\u001b[0m\u001b[0m\n\u001b[0;32m    596\u001b[0m         \u001b[1;31m# Terminate workers which haven't already finished.\u001b[0m\u001b[1;33m\u001b[0m\u001b[1;33m\u001b[0m\u001b[1;33m\u001b[0m\u001b[0m\n",
      "\u001b[1;32m~\\miniconda3\\envs\\lab_env\\lib\\threading.py\u001b[0m in \u001b[0;36mjoin\u001b[1;34m(self, timeout)\u001b[0m\n\u001b[0;32m   1042\u001b[0m \u001b[1;33m\u001b[0m\u001b[0m\n\u001b[0;32m   1043\u001b[0m         \u001b[1;32mif\u001b[0m \u001b[0mtimeout\u001b[0m \u001b[1;32mis\u001b[0m \u001b[1;32mNone\u001b[0m\u001b[1;33m:\u001b[0m\u001b[1;33m\u001b[0m\u001b[1;33m\u001b[0m\u001b[0m\n\u001b[1;32m-> 1044\u001b[1;33m             \u001b[0mself\u001b[0m\u001b[1;33m.\u001b[0m\u001b[0m_wait_for_tstate_lock\u001b[0m\u001b[1;33m(\u001b[0m\u001b[1;33m)\u001b[0m\u001b[1;33m\u001b[0m\u001b[1;33m\u001b[0m\u001b[0m\n\u001b[0m\u001b[0;32m   1045\u001b[0m         \u001b[1;32melse\u001b[0m\u001b[1;33m:\u001b[0m\u001b[1;33m\u001b[0m\u001b[1;33m\u001b[0m\u001b[0m\n\u001b[0;32m   1046\u001b[0m             \u001b[1;31m# the behavior of a negative timeout isn't documented, but\u001b[0m\u001b[1;33m\u001b[0m\u001b[1;33m\u001b[0m\u001b[1;33m\u001b[0m\u001b[0m\n",
      "\u001b[1;32m~\\miniconda3\\envs\\lab_env\\lib\\threading.py\u001b[0m in \u001b[0;36m_wait_for_tstate_lock\u001b[1;34m(self, block, timeout)\u001b[0m\n\u001b[0;32m   1058\u001b[0m         \u001b[1;32mif\u001b[0m \u001b[0mlock\u001b[0m \u001b[1;32mis\u001b[0m \u001b[1;32mNone\u001b[0m\u001b[1;33m:\u001b[0m  \u001b[1;31m# already determined that the C code is done\u001b[0m\u001b[1;33m\u001b[0m\u001b[1;33m\u001b[0m\u001b[0m\n\u001b[0;32m   1059\u001b[0m             \u001b[1;32massert\u001b[0m \u001b[0mself\u001b[0m\u001b[1;33m.\u001b[0m\u001b[0m_is_stopped\u001b[0m\u001b[1;33m\u001b[0m\u001b[1;33m\u001b[0m\u001b[0m\n\u001b[1;32m-> 1060\u001b[1;33m         \u001b[1;32melif\u001b[0m \u001b[0mlock\u001b[0m\u001b[1;33m.\u001b[0m\u001b[0macquire\u001b[0m\u001b[1;33m(\u001b[0m\u001b[0mblock\u001b[0m\u001b[1;33m,\u001b[0m \u001b[0mtimeout\u001b[0m\u001b[1;33m)\u001b[0m\u001b[1;33m:\u001b[0m\u001b[1;33m\u001b[0m\u001b[1;33m\u001b[0m\u001b[0m\n\u001b[0m\u001b[0;32m   1061\u001b[0m             \u001b[0mlock\u001b[0m\u001b[1;33m.\u001b[0m\u001b[0mrelease\u001b[0m\u001b[1;33m(\u001b[0m\u001b[1;33m)\u001b[0m\u001b[1;33m\u001b[0m\u001b[1;33m\u001b[0m\u001b[0m\n\u001b[0;32m   1062\u001b[0m             \u001b[0mself\u001b[0m\u001b[1;33m.\u001b[0m\u001b[0m_stop\u001b[0m\u001b[1;33m(\u001b[0m\u001b[1;33m)\u001b[0m\u001b[1;33m\u001b[0m\u001b[1;33m\u001b[0m\u001b[0m\n",
      "\u001b[1;31mKeyboardInterrupt\u001b[0m: "
     ]
    }
   ],
   "source": [
    "# RUN ALL METHODS, SPLITS AND DATASETS\n",
    "test_datasets = get_datasets('test',task_type, suite=suite)\n",
    "\n",
    "test_datasets = test_datasets[:10]\n",
    "\n",
    "overwrite=True\n",
    "jobs = [\n",
    "    eval_method(task_type, m, did, selector, eval_positions, max_time, metric_used, split_number)\n",
    "    for did in range(0, len(test_datasets))\n",
    "    for selector in ['test']\n",
    "    for m in methods\n",
    "    for max_time in max_times\n",
    "    for split_number in [1, 2, 3, 4, 5]\n",
    "]"
   ]
  },
  {
   "cell_type": "markdown",
   "metadata": {
    "tags": []
   },
   "source": [
    "# Comparison"
   ]
  },
  {
   "cell_type": "code",
   "execution_count": null,
   "metadata": {
    "tags": []
   },
   "outputs": [],
   "source": [
    "pos = str(eval_positions[0])\n",
    "\n",
    "global_results = {}\n",
    "overwrite=False\n",
    "\n",
    "for method in baseline_methods:\n",
    "    for max_time in max_times:\n",
    "        for split_number in range(1,5+1):\n",
    "            global_results[method+'_time_'+str(max_time)+tabular_baselines.get_scoring_string(metric_used, usage='')+'_split_'+str(split_number)] = eval_method(task_type, method,  None, selector, \n",
    "                                                                                                                                    eval_positions, fetch_only=True, \n",
    "                                                                                                                                    verbose=False, max_time=max_time,\n",
    "                                                                                                                                    metric_used=metric_used, split_number=split_number)"
   ]
  },
  {
   "cell_type": "code",
   "execution_count": null,
   "metadata": {},
   "outputs": [],
   "source": [
    "path_ = 'prior_tuning_result.pkl'\n",
    "\n",
    "try:\n",
    "    output = open(path_, 'rb')\n",
    "    _, metrics, _, _, _, _ = CustomUnpickler(output).load()\n",
    "except:\n",
    "    output = open(path_, 'rb')\n",
    "    _, metrics, _, _, _ = CustomUnpickler(output).load()\n",
    "if isinstance(metrics, list):\n",
    "    for i in range(1, len(metrics[1])+1):\n",
    "        global_results['transformer_split_'+str(i)] = metrics[2][i-1]"
   ]
  },
  {
   "cell_type": "code",
   "execution_count": null,
   "metadata": {},
   "outputs": [],
   "source": [
    "# Verify integrity of results\n",
    "for bl in set(global_results.keys()):\n",
    "    if 'split_1' in bl:\n",
    "        for ds in test_datasets:\n",
    "            if f'{ds[0]}_ys_at_1000' not in global_results[bl]:\n",
    "                continue\n",
    "            match = (global_results[bl][f'{ds[0]}_ys_at_1000'] == global_results['transformer_split_1'][f'{ds[0]}_ys_at_1000']).float().mean()\n",
    "            if not match:\n",
    "                raise Exception(\"Not the same labels used\")\n",
    "            "
   ]
  },
  {
   "cell_type": "code",
   "execution_count": null,
   "metadata": {
    "tags": []
   },
   "outputs": [],
   "source": [
    "limit_to = ''\n",
    "calculate_score(tabular_metrics.auc_metric, 'roc', global_results, test_datasets, eval_positions + [-1], limit_to=limit_to)\n",
    "calculate_score(tabular_metrics.cross_entropy, 'cross_entropy', global_results, test_datasets, eval_positions + [-1], limit_to=limit_to)\n",
    "calculate_score(tabular_metrics.accuracy_metric, 'acc', global_results, test_datasets, eval_positions + [-1])\n",
    "calculate_score(tabular_metrics.time_metric, 'time', global_results, test_datasets, eval_positions + [-1], aggregator='sum', limit_to=limit_to)\n",
    "calculate_score(tabular_metrics.time_metric, 'time', global_results, test_datasets, eval_positions + [-1], aggregator='mean', limit_to=limit_to)\n",
    "calculate_score(tabular_metrics.count_metric, 'count', global_results, test_datasets, eval_positions + [-1], aggregator='sum', limit_to=limit_to)"
   ]
  },
  {
   "cell_type": "markdown",
   "metadata": {
    "tags": []
   },
   "source": [
    "#### ROC and AUC plots from TabPFN Paper"
   ]
  },
  {
   "cell_type": "code",
   "execution_count": null,
   "metadata": {},
   "outputs": [],
   "source": [
    "def generate_ranks_and_wins_table(global_results_filtered, metric_key, max_time, split_number, time_matrix):\n",
    "    global_results_filtered_split = {**global_results_filtered}\n",
    "    global_results_filtered_split = {k: global_results_filtered_split[k] for k in global_results_filtered_split.keys() if '_time_'+str(max_time)+tabular_baselines.get_scoring_string(metric_used, usage='')+'_split_'+str(split_number) in k or 'transformer_split_'+str(split_number) in k}\n",
    "\n",
    "    matrix, matrix_stds = make_metric_matrix(global_results_filtered_split, methods, pos, metric_key, test_datasets)\n",
    "    for method in methods:\n",
    "        if time_matrix[method] > max_time * 2:\n",
    "            matrix[method] = np.nan\n",
    "        # = np.nan\n",
    "\n",
    "    if metric_key == 'cross_entropy':\n",
    "        matrix = -(matrix.fillna(-100))\n",
    "    else:\n",
    "        matrix = matrix.fillna(-1)\n",
    "    return make_ranks_and_wins_table(matrix.copy())"
   ]
  },
  {
   "cell_type": "code",
   "execution_count": null,
   "metadata": {
    "tags": []
   },
   "outputs": [],
   "source": [
    "%matplotlib inline\n",
    "\n",
    "df_ = []\n",
    "metric_keys = ['roc', 'cross_entropy', 'time']\n",
    "\n",
    "for max_time in max_times:\n",
    "    global_results_filtered = {**global_results}\n",
    "    global_results_filtered = {k: global_results_filtered[k] for k in global_results_filtered.keys() if '_time_'+str(max_time)+tabular_baselines.get_scoring_string(metric_used, usage='')+'_' in k or 'transformer' in k}\n",
    "    \n",
    "    time_matrix, _ = make_metric_matrix(global_results_filtered, methods, pos, 'time', test_datasets)\n",
    "    time_matrix = time_matrix.mean()\n",
    "    \n",
    "    if len(global_results_filtered) == 0:\n",
    "        continue\n",
    "        \n",
    "    # Calculate ranks and wins per split\n",
    "    for metric_key in metric_keys:\n",
    "        for split_number in range(1,6):\n",
    "            ranks, wins = generate_ranks_and_wins_table(global_results_filtered, metric_key, max_time, split_number, time_matrix)\n",
    "\n",
    "            for method in methods:\n",
    "                method_ = method+'_time_'+str(max_time)+tabular_baselines.get_scoring_string(metric_used, usage='') if method != 'transformer' else method\n",
    "                global_results[method_+'_split_'+str(split_number)]['mean_rank_'+metric_key+f'_at_{pos}'] = ranks[method]\n",
    "                global_results[method_+'_split_'+str(split_number)]['mean_wins_'+metric_key+f'_at_{pos}'] = wins[method]\n",
    "    \n",
    "    #for method in global_results.keys():\n",
    "    #    global_results[method]['mean_rank_'+metric_key+f'_at_{pos}'] = ranks[]\n",
    "    \n",
    "    avg_times = {}\n",
    "    for method_ in methods:\n",
    "        avg_times[method_] = []\n",
    "        for split_number in range(1,6):\n",
    "            if method_ != 'transformer':\n",
    "                method = method_+'_time_'+str(max_time)+tabular_baselines.get_scoring_string(metric_used, usage='')+'_split_'+str(split_number)\n",
    "            else:\n",
    "                method = method_+'_split_'+str(split_number)\n",
    "            avg_times[method_] += [global_results[method][f'mean_time_at_{pos}']]\n",
    "    avg_times = pd.DataFrame(avg_times).mean()\n",
    "    \n",
    "    for metric_key in metric_keys:\n",
    "        for ranking in ['', 'rank_', 'wins_']:\n",
    "            for method_ in methods:\n",
    "                for split_number in range(1,6):\n",
    "                    method = method_\n",
    "                    if method_ != 'transformer':\n",
    "                        method = method_+'_time_'+str(max_time)+tabular_baselines.get_scoring_string(metric_used, usage='')+'_split_'+str(split_number)\n",
    "                    else:\n",
    "                        method = method_+'_split_'+str(split_number)\n",
    "\n",
    "                    if global_results[method][f'sum_count_at_{pos}'] <= 29:\n",
    "                        print('Warning not all datasets generated for '+method+' '+ str(global_results[method][f'sum_count_at_{pos}']))\n",
    "                        \n",
    "                    time = global_results[method]['mean_time'] if ranking == '' else max_time\n",
    "                    time = max_time # Todo: This is not the real time\n",
    "                    df_ += [{'metric'+ranking+metric_key: global_results[method]['mean_'+ranking+metric_key+f'_at_{pos}'], 'real_time': avg_times[method_], 'time': time, 'method': method_, 'split_number': split_number}]\n",
    "                    # For Roc AUC Plots\n",
    "                    #if 'transformer' in method:\n",
    "                    #    df_ += [{'metric'+ranking+metric_key: global_results[method]['mean_'+ranking+metric_key+f'_at_{pos}'], 'real_time': avg_times[method_], 'time': time, 'method': method_, 'split_number': split_number}]\n",
    "                    #    df_ += [{'metric'+ranking+metric_key: global_results[method]['mean_'+ranking+metric_key+f'_at_{pos}'], 'real_time': max(avg_times), 'time': max(max_times), 'method': method_, 'split_number': split_number}]\n",
    "                            \n",
    "            \n",
    "df_ = pd.DataFrame(df_)"
   ]
  },
  {
   "cell_type": "code",
   "execution_count": null,
   "metadata": {},
   "outputs": [],
   "source": [
    "metric_renamer = {'roc': 'ROC AUC', 'cross_entropy': 'Cross entropy'\n",
    "                  , 'rank_roc': 'Mean ROC AUC Rank', 'rank_cross_entropy': 'Mean Cross entropy Rank'\n",
    "                  , 'wins_roc': 'Mean ROC AUC Wins', 'wins_cross_entropy': 'Mean Cross entropy Wins'\n",
    "                  , 'time': 'actual time taken'}\n",
    "max_times_renamer = {0.5: \"0.5s\", 1: \"1s\", 5: \"5s\", 15: \"15s\", 30: \"30s\", 60: \"1min\", 300: \"5min\", 900: \"15min\", 3600: \"1h\", 14400: \"4h\"}\n",
    "\n",
    "def make_tabular_results_plot(metric_key, exclude, max_times, df_, grouping=True):\n",
    "    f, ax = plt.subplots(figsize=(7, 7))\n",
    "    #ax.set(xscale=\"log\")\n",
    "    \n",
    "    df_.loc[:, 'time_log'] = np.log10(df_.time)\n",
    "    df_.loc[:, 'real_time_log'] = np.log10(df_.real_time)\n",
    "    time_column = 'time_log' if grouping else 'real_time_log'\n",
    "\n",
    "    sns.set_palette(\"tab10\")\n",
    "    for method in methods:\n",
    "        if method in exclude or method=='transformer':\n",
    "            continue\n",
    "        df_method = df_[df_.method==method].copy()\n",
    "        ax = sns.lineplot(time_column, 'metric'+metric_key, data=df_method, marker='o', label=method, ax=ax)\n",
    "    #sns.scatterplot(data=df_, x='time', y='metric', hue='method', ax=ax, style='method') #\n",
    "    df_trans = df_[df_.method=='transformer']\n",
    "    if time_column == 'real_time_log':\n",
    "        # Removing dots for line for transformers\n",
    "        df_trans = df_trans[np.logical_or(df_trans.real_time == df_trans.real_time.min(), df_trans.real_time == df_trans.real_time.max())]\n",
    "        df_trans.loc[:, 'metric'+metric_key] = df_trans['metric'+metric_key].mean()\n",
    "        df_trans.loc[:, time_column] = np.log(1) # Hacky code to get the right time from our measurements\n",
    "    ax = sns.lineplot(time_column, 'metric'+metric_key, data=df_trans, linestyle='--', marker='o', ci=\"sd\", ax=ax)\n",
    "    \n",
    "    #ax = sns.scatterplot(data = df_trans, x=time_column, y='metric'+metric_key, s=800, marker='*', color='grey') #\n",
    "    #ax = plt.scatter(df_trans[time_column], df_trans['metric'+metric_key], s=600, marker=['*']) #\n",
    "    \n",
    "    if grouping:\n",
    "        ax.set_xlabel(\"Time (s, requested, not actual)\")\n",
    "    else:\n",
    "        ax.set_xlabel(\"Time taken\")\n",
    "    ax.set_ylabel(metric_renamer[metric_key])\n",
    "\n",
    "    #ax.legend()\n",
    "    \n",
    "    times = np.log10(max_times)\n",
    "    ax.set_xticks(times)\n",
    "    ax.set_xticklabels([max_times_renamer[t] for t in max_times])\n",
    "    \n",
    "    #ax.legend([],[], frameon=False)\n",
    "    \n",
    "    return ax"
   ]
  },
  {
   "cell_type": "code",
   "execution_count": null,
   "metadata": {},
   "outputs": [],
   "source": [
    "df_absolute = df_.copy()"
   ]
  },
  {
   "cell_type": "code",
   "execution_count": null,
   "metadata": {},
   "outputs": [],
   "source": [
    "df_absolute = df_.copy()\n",
    "df_absolute = df_absolute[np.logical_or(df_.method != 'autogluon', df_.time >= 30)] # Autogluon did not yield any useful results before 30s\n",
    "\n",
    "knn_extend = df_absolute[np.logical_and(df_absolute.method=='knn', df_absolute.time == 3600)].copy()\n",
    "knn_extend['real_time'] = 14400\n",
    "knn_extend['time'] = 14400\n",
    "df_absolute = df_absolute.append(knn_extend, ignore_index=True).reindex()\n",
    "\n",
    "knn_extend = df_absolute[np.logical_and(df_absolute.method=='logistic', df_absolute.time == 3600)].copy()\n",
    "knn_extend['real_time'] = 14400\n",
    "knn_extend['time'] = 14400\n",
    "\n",
    "df_absolute = df_absolute.append(knn_extend, ignore_index=True).reindex()"
   ]
  },
  {
   "cell_type": "code",
   "execution_count": null,
   "metadata": {
    "tags": []
   },
   "outputs": [],
   "source": [
    "exclude=['']\n",
    "#ax = make_tabular_results_plot('time', exclude=exclude)\n",
    "ax = make_tabular_results_plot('roc', df_=df_absolute, exclude=exclude, grouping=False, max_times=[1, 5, 30, 60*5, 60*60])\n",
    "ax.set_ylim([0.84, 0.9])\n",
    "ax.set_xlim([np.log10(0.7), np.log10(3600)])\n",
    "ax.legend([],[], frameon=False)\n",
    "\n",
    "#tikzplotlib.save(f'roc_over_time.tex', axis_height='5cm', axis_width='6cm', strict=True)"
   ]
  },
  {
   "cell_type": "code",
   "execution_count": null,
   "metadata": {},
   "outputs": [],
   "source": [
    "ax = make_tabular_results_plot('rank_roc', df_=df_[df_.time >= 1].copy(), exclude=['tabnet'], max_times=[1, 5, 30, 60*5, 60*60])\n",
    "ax.invert_yaxis()\n",
    "ax.set_xlim([np.log10(1.0), np.log10(3600)])\n",
    "ax.legend([],[], frameon=False)\n",
    "tikzplotlib.save(f'roc_raks_tabular.tex', axis_height='5cm', axis_width='6cm', strict=True)"
   ]
  },
  {
   "cell_type": "code",
   "execution_count": null,
   "metadata": {},
   "outputs": [],
   "source": [
    "ax = make_tabular_results_plot('wins_roc', df_=df_[df_.time >= 1].copy(), exclude=exclude, max_times=[1, 5, 30, 60*5, 60*60])\n",
    "ax.set_xlim([np.log10(1.0), np.log10(3600)])\n",
    "ax.legend([],[], frameon=False)\n",
    "tikzplotlib.save(f'roc_wins_tabular.tex', axis_height='5cm', axis_width='6cm', strict=True)"
   ]
  },
  {
   "cell_type": "markdown",
   "metadata": {
    "tags": []
   },
   "source": [
    "#### Big Table metrics"
   ]
  },
  {
   "cell_type": "code",
   "execution_count": null,
   "metadata": {},
   "outputs": [],
   "source": [
    "max_time = '3600'"
   ]
  },
  {
   "cell_type": "code",
   "execution_count": null,
   "metadata": {},
   "outputs": [],
   "source": [
    "global_results_filtered = {**global_results}\n",
    "global_results_filtered = {k: global_results_filtered[k] for k in global_results_filtered.keys() if '_time_'+str(max_time)+tabular_baselines.get_scoring_string(metric_used, usage='')+'_' in k or 'transformer' in k}\n"
   ]
  },
  {
   "cell_type": "code",
   "execution_count": null,
   "metadata": {},
   "outputs": [],
   "source": [
    "roc_matrix, roc_matrix_stds = make_metric_matrix(global_results_filtered, methods, pos, 'roc', test_datasets_multiclass_filtered)\n",
    "acc_matrix, acc_matrix_stds = make_metric_matrix(global_results_filtered, methods, pos, 'acc', test_datasets_multiclass_filtered)\n",
    "cross_entropy_matrix, cross_entropy_matrix_stds = make_metric_matrix(global_results_filtered, methods, pos, 'cross_entropy', test_datasets_multiclass_filtered)\n",
    "time_matrix, time_matrix_stds = make_metric_matrix(global_results_filtered, methods, pos, 'time', test_datasets_multiclass_filtered)\n",
    "\n",
    "roc_rank, rocs_wins = make_ranks_and_wins_table(roc_matrix.copy())\n",
    "acc_rank, acc_wins = make_ranks_and_wins_table(acc_matrix.copy())\n",
    "cross_entropy_rank, cross_entropy_wins = make_ranks_and_wins_table(-cross_entropy_matrix.copy())"
   ]
  },
  {
   "cell_type": "code",
   "execution_count": null,
   "metadata": {},
   "outputs": [],
   "source": [
    "def wins_vs_idx(matrix, idx):\n",
    "    wins_auc = np.array([[(matrix.values[:, j] < matrix.values[:, i]).sum() if i != j else 0 for i,method in enumerate(methods)] for j in [idx]])\n",
    "    ties_auc = np.array([[(matrix.values[:, j] == matrix.values[:, i]).sum() if i != j else 0 for i,method in enumerate(methods)] for j in [idx]])\n",
    "    losses_auc = np.array([[(matrix.values[:, j] > matrix.values[:, i]).sum() if i != j else 0 for i,method in enumerate(methods)] for j in [idx]])\n",
    "    \n",
    "    return wins_auc, ties_auc, losses_auc\n",
    "\n",
    "transformer_idx = np.where(roc_matrix.columns == 'transformer')[0][0]\n",
    "\n",
    "wins_roc_vs_us, ties_roc_vs_us, losses_roc_vs_us = wins_vs_idx(roc_matrix, transformer_idx)\n",
    "wins_acc_vs_us, ties_acc_vs_us, losses_acc_vs_us = wins_vs_idx(acc_matrix, transformer_idx)\n",
    "wins_ce_vs_us, ties_ce_vs_us, losses_ce_vs_us = wins_vs_idx(-cross_entropy_matrix, transformer_idx)"
   ]
  },
  {
   "cell_type": "code",
   "execution_count": null,
   "metadata": {},
   "outputs": [],
   "source": [
    "def rename(table):\n",
    "    return table.rename(columns=relabeler).T.rename(columns={'blood-transfusion-service-center': 'blood-transfus..'\n",
    "                                                                , 'jungle_chess_2pcs_raw_endgame_complete': 'jungle\\_chess..', 'bank-marketing': 'bank-market..'}).T\n",
    "\n",
    "def get_suffix(i, k):\n",
    "    suffix = ''\n",
    "    suffix = suffix+'s' if test_datasets[i][5]['samples_capped'] == True else suffix\n",
    "    suffix = suffix+'f' if test_datasets[i][5]['feats_capped'] == True else suffix\n",
    "    suffix = suffix+'c' if test_datasets[i][5]['classes_capped'] == True else suffix\n",
    "    suffix = '' if len(suffix) == 0 else f' [{suffix}]'\n",
    "    \n",
    "    return k + suffix"
   ]
  },
  {
   "cell_type": "code",
   "execution_count": null,
   "metadata": {},
   "outputs": [],
   "source": [
    "relabeler = {'transformer': 'Tabular PFN'\n",
    "             , 'autogluon': 'Autogluon'\n",
    "             , 'autosklearn2': 'Autosklearn2'\n",
    "             , 'gp': 'GP (RBF)'\n",
    "             , 'logistic': 'Log. Regr.'\n",
    "             , 'knn': 'KNN'\n",
    "             , 'catboost': 'Catboost'\n",
    "            , 'xgb': 'XGB'}"
   ]
  },
  {
   "cell_type": "code",
   "execution_count": null,
   "metadata": {},
   "outputs": [],
   "source": [
    "table = roc_matrix.copy()\n",
    "#table = roc_ovr_matrix.copy()\n",
    "#table = acc_matrix.copy()\n",
    "#table = cross_entropy_matrix.copy()\n",
    "\n",
    "#table = table_acc\n",
    "table.index = [get_suffix(i, k) for i, k in enumerate(table.index[0:table.shape[0]])]\n",
    "\n",
    "table.loc['Wins AUC OVO'] = rocs_wins.values\n",
    "#table.loc['Mean AUC OVR'] = roc_ovr_matrix.mean(skipna=True)\n",
    "table.loc['Wins Acc.'] = acc_wins.values\n",
    "#table.loc['Mean Bal. Acc.'] = balanced_acc_matrix.mean()\n",
    "table.loc['Wins CE'] = cross_entropy_wins.values\n",
    "\n",
    "table.loc['Win/T/L AUC vs Us'] = [\"{:d}/{:d}/{:d}\".format(w, t, l) for w,t,l in zip(wins_roc_vs_us[-1, :], ties_roc_vs_us[-1, :], losses_roc_vs_us[-1, :])]\n",
    "table.loc['Win/T/L Acc vs Us'] = [\"{:d}/{:d}/{:d}\".format(w, t, l) for w,t,l in zip(wins_acc_vs_us[-1, :], ties_acc_vs_us[-1, :], losses_acc_vs_us[-1, :])]\n",
    "table.loc['Win/T/L CE vs Us'] = [\"{:d}/{:d}/{:d}\".format(w, t, l) for w,t,l in zip(wins_ce_vs_us[-1, :], ties_ce_vs_us[-1, :], losses_ce_vs_us[-1, :])]\n",
    "\n",
    "table.loc['Mean AUC OVO'] = roc_matrix.mean(skipna=True)\n",
    "table.loc['Mean AUC OVO Stds'] = roc_matrix_stds.mean(skipna=True)\n",
    "\n",
    "#table.loc['Mean AUC OVR'] = roc_ovr_matrix.mean(skipna=True)\n",
    "table.loc['Mean Acc.'] = acc_matrix.mean()\n",
    "table.loc['Mean Acc. Stds'] = acc_matrix_stds.mean(skipna=True)\n",
    "\n",
    "#table.loc['Mean Bal. Acc.'] = balanced_acc_matrix.mean()\n",
    "table.loc['Mean CE'] = cross_entropy_matrix.mean()\n",
    "table.loc['Mean CE Stds'] = cross_entropy_matrix_stds.mean()\n",
    "\n",
    "table.loc['M. rank AUC OVO'] = roc_rank.values\n",
    "#table.loc['Mean rank AUC OVR'] = roc_ovr_rank.values\n",
    "table.loc['Mean rank Acc.'] = acc_rank.values\n",
    "#table.loc['Mean rank Bal. Acc.'] = balanced_acc_rank.values\n",
    "table.loc['Mean rank CE'] = cross_entropy_rank.values\n",
    "\n",
    "table.loc['Mean time (s)'] = time_matrix.mean()\n",
    "table.loc['Mean time (s)', 'knn'] = 0.5\n",
    "table.loc['Mean time (s)', 'logistic'] = 60\n",
    "\n",
    "table = table[['knn', 'logistic', 'gp', 'catboost', 'xgb', 'autosklearn2', 'autogluon', 'transformer']]\n",
    "rename(table).round(decimals=3).style.highlight_max(axis = 1, props= 'font-weight: bold;').format(precision=3)"
   ]
  },
  {
   "cell_type": "code",
   "execution_count": null,
   "metadata": {},
   "outputs": [],
   "source": [
    "def bold_extreme_values(data, format_string=\"%.3g\", max_=True):\n",
    "    data = data.astype(float).round(3)\n",
    "    if max_:\n",
    "        extrema = data != data.max()\n",
    "    else:\n",
    "        extrema = data != data.min()\n",
    "    bolded = data.apply(lambda x : \"\\\\textbf{%s}\" % format_string % x)\n",
    "    formatted = data.apply(lambda x : format_string % x)\n",
    "    return formatted.where(extrema, bolded) \n",
    "\n",
    "def to_str(data, format_string=\"%.3g\"):\n",
    "    formatted = data.apply(lambda x : format_string % x)\n",
    "    return formatted"
   ]
  },
  {
   "cell_type": "code",
   "execution_count": null,
   "metadata": {},
   "outputs": [],
   "source": [
    "keys_max = [\"Mean rank CE\", \"Mean rank Acc.\", \"Mean rank AUC OVO\", \"Mean rank AUC OVR\", \"Mean rank Bal. Acc.\", \"Mean AUC OVO\", \"Mean Acc.\"]\n",
    "keys_max = [\"Mean AUC OVO\", \"Mean Acc.\", \"Wins AUC OVO\", \"Wins Acc.\", \"Wins CE\"]\n",
    "\n",
    "keys_min = [\"Mean rank CE\", \"Mean rank Acc.\", \"M. rank AUC OVO\", \"Mean CE\"]\n",
    "\n",
    "table_latex = rename(table).copy()\n",
    "\n",
    "table_latex.iloc[0:30] = table_latex.iloc[0:30].apply(lambda data : bold_extreme_values(data),axis=1)\n",
    "table_latex.loc[[\"Mean time (s)\"]] = table_latex.loc[[\"Mean time (s)\"]].apply(lambda data : bold_extreme_values(data, format_string=\"%.4g\", max_=False), axis=1)\n",
    "table_latex.loc[keys_max] = table_latex.loc[keys_max].apply(lambda data : bold_extreme_values(data),axis=1)\n",
    "table_latex.loc[keys_min] = table_latex.loc[keys_min].apply(lambda data : bold_extreme_values(data, max_=False),axis=1)\n",
    "\n",
    "table_latex.loc[['Mean CE Stds']] = table_latex.loc[['Mean CE Stds']].apply(lambda data : to_str(data, format_string=\"%.2g\"),axis=1)\n",
    "table_latex.loc['Mean CE'] = table_latex.loc['Mean CE'] + '$\\pm$' + table_latex.loc['Mean CE Stds']\n",
    "table_latex = table_latex.drop(['Mean CE Stds'])\n",
    "\n",
    "table_latex.loc[['Mean Acc. Stds']] = table_latex.loc[['Mean Acc. Stds']].apply(lambda data : to_str(data, format_string=\"%.2g\"),axis=1)\n",
    "table_latex.loc['Mean Acc.'] = table_latex.loc['Mean Acc.'] + '$\\pm$' + table_latex.loc['Mean Acc. Stds']\n",
    "table_latex = table_latex.drop(['Mean Acc. Stds'])\n",
    "\n",
    "table_latex.loc[['Mean AUC OVO Stds']] = table_latex.loc[['Mean AUC OVO Stds']].apply(lambda data : to_str(data, format_string=\"%.2g\"),axis=1)\n",
    "table_latex.loc['Mean AUC OVO'] = table_latex.loc['Mean AUC OVO'] + '$\\pm$' + table_latex.loc['Mean AUC OVO Stds']\n",
    "table_latex = table_latex.drop(['Mean AUC OVO Stds'])\n",
    "\n",
    "table_latex\n",
    "#print(table_latex.to_latex(escape=False))"
   ]
  },
  {
   "cell_type": "code",
   "execution_count": null,
   "metadata": {
    "tags": []
   },
   "outputs": [],
   "source": [
    "print(table_latex.to_latex(escape=False))"
   ]
  },
  {
   "cell_type": "code",
   "execution_count": null,
   "metadata": {},
   "outputs": [],
   "source": [
    "table_latex_small = table_latex.iloc[-len(keys_min+keys_max)-1-3:]\n",
    "table_latex_small"
   ]
  },
  {
   "cell_type": "code",
   "execution_count": null,
   "metadata": {},
   "outputs": [],
   "source": [
    "print(table_latex_small.to_latex(escape=False))"
   ]
  },
  {
   "cell_type": "code",
   "execution_count": null,
   "metadata": {},
   "outputs": [],
   "source": [
    "table_latex = table.copy()\n",
    "\n",
    "table_latex.iloc[:-5] = table_latex.iloc[:-5].apply(lambda data : bold_extreme_values(data),axis=1)\n",
    "table_latex.iloc[-5:-5] = table_latex.iloc[-5:-5].apply(lambda data : bold_extreme_values(data, max_=False),axis=1)\n",
    "\n",
    "table_latex\n",
    "#print(table_latex.to_latex(escape=False))"
   ]
  },
  {
   "cell_type": "code",
   "execution_count": null,
   "metadata": {},
   "outputs": [],
   "source": [
    "rename(table[-7:]).round(decimals=3).style.highlight_min(axis = 1, props= 'font-weight: bold;').format(precision=3)"
   ]
  }
 ],
 "metadata": {
  "kernelspec": {
   "display_name": "Python 3 (ipykernel)",
   "language": "python",
   "name": "python3"
  },
  "language_info": {
   "codemirror_mode": {
    "name": "ipython",
    "version": 3
   },
   "file_extension": ".py",
   "mimetype": "text/x-python",
   "name": "python",
   "nbconvert_exporter": "python",
   "pygments_lexer": "ipython3",
   "version": "3.7.15"
  },
  "toc": {
   "base_numbering": 1,
   "nav_menu": {},
   "number_sections": true,
   "sideBar": true,
   "skip_h1_title": false,
   "title_cell": "Table of Contents",
   "title_sidebar": "Contents",
   "toc_cell": false,
   "toc_position": {},
   "toc_section_display": true,
   "toc_window_display": false
  }
 },
 "nbformat": 4,
 "nbformat_minor": 4
}
